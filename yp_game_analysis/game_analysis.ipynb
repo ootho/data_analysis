{
 "cells": [
  {
   "attachments": {},
   "cell_type": "markdown",
   "metadata": {},
   "source": [
    "# Анализ продаж игр"
   ]
  },
  {
   "attachments": {},
   "cell_type": "markdown",
   "metadata": {},
   "source": [
    "Источник данных: https://www.kaggle.com/datasets/gregorut/videogamesales\n",
    "\n",
    "Из источника доступны исторические данные о продажах игр, оценки пользователей и экспертов, жанры и платформы до 2016 года. Необходимо спланировать кампанию на 2017-й год.\n",
    "\n",
    "**Цель исследования:**\n",
    "- выявить определяющие успешность игры закономерности, что позволит сделать ставку на потенциально популярный продукт и спланировать рекламные кампании.\n",
    "\n",
    "**Задачи и ход исследования:**\n",
    "- подготовить данные для работы;\n",
    "- проанализировать данные;\n",
    "- определить потенциально прибыльные платформы;\n",
    "- определить потенциально прибыльные жанры;\n",
    "- найти зависимость, если есть, между оценками игры и её продажами;\n",
    "- составить портрет пользователя каждого региона."
   ]
  },
  {
   "attachments": {},
   "cell_type": "markdown",
   "metadata": {
    "id": "r0Ht0W1XLRtT"
   },
   "source": [
    "# Загрузка датасета и подготовка данных"
   ]
  },
  {
   "attachments": {},
   "cell_type": "markdown",
   "metadata": {
    "id": "6OUCAdDBp6Cj"
   },
   "source": [
    "## Загрузка датасета и просмотр общей информации"
   ]
  },
  {
   "attachments": {},
   "cell_type": "markdown",
   "metadata": {},
   "source": [
    "Загрузим пакеты и датасет"
   ]
  },
  {
   "cell_type": "code",
   "execution_count": 311,
   "metadata": {
    "id": "JuZkYcHzpHb-"
   },
   "outputs": [],
   "source": [
    "import os\n",
    "from statistics import mean\n",
    "from scipy import stats\n",
    "import matplotlib.pyplot as plt\n",
    "\n",
    "import pandas as pd\n",
    "import seaborn as sns\n",
    "from pylab import rcParams\n",
    "\n",
    "import warnings\n",
    "warnings.simplefilter(action='ignore', category=FutureWarning)"
   ]
  },
  {
   "cell_type": "code",
   "execution_count": 312,
   "metadata": {},
   "outputs": [],
   "source": [
    "BASE_DIR = os.getcwd()\n",
    "\n",
    "df = pd.read_csv(f'{BASE_DIR}/datasets/games.csv')"
   ]
  },
  {
   "attachments": {},
   "cell_type": "markdown",
   "metadata": {},
   "source": [
    "Просмотрим общую информацию о датасете"
   ]
  },
  {
   "cell_type": "code",
   "execution_count": 313,
   "metadata": {
    "colab": {
     "base_uri": "https://localhost:8080/"
    },
    "id": "g__xK5TXq6Lg",
    "outputId": "20a83f7d-b2af-48c6-b496-85273880eb0f"
   },
   "outputs": [
    {
     "name": "stdout",
     "output_type": "stream",
     "text": [
      "<class 'pandas.core.frame.DataFrame'>\n",
      "RangeIndex: 16715 entries, 0 to 16714\n",
      "Data columns (total 11 columns):\n",
      " #   Column           Non-Null Count  Dtype  \n",
      "---  ------           --------------  -----  \n",
      " 0   Name             16713 non-null  object \n",
      " 1   Platform         16715 non-null  object \n",
      " 2   Year_of_Release  16446 non-null  float64\n",
      " 3   Genre            16713 non-null  object \n",
      " 4   NA_sales         16715 non-null  float64\n",
      " 5   EU_sales         16715 non-null  float64\n",
      " 6   JP_sales         16715 non-null  float64\n",
      " 7   Other_sales      16715 non-null  float64\n",
      " 8   Critic_Score     8137 non-null   float64\n",
      " 9   User_Score       10014 non-null  object \n",
      " 10  Rating           9949 non-null   object \n",
      "dtypes: float64(6), object(5)\n",
      "memory usage: 1.4+ MB\n"
     ]
    }
   ],
   "source": [
    "df.info()"
   ]
  },
  {
   "cell_type": "code",
   "execution_count": 314,
   "metadata": {
    "colab": {
     "base_uri": "https://localhost:8080/",
     "height": 442
    },
    "id": "5OLkapYLp1zE",
    "outputId": "daa49d6c-fb70-4f55-9c71-cd549dcbe894"
   },
   "outputs": [
    {
     "data": {
      "text/html": [
       "<div>\n",
       "<style scoped>\n",
       "    .dataframe tbody tr th:only-of-type {\n",
       "        vertical-align: middle;\n",
       "    }\n",
       "\n",
       "    .dataframe tbody tr th {\n",
       "        vertical-align: top;\n",
       "    }\n",
       "\n",
       "    .dataframe thead th {\n",
       "        text-align: right;\n",
       "    }\n",
       "</style>\n",
       "<table border=\"1\" class=\"dataframe\">\n",
       "  <thead>\n",
       "    <tr style=\"text-align: right;\">\n",
       "      <th></th>\n",
       "      <th>Name</th>\n",
       "      <th>Platform</th>\n",
       "      <th>Year_of_Release</th>\n",
       "      <th>Genre</th>\n",
       "      <th>NA_sales</th>\n",
       "      <th>EU_sales</th>\n",
       "      <th>JP_sales</th>\n",
       "      <th>Other_sales</th>\n",
       "      <th>Critic_Score</th>\n",
       "      <th>User_Score</th>\n",
       "      <th>Rating</th>\n",
       "    </tr>\n",
       "  </thead>\n",
       "  <tbody>\n",
       "    <tr>\n",
       "      <th>0</th>\n",
       "      <td>Wii Sports</td>\n",
       "      <td>Wii</td>\n",
       "      <td>2006.0</td>\n",
       "      <td>Sports</td>\n",
       "      <td>41.36</td>\n",
       "      <td>28.96</td>\n",
       "      <td>3.77</td>\n",
       "      <td>8.45</td>\n",
       "      <td>76.0</td>\n",
       "      <td>8</td>\n",
       "      <td>E</td>\n",
       "    </tr>\n",
       "    <tr>\n",
       "      <th>1</th>\n",
       "      <td>Super Mario Bros.</td>\n",
       "      <td>NES</td>\n",
       "      <td>1985.0</td>\n",
       "      <td>Platform</td>\n",
       "      <td>29.08</td>\n",
       "      <td>3.58</td>\n",
       "      <td>6.81</td>\n",
       "      <td>0.77</td>\n",
       "      <td>NaN</td>\n",
       "      <td>NaN</td>\n",
       "      <td>NaN</td>\n",
       "    </tr>\n",
       "    <tr>\n",
       "      <th>2</th>\n",
       "      <td>Mario Kart Wii</td>\n",
       "      <td>Wii</td>\n",
       "      <td>2008.0</td>\n",
       "      <td>Racing</td>\n",
       "      <td>15.68</td>\n",
       "      <td>12.76</td>\n",
       "      <td>3.79</td>\n",
       "      <td>3.29</td>\n",
       "      <td>82.0</td>\n",
       "      <td>8.3</td>\n",
       "      <td>E</td>\n",
       "    </tr>\n",
       "    <tr>\n",
       "      <th>3</th>\n",
       "      <td>Wii Sports Resort</td>\n",
       "      <td>Wii</td>\n",
       "      <td>2009.0</td>\n",
       "      <td>Sports</td>\n",
       "      <td>15.61</td>\n",
       "      <td>10.93</td>\n",
       "      <td>3.28</td>\n",
       "      <td>2.95</td>\n",
       "      <td>80.0</td>\n",
       "      <td>8</td>\n",
       "      <td>E</td>\n",
       "    </tr>\n",
       "    <tr>\n",
       "      <th>4</th>\n",
       "      <td>Pokemon Red/Pokemon Blue</td>\n",
       "      <td>GB</td>\n",
       "      <td>1996.0</td>\n",
       "      <td>Role-Playing</td>\n",
       "      <td>11.27</td>\n",
       "      <td>8.89</td>\n",
       "      <td>10.22</td>\n",
       "      <td>1.00</td>\n",
       "      <td>NaN</td>\n",
       "      <td>NaN</td>\n",
       "      <td>NaN</td>\n",
       "    </tr>\n",
       "    <tr>\n",
       "      <th>5</th>\n",
       "      <td>Tetris</td>\n",
       "      <td>GB</td>\n",
       "      <td>1989.0</td>\n",
       "      <td>Puzzle</td>\n",
       "      <td>23.20</td>\n",
       "      <td>2.26</td>\n",
       "      <td>4.22</td>\n",
       "      <td>0.58</td>\n",
       "      <td>NaN</td>\n",
       "      <td>NaN</td>\n",
       "      <td>NaN</td>\n",
       "    </tr>\n",
       "    <tr>\n",
       "      <th>6</th>\n",
       "      <td>New Super Mario Bros.</td>\n",
       "      <td>DS</td>\n",
       "      <td>2006.0</td>\n",
       "      <td>Platform</td>\n",
       "      <td>11.28</td>\n",
       "      <td>9.14</td>\n",
       "      <td>6.50</td>\n",
       "      <td>2.88</td>\n",
       "      <td>89.0</td>\n",
       "      <td>8.5</td>\n",
       "      <td>E</td>\n",
       "    </tr>\n",
       "    <tr>\n",
       "      <th>7</th>\n",
       "      <td>Wii Play</td>\n",
       "      <td>Wii</td>\n",
       "      <td>2006.0</td>\n",
       "      <td>Misc</td>\n",
       "      <td>13.96</td>\n",
       "      <td>9.18</td>\n",
       "      <td>2.93</td>\n",
       "      <td>2.84</td>\n",
       "      <td>58.0</td>\n",
       "      <td>6.6</td>\n",
       "      <td>E</td>\n",
       "    </tr>\n",
       "    <tr>\n",
       "      <th>8</th>\n",
       "      <td>New Super Mario Bros. Wii</td>\n",
       "      <td>Wii</td>\n",
       "      <td>2009.0</td>\n",
       "      <td>Platform</td>\n",
       "      <td>14.44</td>\n",
       "      <td>6.94</td>\n",
       "      <td>4.70</td>\n",
       "      <td>2.24</td>\n",
       "      <td>87.0</td>\n",
       "      <td>8.4</td>\n",
       "      <td>E</td>\n",
       "    </tr>\n",
       "    <tr>\n",
       "      <th>9</th>\n",
       "      <td>Duck Hunt</td>\n",
       "      <td>NES</td>\n",
       "      <td>1984.0</td>\n",
       "      <td>Shooter</td>\n",
       "      <td>26.93</td>\n",
       "      <td>0.63</td>\n",
       "      <td>0.28</td>\n",
       "      <td>0.47</td>\n",
       "      <td>NaN</td>\n",
       "      <td>NaN</td>\n",
       "      <td>NaN</td>\n",
       "    </tr>\n",
       "  </tbody>\n",
       "</table>\n",
       "</div>"
      ],
      "text/plain": [
       "                        Name Platform  Year_of_Release         Genre  \\\n",
       "0                 Wii Sports      Wii           2006.0        Sports   \n",
       "1          Super Mario Bros.      NES           1985.0      Platform   \n",
       "2             Mario Kart Wii      Wii           2008.0        Racing   \n",
       "3          Wii Sports Resort      Wii           2009.0        Sports   \n",
       "4   Pokemon Red/Pokemon Blue       GB           1996.0  Role-Playing   \n",
       "5                     Tetris       GB           1989.0        Puzzle   \n",
       "6      New Super Mario Bros.       DS           2006.0      Platform   \n",
       "7                   Wii Play      Wii           2006.0          Misc   \n",
       "8  New Super Mario Bros. Wii      Wii           2009.0      Platform   \n",
       "9                  Duck Hunt      NES           1984.0       Shooter   \n",
       "\n",
       "   NA_sales  EU_sales  JP_sales  Other_sales  Critic_Score User_Score Rating  \n",
       "0     41.36     28.96      3.77         8.45          76.0          8      E  \n",
       "1     29.08      3.58      6.81         0.77           NaN        NaN    NaN  \n",
       "2     15.68     12.76      3.79         3.29          82.0        8.3      E  \n",
       "3     15.61     10.93      3.28         2.95          80.0          8      E  \n",
       "4     11.27      8.89     10.22         1.00           NaN        NaN    NaN  \n",
       "5     23.20      2.26      4.22         0.58           NaN        NaN    NaN  \n",
       "6     11.28      9.14      6.50         2.88          89.0        8.5      E  \n",
       "7     13.96      9.18      2.93         2.84          58.0        6.6      E  \n",
       "8     14.44      6.94      4.70         2.24          87.0        8.4      E  \n",
       "9     26.93      0.63      0.28         0.47           NaN        NaN    NaN  "
      ]
     },
     "execution_count": 314,
     "metadata": {},
     "output_type": "execute_result"
    }
   ],
   "source": [
    "df.head(10)\n"
   ]
  },
  {
   "attachments": {},
   "cell_type": "markdown",
   "metadata": {},
   "source": [
    "**Описание данных:**  \n",
    "    \n",
    "`Name` - Название игры  \n",
    "`Platform` - Платформа, на которой вышла игра (например, PC, PS4 и т.д.)  \n",
    "`Year` - Год выпуска игры  \n",
    "`Genre` - Жанр игры  \n",
    "`Publisher` - Издатель игры  \n",
    "`NA_Sales` - Продажи в Северной Америке (в миллионах)  \n",
    "`EU_Sales` - Продажи в Европе (в миллионах)  \n",
    "`JP_Sales` - Продажи в Японии (в миллионах)  \n",
    "`Other_Sales` - Продажи в остальном мире (в миллионах)  \n",
    "`Critic_Score` - Оценка критиков  \n",
    "`User_Score` - Оценка пользователей  \n",
    "`Rating` - Возрастной рейтинг  "
   ]
  },
  {
   "attachments": {},
   "cell_type": "markdown",
   "metadata": {},
   "source": [
    "Названия столбцов в датасете не приведены к конвенциональному снейк_кейсу, исправим это."
   ]
  },
  {
   "attachments": {},
   "cell_type": "markdown",
   "metadata": {
    "id": "hFkAIsN60sFY"
   },
   "source": [
    "## Изменение регистра заголовков столбцов"
   ]
  },
  {
   "cell_type": "code",
   "execution_count": 315,
   "metadata": {
    "colab": {
     "base_uri": "https://localhost:8080/"
    },
    "id": "JnCSLxbstZzc",
    "outputId": "879d987a-d647-4971-ffb0-37f8a9306ec5"
   },
   "outputs": [
    {
     "data": {
      "text/plain": [
       "Index(['name', 'platform', 'year_of_release', 'genre', 'na_sales', 'eu_sales',\n",
       "       'jp_sales', 'other_sales', 'critic_score', 'user_score', 'rating'],\n",
       "      dtype='object')"
      ]
     },
     "execution_count": 315,
     "metadata": {},
     "output_type": "execute_result"
    }
   ],
   "source": [
    "df.columns = df.columns.str.lower()\n",
    "df.columns"
   ]
  },
  {
   "attachments": {},
   "cell_type": "markdown",
   "metadata": {
    "id": "r6NMdOzS_6Nf"
   },
   "source": [
    "## Заполнение пропусков"
   ]
  },
  {
   "attachments": {},
   "cell_type": "markdown",
   "metadata": {
    "id": "wuScw5QpCar6"
   },
   "source": [
    "Проверим в каких столбцах есть пропуски."
   ]
  },
  {
   "cell_type": "code",
   "execution_count": 316,
   "metadata": {
    "colab": {
     "base_uri": "https://localhost:8080/"
    },
    "id": "yE6h1htQ_6eo",
    "outputId": "977af322-4667-4122-a467-d7f374982024"
   },
   "outputs": [
    {
     "data": {
      "text/plain": [
       "name                  2\n",
       "platform              0\n",
       "year_of_release     269\n",
       "genre                 2\n",
       "na_sales              0\n",
       "eu_sales              0\n",
       "jp_sales              0\n",
       "other_sales           0\n",
       "critic_score       8578\n",
       "user_score         6701\n",
       "rating             6766\n",
       "dtype: int64"
      ]
     },
     "execution_count": 316,
     "metadata": {},
     "output_type": "execute_result"
    }
   ],
   "source": [
    "df.isna().sum()"
   ]
  },
  {
   "attachments": {},
   "cell_type": "markdown",
   "metadata": {
    "id": "Y9VvDhZQCY8c"
   },
   "source": [
    "В датасете достаточно много пропусков, даже есть две строки в которых не указано имя игры, взглянем на них."
   ]
  },
  {
   "cell_type": "code",
   "execution_count": 317,
   "metadata": {
    "colab": {
     "base_uri": "https://localhost:8080/",
     "height": 112
    },
    "id": "VoXZziLx_7Nf",
    "outputId": "57238f00-159f-4da4-b302-2076b4aead5e"
   },
   "outputs": [
    {
     "data": {
      "text/html": [
       "<div>\n",
       "<style scoped>\n",
       "    .dataframe tbody tr th:only-of-type {\n",
       "        vertical-align: middle;\n",
       "    }\n",
       "\n",
       "    .dataframe tbody tr th {\n",
       "        vertical-align: top;\n",
       "    }\n",
       "\n",
       "    .dataframe thead th {\n",
       "        text-align: right;\n",
       "    }\n",
       "</style>\n",
       "<table border=\"1\" class=\"dataframe\">\n",
       "  <thead>\n",
       "    <tr style=\"text-align: right;\">\n",
       "      <th></th>\n",
       "      <th>name</th>\n",
       "      <th>platform</th>\n",
       "      <th>year_of_release</th>\n",
       "      <th>genre</th>\n",
       "      <th>na_sales</th>\n",
       "      <th>eu_sales</th>\n",
       "      <th>jp_sales</th>\n",
       "      <th>other_sales</th>\n",
       "      <th>critic_score</th>\n",
       "      <th>user_score</th>\n",
       "      <th>rating</th>\n",
       "    </tr>\n",
       "  </thead>\n",
       "  <tbody>\n",
       "    <tr>\n",
       "      <th>659</th>\n",
       "      <td>NaN</td>\n",
       "      <td>GEN</td>\n",
       "      <td>1993.0</td>\n",
       "      <td>NaN</td>\n",
       "      <td>1.78</td>\n",
       "      <td>0.53</td>\n",
       "      <td>0.00</td>\n",
       "      <td>0.08</td>\n",
       "      <td>NaN</td>\n",
       "      <td>NaN</td>\n",
       "      <td>NaN</td>\n",
       "    </tr>\n",
       "    <tr>\n",
       "      <th>14244</th>\n",
       "      <td>NaN</td>\n",
       "      <td>GEN</td>\n",
       "      <td>1993.0</td>\n",
       "      <td>NaN</td>\n",
       "      <td>0.00</td>\n",
       "      <td>0.00</td>\n",
       "      <td>0.03</td>\n",
       "      <td>0.00</td>\n",
       "      <td>NaN</td>\n",
       "      <td>NaN</td>\n",
       "      <td>NaN</td>\n",
       "    </tr>\n",
       "  </tbody>\n",
       "</table>\n",
       "</div>"
      ],
      "text/plain": [
       "      name platform  year_of_release genre  na_sales  eu_sales  jp_sales  \\\n",
       "659    NaN      GEN           1993.0   NaN      1.78      0.53      0.00   \n",
       "14244  NaN      GEN           1993.0   NaN      0.00      0.00      0.03   \n",
       "\n",
       "       other_sales  critic_score user_score rating  \n",
       "659           0.08           NaN        NaN    NaN  \n",
       "14244         0.00           NaN        NaN    NaN  "
      ]
     },
     "execution_count": 317,
     "metadata": {},
     "output_type": "execute_result"
    }
   ],
   "source": [
    "df[df['name'].isna()]"
   ]
  },
  {
   "attachments": {},
   "cell_type": "markdown",
   "metadata": {
    "id": "r8vslE4jbZhF"
   },
   "source": [
    "Мы не можем заполнить данные в этих строках, но можем удалить их. Также проверим какую долю от общего объёма данных занимают остальные пропуски."
   ]
  },
  {
   "cell_type": "code",
   "execution_count": 318,
   "metadata": {},
   "outputs": [
    {
     "data": {
      "text/html": [
       "<style type=\"text/css\">\n",
       "#T_684ef_row0_col0, #T_684ef_row1_col0, #T_684ef_row3_col0, #T_684ef_row4_col0, #T_684ef_row5_col0, #T_684ef_row6_col0, #T_684ef_row7_col0 {\n",
       "  background-color: #3b4cc0;\n",
       "  color: #f1f1f1;\n",
       "}\n",
       "#T_684ef_row2_col0 {\n",
       "  background-color: #4358cb;\n",
       "  color: #f1f1f1;\n",
       "}\n",
       "#T_684ef_row8_col0 {\n",
       "  background-color: #b40426;\n",
       "  color: #f1f1f1;\n",
       "}\n",
       "#T_684ef_row9_col0 {\n",
       "  background-color: #f08b6e;\n",
       "  color: #f1f1f1;\n",
       "}\n",
       "#T_684ef_row10_col0 {\n",
       "  background-color: #ef886b;\n",
       "  color: #f1f1f1;\n",
       "}\n",
       "</style>\n",
       "<table id=\"T_684ef\">\n",
       "  <thead>\n",
       "    <tr>\n",
       "      <th class=\"blank level0\" >&nbsp;</th>\n",
       "      <th id=\"T_684ef_level0_col0\" class=\"col_heading level0 col0\" >0</th>\n",
       "    </tr>\n",
       "  </thead>\n",
       "  <tbody>\n",
       "    <tr>\n",
       "      <th id=\"T_684ef_level0_row0\" class=\"row_heading level0 row0\" >name</th>\n",
       "      <td id=\"T_684ef_row0_col0\" class=\"data row0 col0\" >0.000000</td>\n",
       "    </tr>\n",
       "    <tr>\n",
       "      <th id=\"T_684ef_level0_row1\" class=\"row_heading level0 row1\" >platform</th>\n",
       "      <td id=\"T_684ef_row1_col0\" class=\"data row1 col0\" >0.000000</td>\n",
       "    </tr>\n",
       "    <tr>\n",
       "      <th id=\"T_684ef_level0_row2\" class=\"row_heading level0 row2\" >year_of_release</th>\n",
       "      <td id=\"T_684ef_row2_col0\" class=\"data row2 col0\" >1.600000</td>\n",
       "    </tr>\n",
       "    <tr>\n",
       "      <th id=\"T_684ef_level0_row3\" class=\"row_heading level0 row3\" >genre</th>\n",
       "      <td id=\"T_684ef_row3_col0\" class=\"data row3 col0\" >0.000000</td>\n",
       "    </tr>\n",
       "    <tr>\n",
       "      <th id=\"T_684ef_level0_row4\" class=\"row_heading level0 row4\" >na_sales</th>\n",
       "      <td id=\"T_684ef_row4_col0\" class=\"data row4 col0\" >0.000000</td>\n",
       "    </tr>\n",
       "    <tr>\n",
       "      <th id=\"T_684ef_level0_row5\" class=\"row_heading level0 row5\" >eu_sales</th>\n",
       "      <td id=\"T_684ef_row5_col0\" class=\"data row5 col0\" >0.000000</td>\n",
       "    </tr>\n",
       "    <tr>\n",
       "      <th id=\"T_684ef_level0_row6\" class=\"row_heading level0 row6\" >jp_sales</th>\n",
       "      <td id=\"T_684ef_row6_col0\" class=\"data row6 col0\" >0.000000</td>\n",
       "    </tr>\n",
       "    <tr>\n",
       "      <th id=\"T_684ef_level0_row7\" class=\"row_heading level0 row7\" >other_sales</th>\n",
       "      <td id=\"T_684ef_row7_col0\" class=\"data row7 col0\" >0.000000</td>\n",
       "    </tr>\n",
       "    <tr>\n",
       "      <th id=\"T_684ef_level0_row8\" class=\"row_heading level0 row8\" >critic_score</th>\n",
       "      <td id=\"T_684ef_row8_col0\" class=\"data row8 col0\" >51.300000</td>\n",
       "    </tr>\n",
       "    <tr>\n",
       "      <th id=\"T_684ef_level0_row9\" class=\"row_heading level0 row9\" >user_score</th>\n",
       "      <td id=\"T_684ef_row9_col0\" class=\"data row9 col0\" >40.100000</td>\n",
       "    </tr>\n",
       "    <tr>\n",
       "      <th id=\"T_684ef_level0_row10\" class=\"row_heading level0 row10\" >rating</th>\n",
       "      <td id=\"T_684ef_row10_col0\" class=\"data row10 col0\" >40.500000</td>\n",
       "    </tr>\n",
       "  </tbody>\n",
       "</table>\n"
      ],
      "text/plain": [
       "<pandas.io.formats.style.Styler at 0x1bacda81520>"
      ]
     },
     "execution_count": 318,
     "metadata": {},
     "output_type": "execute_result"
    }
   ],
   "source": [
    "pd.DataFrame(round(df.isna().mean()*100, 1)).style.background_gradient('coolwarm')\n"
   ]
  },
  {
   "attachments": {},
   "cell_type": "markdown",
   "metadata": {},
   "source": [
    "Помимо пропусков в столбце с именем также можно удалить пропуске в столбце с годом выпуска игр (<5% от общего количества данных)."
   ]
  },
  {
   "cell_type": "code",
   "execution_count": 319,
   "metadata": {
    "colab": {
     "base_uri": "https://localhost:8080/"
    },
    "id": "VNSp3fYk_7c4",
    "outputId": "d9c7a367-7a4a-46c7-a868-e1c79b685096"
   },
   "outputs": [
    {
     "data": {
      "text/plain": [
       "name                  0\n",
       "platform              0\n",
       "year_of_release       0\n",
       "genre                 0\n",
       "na_sales              0\n",
       "eu_sales              0\n",
       "jp_sales              0\n",
       "other_sales           0\n",
       "critic_score       8461\n",
       "user_score         6605\n",
       "rating             6676\n",
       "dtype: int64"
      ]
     },
     "execution_count": 319,
     "metadata": {},
     "output_type": "execute_result"
    }
   ],
   "source": [
    "df = df.dropna(subset=['name', 'year_of_release'])\n",
    "df.isna().sum()\n"
   ]
  },
  {
   "attachments": {},
   "cell_type": "markdown",
   "metadata": {
    "id": "rQofte9jC18L"
   },
   "source": [
    "Что касается пропусков в остальных столбцах, мы не можем самостоятельно заполнить данные ни по оценкам критиков и пользователей, ни по рейтингу.  \n",
    "Оставляем данные как есть."
   ]
  },
  {
   "attachments": {},
   "cell_type": "markdown",
   "metadata": {
    "id": "I5uFPwPx_7nk"
   },
   "source": [
    "## Поиск и замена дубликатов"
   ]
  },
  {
   "attachments": {},
   "cell_type": "markdown",
   "metadata": {
    "id": "toaBsrwgGPkD"
   },
   "source": [
    "В первую очередь нас интересуют дубликаты в столбце `name`.  \n",
    "Посмотрим сколько в столбце полных дубликатов."
   ]
  },
  {
   "cell_type": "code",
   "execution_count": 320,
   "metadata": {
    "colab": {
     "base_uri": "https://localhost:8080/"
    },
    "id": "Ivp3MgrrFVhv",
    "outputId": "6a450e7f-9265-408d-c28d-a817ddb2b298"
   },
   "outputs": [
    {
     "data": {
      "text/plain": [
       "5018"
      ]
     },
     "execution_count": 320,
     "metadata": {},
     "output_type": "execute_result"
    }
   ],
   "source": [
    "df['name'].duplicated().sum()\n"
   ]
  },
  {
   "attachments": {},
   "cell_type": "markdown",
   "metadata": {
    "id": "yNNt-Ph1GuHZ"
   },
   "source": [
    "Дубликаты есть и их достаточно много."
   ]
  },
  {
   "cell_type": "code",
   "execution_count": 321,
   "metadata": {
    "colab": {
     "base_uri": "https://localhost:8080/",
     "height": 485
    },
    "id": "P31G_QpNGtqh",
    "outputId": "5e391356-1252-4bc0-e91c-da1fe674be3e"
   },
   "outputs": [
    {
     "data": {
      "text/html": [
       "<div>\n",
       "<style scoped>\n",
       "    .dataframe tbody tr th:only-of-type {\n",
       "        vertical-align: middle;\n",
       "    }\n",
       "\n",
       "    .dataframe tbody tr th {\n",
       "        vertical-align: top;\n",
       "    }\n",
       "\n",
       "    .dataframe thead th {\n",
       "        text-align: right;\n",
       "    }\n",
       "</style>\n",
       "<table border=\"1\" class=\"dataframe\">\n",
       "  <thead>\n",
       "    <tr style=\"text-align: right;\">\n",
       "      <th></th>\n",
       "      <th>name</th>\n",
       "      <th>platform</th>\n",
       "      <th>year_of_release</th>\n",
       "      <th>genre</th>\n",
       "      <th>na_sales</th>\n",
       "      <th>eu_sales</th>\n",
       "      <th>jp_sales</th>\n",
       "      <th>other_sales</th>\n",
       "      <th>critic_score</th>\n",
       "      <th>user_score</th>\n",
       "      <th>rating</th>\n",
       "    </tr>\n",
       "  </thead>\n",
       "  <tbody>\n",
       "    <tr>\n",
       "      <th>3862</th>\n",
       "      <td>Frozen: Olaf's Quest</td>\n",
       "      <td>DS</td>\n",
       "      <td>2013.0</td>\n",
       "      <td>Platform</td>\n",
       "      <td>0.21</td>\n",
       "      <td>0.26</td>\n",
       "      <td>0.00</td>\n",
       "      <td>0.04</td>\n",
       "      <td>NaN</td>\n",
       "      <td>NaN</td>\n",
       "      <td>NaN</td>\n",
       "    </tr>\n",
       "    <tr>\n",
       "      <th>1785</th>\n",
       "      <td>007: Quantum of Solace</td>\n",
       "      <td>PS3</td>\n",
       "      <td>2008.0</td>\n",
       "      <td>Action</td>\n",
       "      <td>0.43</td>\n",
       "      <td>0.51</td>\n",
       "      <td>0.02</td>\n",
       "      <td>0.19</td>\n",
       "      <td>65.0</td>\n",
       "      <td>6.6</td>\n",
       "      <td>T</td>\n",
       "    </tr>\n",
       "    <tr>\n",
       "      <th>14658</th>\n",
       "      <td>007: Quantum of Solace</td>\n",
       "      <td>PC</td>\n",
       "      <td>2008.0</td>\n",
       "      <td>Action</td>\n",
       "      <td>0.01</td>\n",
       "      <td>0.01</td>\n",
       "      <td>0.00</td>\n",
       "      <td>0.00</td>\n",
       "      <td>70.0</td>\n",
       "      <td>6.3</td>\n",
       "      <td>T</td>\n",
       "    </tr>\n",
       "    <tr>\n",
       "      <th>3120</th>\n",
       "      <td>007: Quantum of Solace</td>\n",
       "      <td>Wii</td>\n",
       "      <td>2008.0</td>\n",
       "      <td>Action</td>\n",
       "      <td>0.29</td>\n",
       "      <td>0.28</td>\n",
       "      <td>0.01</td>\n",
       "      <td>0.07</td>\n",
       "      <td>54.0</td>\n",
       "      <td>7.5</td>\n",
       "      <td>T</td>\n",
       "    </tr>\n",
       "    <tr>\n",
       "      <th>9507</th>\n",
       "      <td>007: Quantum of Solace</td>\n",
       "      <td>DS</td>\n",
       "      <td>2008.0</td>\n",
       "      <td>Action</td>\n",
       "      <td>0.11</td>\n",
       "      <td>0.01</td>\n",
       "      <td>0.00</td>\n",
       "      <td>0.01</td>\n",
       "      <td>65.0</td>\n",
       "      <td>tbd</td>\n",
       "      <td>T</td>\n",
       "    </tr>\n",
       "    <tr>\n",
       "      <th>...</th>\n",
       "      <td>...</td>\n",
       "      <td>...</td>\n",
       "      <td>...</td>\n",
       "      <td>...</td>\n",
       "      <td>...</td>\n",
       "      <td>...</td>\n",
       "      <td>...</td>\n",
       "      <td>...</td>\n",
       "      <td>...</td>\n",
       "      <td>...</td>\n",
       "      <td>...</td>\n",
       "    </tr>\n",
       "    <tr>\n",
       "      <th>3304</th>\n",
       "      <td>pro evolution soccer 2011</td>\n",
       "      <td>X360</td>\n",
       "      <td>2010.0</td>\n",
       "      <td>Sports</td>\n",
       "      <td>0.09</td>\n",
       "      <td>0.44</td>\n",
       "      <td>0.00</td>\n",
       "      <td>0.07</td>\n",
       "      <td>79.0</td>\n",
       "      <td>5.9</td>\n",
       "      <td>E</td>\n",
       "    </tr>\n",
       "    <tr>\n",
       "      <th>4664</th>\n",
       "      <td>pro evolution soccer 2011</td>\n",
       "      <td>PS2</td>\n",
       "      <td>2010.0</td>\n",
       "      <td>Sports</td>\n",
       "      <td>0.04</td>\n",
       "      <td>0.21</td>\n",
       "      <td>0.05</td>\n",
       "      <td>0.11</td>\n",
       "      <td>NaN</td>\n",
       "      <td>6.7</td>\n",
       "      <td>E</td>\n",
       "    </tr>\n",
       "    <tr>\n",
       "      <th>2583</th>\n",
       "      <td>pro evolution soccer 2011</td>\n",
       "      <td>PSP</td>\n",
       "      <td>2010.0</td>\n",
       "      <td>Sports</td>\n",
       "      <td>0.05</td>\n",
       "      <td>0.30</td>\n",
       "      <td>0.29</td>\n",
       "      <td>0.16</td>\n",
       "      <td>74.0</td>\n",
       "      <td>5.8</td>\n",
       "      <td>E</td>\n",
       "    </tr>\n",
       "    <tr>\n",
       "      <th>12648</th>\n",
       "      <td>pro evolution soccer 2011</td>\n",
       "      <td>PC</td>\n",
       "      <td>2010.0</td>\n",
       "      <td>Sports</td>\n",
       "      <td>0.00</td>\n",
       "      <td>0.05</td>\n",
       "      <td>0.00</td>\n",
       "      <td>0.01</td>\n",
       "      <td>79.0</td>\n",
       "      <td>NaN</td>\n",
       "      <td>NaN</td>\n",
       "    </tr>\n",
       "    <tr>\n",
       "      <th>15612</th>\n",
       "      <td>uDraw Studio: Instant Artist</td>\n",
       "      <td>X360</td>\n",
       "      <td>2011.0</td>\n",
       "      <td>Misc</td>\n",
       "      <td>0.01</td>\n",
       "      <td>0.01</td>\n",
       "      <td>0.00</td>\n",
       "      <td>0.00</td>\n",
       "      <td>54.0</td>\n",
       "      <td>5.7</td>\n",
       "      <td>E</td>\n",
       "    </tr>\n",
       "  </tbody>\n",
       "</table>\n",
       "<p>5018 rows × 11 columns</p>\n",
       "</div>"
      ],
      "text/plain": [
       "                               name platform  year_of_release     genre  \\\n",
       "3862           Frozen: Olaf's Quest       DS           2013.0  Platform   \n",
       "1785         007: Quantum of Solace      PS3           2008.0    Action   \n",
       "14658        007: Quantum of Solace       PC           2008.0    Action   \n",
       "3120         007: Quantum of Solace      Wii           2008.0    Action   \n",
       "9507         007: Quantum of Solace       DS           2008.0    Action   \n",
       "...                             ...      ...              ...       ...   \n",
       "3304      pro evolution soccer 2011     X360           2010.0    Sports   \n",
       "4664      pro evolution soccer 2011      PS2           2010.0    Sports   \n",
       "2583      pro evolution soccer 2011      PSP           2010.0    Sports   \n",
       "12648     pro evolution soccer 2011       PC           2010.0    Sports   \n",
       "15612  uDraw Studio: Instant Artist     X360           2011.0      Misc   \n",
       "\n",
       "       na_sales  eu_sales  jp_sales  other_sales  critic_score user_score  \\\n",
       "3862       0.21      0.26      0.00         0.04           NaN        NaN   \n",
       "1785       0.43      0.51      0.02         0.19          65.0        6.6   \n",
       "14658      0.01      0.01      0.00         0.00          70.0        6.3   \n",
       "3120       0.29      0.28      0.01         0.07          54.0        7.5   \n",
       "9507       0.11      0.01      0.00         0.01          65.0        tbd   \n",
       "...         ...       ...       ...          ...           ...        ...   \n",
       "3304       0.09      0.44      0.00         0.07          79.0        5.9   \n",
       "4664       0.04      0.21      0.05         0.11           NaN        6.7   \n",
       "2583       0.05      0.30      0.29         0.16          74.0        5.8   \n",
       "12648      0.00      0.05      0.00         0.01          79.0        NaN   \n",
       "15612      0.01      0.01      0.00         0.00          54.0        5.7   \n",
       "\n",
       "      rating  \n",
       "3862     NaN  \n",
       "1785       T  \n",
       "14658      T  \n",
       "3120       T  \n",
       "9507       T  \n",
       "...      ...  \n",
       "3304       E  \n",
       "4664       E  \n",
       "2583       E  \n",
       "12648    NaN  \n",
       "15612      E  \n",
       "\n",
       "[5018 rows x 11 columns]"
      ]
     },
     "execution_count": 321,
     "metadata": {},
     "output_type": "execute_result"
    }
   ],
   "source": [
    "df[df['name'].duplicated()].sort_values('name')\n"
   ]
  },
  {
   "attachments": {},
   "cell_type": "markdown",
   "metadata": {
    "id": "OP5p67dYHhuS"
   },
   "source": [
    "Дубликаты, как мы видим, вызваны тем, что одна игра может выходить на различных платформах. Также было обнаружено, что у игры вышедшей на различных платформах в некоторых случаях может стоять значение в столбце `rating` или быть пропущено. Сделаем допущение, что одна игра на различных платформах имеет один возрастной рейтинг и заполним пропуски."
   ]
  },
  {
   "attachments": {},
   "cell_type": "markdown",
   "metadata": {
    "id": "_WSrFflRKuML"
   },
   "source": [
    "Проверим дубликаты по двум столбцам `name` и `platfrom`"
   ]
  },
  {
   "cell_type": "code",
   "execution_count": 322,
   "metadata": {
    "colab": {
     "base_uri": "https://localhost:8080/"
    },
    "id": "wav7vJLIe59r",
    "outputId": "1f83a7c6-ce01-4eb8-8673-dfce0e4b0c34"
   },
   "outputs": [
    {
     "name": "stdout",
     "output_type": "stream",
     "text": [
      "До заполнения пропусков в столбце rating 6676 пропусков\n"
     ]
    }
   ],
   "source": [
    "rating_na = df['rating'].isna().sum()\n",
    "print(f'До заполнения пропусков в столбце rating {rating_na} пропусков')"
   ]
  },
  {
   "attachments": {},
   "cell_type": "markdown",
   "metadata": {
    "id": "t_E-jICiFVvN"
   },
   "source": [
    "Теперь заменим пропуски в рейтингах, там где есть данные по игре на другой платформе."
   ]
  },
  {
   "cell_type": "code",
   "execution_count": 323,
   "metadata": {},
   "outputs": [],
   "source": [
    "# создаём копию df без пропусокв в rating\n",
    "d_filtered = df[~df['rating'].isna()].drop_duplicates('name')\n",
    "\n",
    "# заменяем пропуски в rating значениями других платформ\n",
    "mask = df['rating'].isna()\n",
    "df.loc[mask, 'rating'] = df[mask]['name'].map(d_filtered.set_index('name')['rating'])"
   ]
  },
  {
   "attachments": {},
   "cell_type": "markdown",
   "metadata": {},
   "source": [
    "Оценим результат заполнения пропусков"
   ]
  },
  {
   "cell_type": "code",
   "execution_count": 324,
   "metadata": {
    "colab": {
     "base_uri": "https://localhost:8080/",
     "height": 485
    },
    "id": "5W0s8gTqLiEc",
    "outputId": "71f2b122-7f42-4e4c-d90a-b748453e9818"
   },
   "outputs": [
    {
     "data": {
      "text/html": [
       "<div>\n",
       "<style scoped>\n",
       "    .dataframe tbody tr th:only-of-type {\n",
       "        vertical-align: middle;\n",
       "    }\n",
       "\n",
       "    .dataframe tbody tr th {\n",
       "        vertical-align: top;\n",
       "    }\n",
       "\n",
       "    .dataframe thead th {\n",
       "        text-align: right;\n",
       "    }\n",
       "</style>\n",
       "<table border=\"1\" class=\"dataframe\">\n",
       "  <thead>\n",
       "    <tr style=\"text-align: right;\">\n",
       "      <th></th>\n",
       "      <th>name</th>\n",
       "      <th>platform</th>\n",
       "      <th>year_of_release</th>\n",
       "      <th>genre</th>\n",
       "      <th>na_sales</th>\n",
       "      <th>eu_sales</th>\n",
       "      <th>jp_sales</th>\n",
       "      <th>other_sales</th>\n",
       "      <th>critic_score</th>\n",
       "      <th>user_score</th>\n",
       "      <th>rating</th>\n",
       "    </tr>\n",
       "  </thead>\n",
       "  <tbody>\n",
       "    <tr>\n",
       "      <th>3862</th>\n",
       "      <td>Frozen: Olaf's Quest</td>\n",
       "      <td>DS</td>\n",
       "      <td>2013.0</td>\n",
       "      <td>Platform</td>\n",
       "      <td>0.21</td>\n",
       "      <td>0.26</td>\n",
       "      <td>0.00</td>\n",
       "      <td>0.04</td>\n",
       "      <td>NaN</td>\n",
       "      <td>NaN</td>\n",
       "      <td>NaN</td>\n",
       "    </tr>\n",
       "    <tr>\n",
       "      <th>1785</th>\n",
       "      <td>007: Quantum of Solace</td>\n",
       "      <td>PS3</td>\n",
       "      <td>2008.0</td>\n",
       "      <td>Action</td>\n",
       "      <td>0.43</td>\n",
       "      <td>0.51</td>\n",
       "      <td>0.02</td>\n",
       "      <td>0.19</td>\n",
       "      <td>65.0</td>\n",
       "      <td>6.6</td>\n",
       "      <td>T</td>\n",
       "    </tr>\n",
       "    <tr>\n",
       "      <th>14658</th>\n",
       "      <td>007: Quantum of Solace</td>\n",
       "      <td>PC</td>\n",
       "      <td>2008.0</td>\n",
       "      <td>Action</td>\n",
       "      <td>0.01</td>\n",
       "      <td>0.01</td>\n",
       "      <td>0.00</td>\n",
       "      <td>0.00</td>\n",
       "      <td>70.0</td>\n",
       "      <td>6.3</td>\n",
       "      <td>T</td>\n",
       "    </tr>\n",
       "    <tr>\n",
       "      <th>3120</th>\n",
       "      <td>007: Quantum of Solace</td>\n",
       "      <td>Wii</td>\n",
       "      <td>2008.0</td>\n",
       "      <td>Action</td>\n",
       "      <td>0.29</td>\n",
       "      <td>0.28</td>\n",
       "      <td>0.01</td>\n",
       "      <td>0.07</td>\n",
       "      <td>54.0</td>\n",
       "      <td>7.5</td>\n",
       "      <td>T</td>\n",
       "    </tr>\n",
       "    <tr>\n",
       "      <th>9507</th>\n",
       "      <td>007: Quantum of Solace</td>\n",
       "      <td>DS</td>\n",
       "      <td>2008.0</td>\n",
       "      <td>Action</td>\n",
       "      <td>0.11</td>\n",
       "      <td>0.01</td>\n",
       "      <td>0.00</td>\n",
       "      <td>0.01</td>\n",
       "      <td>65.0</td>\n",
       "      <td>tbd</td>\n",
       "      <td>T</td>\n",
       "    </tr>\n",
       "    <tr>\n",
       "      <th>...</th>\n",
       "      <td>...</td>\n",
       "      <td>...</td>\n",
       "      <td>...</td>\n",
       "      <td>...</td>\n",
       "      <td>...</td>\n",
       "      <td>...</td>\n",
       "      <td>...</td>\n",
       "      <td>...</td>\n",
       "      <td>...</td>\n",
       "      <td>...</td>\n",
       "      <td>...</td>\n",
       "    </tr>\n",
       "    <tr>\n",
       "      <th>3304</th>\n",
       "      <td>pro evolution soccer 2011</td>\n",
       "      <td>X360</td>\n",
       "      <td>2010.0</td>\n",
       "      <td>Sports</td>\n",
       "      <td>0.09</td>\n",
       "      <td>0.44</td>\n",
       "      <td>0.00</td>\n",
       "      <td>0.07</td>\n",
       "      <td>79.0</td>\n",
       "      <td>5.9</td>\n",
       "      <td>E</td>\n",
       "    </tr>\n",
       "    <tr>\n",
       "      <th>4664</th>\n",
       "      <td>pro evolution soccer 2011</td>\n",
       "      <td>PS2</td>\n",
       "      <td>2010.0</td>\n",
       "      <td>Sports</td>\n",
       "      <td>0.04</td>\n",
       "      <td>0.21</td>\n",
       "      <td>0.05</td>\n",
       "      <td>0.11</td>\n",
       "      <td>NaN</td>\n",
       "      <td>6.7</td>\n",
       "      <td>E</td>\n",
       "    </tr>\n",
       "    <tr>\n",
       "      <th>2583</th>\n",
       "      <td>pro evolution soccer 2011</td>\n",
       "      <td>PSP</td>\n",
       "      <td>2010.0</td>\n",
       "      <td>Sports</td>\n",
       "      <td>0.05</td>\n",
       "      <td>0.30</td>\n",
       "      <td>0.29</td>\n",
       "      <td>0.16</td>\n",
       "      <td>74.0</td>\n",
       "      <td>5.8</td>\n",
       "      <td>E</td>\n",
       "    </tr>\n",
       "    <tr>\n",
       "      <th>12648</th>\n",
       "      <td>pro evolution soccer 2011</td>\n",
       "      <td>PC</td>\n",
       "      <td>2010.0</td>\n",
       "      <td>Sports</td>\n",
       "      <td>0.00</td>\n",
       "      <td>0.05</td>\n",
       "      <td>0.00</td>\n",
       "      <td>0.01</td>\n",
       "      <td>79.0</td>\n",
       "      <td>NaN</td>\n",
       "      <td>E</td>\n",
       "    </tr>\n",
       "    <tr>\n",
       "      <th>15612</th>\n",
       "      <td>uDraw Studio: Instant Artist</td>\n",
       "      <td>X360</td>\n",
       "      <td>2011.0</td>\n",
       "      <td>Misc</td>\n",
       "      <td>0.01</td>\n",
       "      <td>0.01</td>\n",
       "      <td>0.00</td>\n",
       "      <td>0.00</td>\n",
       "      <td>54.0</td>\n",
       "      <td>5.7</td>\n",
       "      <td>E</td>\n",
       "    </tr>\n",
       "  </tbody>\n",
       "</table>\n",
       "<p>5018 rows × 11 columns</p>\n",
       "</div>"
      ],
      "text/plain": [
       "                               name platform  year_of_release     genre  \\\n",
       "3862           Frozen: Olaf's Quest       DS           2013.0  Platform   \n",
       "1785         007: Quantum of Solace      PS3           2008.0    Action   \n",
       "14658        007: Quantum of Solace       PC           2008.0    Action   \n",
       "3120         007: Quantum of Solace      Wii           2008.0    Action   \n",
       "9507         007: Quantum of Solace       DS           2008.0    Action   \n",
       "...                             ...      ...              ...       ...   \n",
       "3304      pro evolution soccer 2011     X360           2010.0    Sports   \n",
       "4664      pro evolution soccer 2011      PS2           2010.0    Sports   \n",
       "2583      pro evolution soccer 2011      PSP           2010.0    Sports   \n",
       "12648     pro evolution soccer 2011       PC           2010.0    Sports   \n",
       "15612  uDraw Studio: Instant Artist     X360           2011.0      Misc   \n",
       "\n",
       "       na_sales  eu_sales  jp_sales  other_sales  critic_score user_score  \\\n",
       "3862       0.21      0.26      0.00         0.04           NaN        NaN   \n",
       "1785       0.43      0.51      0.02         0.19          65.0        6.6   \n",
       "14658      0.01      0.01      0.00         0.00          70.0        6.3   \n",
       "3120       0.29      0.28      0.01         0.07          54.0        7.5   \n",
       "9507       0.11      0.01      0.00         0.01          65.0        tbd   \n",
       "...         ...       ...       ...          ...           ...        ...   \n",
       "3304       0.09      0.44      0.00         0.07          79.0        5.9   \n",
       "4664       0.04      0.21      0.05         0.11           NaN        6.7   \n",
       "2583       0.05      0.30      0.29         0.16          74.0        5.8   \n",
       "12648      0.00      0.05      0.00         0.01          79.0        NaN   \n",
       "15612      0.01      0.01      0.00         0.00          54.0        5.7   \n",
       "\n",
       "      rating  \n",
       "3862     NaN  \n",
       "1785       T  \n",
       "14658      T  \n",
       "3120       T  \n",
       "9507       T  \n",
       "...      ...  \n",
       "3304       E  \n",
       "4664       E  \n",
       "2583       E  \n",
       "12648      E  \n",
       "15612      E  \n",
       "\n",
       "[5018 rows x 11 columns]"
      ]
     },
     "execution_count": 324,
     "metadata": {},
     "output_type": "execute_result"
    }
   ],
   "source": [
    "df[df['name'].duplicated() == True].sort_values('name')\n"
   ]
  },
  {
   "cell_type": "code",
   "execution_count": 325,
   "metadata": {
    "colab": {
     "base_uri": "https://localhost:8080/"
    },
    "id": "wHoOlr8S_dLv",
    "outputId": "021cba85-9708-4fc0-9732-66408691ff2b"
   },
   "outputs": [
    {
     "name": "stdout",
     "output_type": "stream",
     "text": [
      "Количество пропусков в столбце rating сократилось на 417\n",
      "После заполнения пропусков в столбце rating 6259 пропусков\n"
     ]
    }
   ],
   "source": [
    "rating_na_new = df['rating'].isna().sum()\n",
    "print(\n",
    "    f'Количество пропусков в столбце rating сократилось на {abs(rating_na_new - rating_na)}')\n",
    "print(f'После заполнения пропусков в столбце rating {rating_na_new} пропусков')\n"
   ]
  },
  {
   "attachments": {},
   "cell_type": "markdown",
   "metadata": {},
   "source": [
    "Оставшиеся пропуски в столбце `rating` заполним значением \"not_rated\". Так как в зависимости от региона рейтинг может и вовсе отсутствовать."
   ]
  },
  {
   "cell_type": "code",
   "execution_count": 326,
   "metadata": {},
   "outputs": [],
   "source": [
    "df['rating'] = df['rating'].fillna('not_rated')\n"
   ]
  },
  {
   "attachments": {},
   "cell_type": "markdown",
   "metadata": {
    "id": "frMcdwDPnQZS"
   },
   "source": [
    "Проверка неявных дубликатов"
   ]
  },
  {
   "cell_type": "code",
   "execution_count": 327,
   "metadata": {
    "colab": {
     "base_uri": "https://localhost:8080/"
    },
    "id": "dnXaeqLxI0zi",
    "outputId": "c01998a8-d884-49fe-9573-e0cb3c86a790"
   },
   "outputs": [
    {
     "name": "stdout",
     "output_type": "stream",
     "text": [
      "Action\n",
      "Adventure\n",
      "Fighting\n",
      "Misc\n",
      "Platform\n",
      "Puzzle\n",
      "Racing\n",
      "Role-Playing\n",
      "Shooter\n",
      "Simulation\n",
      "Sports\n",
      "Strategy\n"
     ]
    }
   ],
   "source": [
    "[print(i) for i in sorted(list(df['genre'].unique()))];\n"
   ]
  },
  {
   "cell_type": "code",
   "execution_count": 328,
   "metadata": {
    "colab": {
     "base_uri": "https://localhost:8080/"
    },
    "id": "LajDg13eJKPR",
    "outputId": "85969ba1-70b1-42e7-9213-729572ae8f56"
   },
   "outputs": [
    {
     "name": "stdout",
     "output_type": "stream",
     "text": [
      "2600\n",
      "3DO\n",
      "3DS\n",
      "DC\n",
      "DS\n",
      "GB\n",
      "GBA\n",
      "GC\n",
      "GEN\n",
      "GG\n",
      "N64\n",
      "NES\n",
      "NG\n",
      "PC\n",
      "PCFX\n",
      "PS\n",
      "PS2\n",
      "PS3\n",
      "PS4\n",
      "PSP\n",
      "PSV\n",
      "SAT\n",
      "SCD\n",
      "SNES\n",
      "TG16\n",
      "WS\n",
      "Wii\n",
      "WiiU\n",
      "X360\n",
      "XB\n",
      "XOne\n"
     ]
    }
   ],
   "source": [
    "[print(i) for i in sorted(list(df['platform'].unique()))];\n"
   ]
  },
  {
   "cell_type": "code",
   "execution_count": 329,
   "metadata": {
    "colab": {
     "base_uri": "https://localhost:8080/"
    },
    "id": "P62QdK4yJKtC",
    "outputId": "b3b0210c-692b-49d7-c55f-6654f50e82fd"
   },
   "outputs": [
    {
     "name": "stdout",
     "output_type": "stream",
     "text": [
      "E\n",
      "not_rated\n",
      "M\n",
      "T\n",
      "E10+\n",
      "K-A\n",
      "AO\n",
      "EC\n",
      "RP\n"
     ]
    }
   ],
   "source": [
    "[print(i) for i in list(df['rating'].dropna().unique())];"
   ]
  },
  {
   "attachments": {},
   "cell_type": "markdown",
   "metadata": {
    "id": "RxzMNP4AqGdT"
   },
   "source": [
    "Неявных дубликатов не выявлено"
   ]
  },
  {
   "attachments": {},
   "cell_type": "markdown",
   "metadata": {
    "id": "6AfQEnLCJi7E"
   },
   "source": [
    "## Преобразование типов данных"
   ]
  },
  {
   "cell_type": "code",
   "execution_count": 330,
   "metadata": {
    "colab": {
     "base_uri": "https://localhost:8080/",
     "height": 520
    },
    "id": "TuUc0UQriaxy",
    "outputId": "7584a008-8346-422f-d88b-d2b547f869ee"
   },
   "outputs": [
    {
     "data": {
      "text/html": [
       "<div>\n",
       "<style scoped>\n",
       "    .dataframe tbody tr th:only-of-type {\n",
       "        vertical-align: middle;\n",
       "    }\n",
       "\n",
       "    .dataframe tbody tr th {\n",
       "        vertical-align: top;\n",
       "    }\n",
       "\n",
       "    .dataframe thead th {\n",
       "        text-align: right;\n",
       "    }\n",
       "</style>\n",
       "<table border=\"1\" class=\"dataframe\">\n",
       "  <thead>\n",
       "    <tr style=\"text-align: right;\">\n",
       "      <th></th>\n",
       "      <th>name</th>\n",
       "      <th>platform</th>\n",
       "      <th>year_of_release</th>\n",
       "      <th>genre</th>\n",
       "      <th>na_sales</th>\n",
       "      <th>eu_sales</th>\n",
       "      <th>jp_sales</th>\n",
       "      <th>other_sales</th>\n",
       "      <th>critic_score</th>\n",
       "      <th>user_score</th>\n",
       "      <th>rating</th>\n",
       "    </tr>\n",
       "  </thead>\n",
       "  <tbody>\n",
       "    <tr>\n",
       "      <th>0</th>\n",
       "      <td>Wii Sports</td>\n",
       "      <td>Wii</td>\n",
       "      <td>2006.0</td>\n",
       "      <td>Sports</td>\n",
       "      <td>41.36</td>\n",
       "      <td>28.96</td>\n",
       "      <td>3.77</td>\n",
       "      <td>8.45</td>\n",
       "      <td>76.0</td>\n",
       "      <td>8</td>\n",
       "      <td>E</td>\n",
       "    </tr>\n",
       "    <tr>\n",
       "      <th>1</th>\n",
       "      <td>Super Mario Bros.</td>\n",
       "      <td>NES</td>\n",
       "      <td>1985.0</td>\n",
       "      <td>Platform</td>\n",
       "      <td>29.08</td>\n",
       "      <td>3.58</td>\n",
       "      <td>6.81</td>\n",
       "      <td>0.77</td>\n",
       "      <td>NaN</td>\n",
       "      <td>NaN</td>\n",
       "      <td>not_rated</td>\n",
       "    </tr>\n",
       "    <tr>\n",
       "      <th>2</th>\n",
       "      <td>Mario Kart Wii</td>\n",
       "      <td>Wii</td>\n",
       "      <td>2008.0</td>\n",
       "      <td>Racing</td>\n",
       "      <td>15.68</td>\n",
       "      <td>12.76</td>\n",
       "      <td>3.79</td>\n",
       "      <td>3.29</td>\n",
       "      <td>82.0</td>\n",
       "      <td>8.3</td>\n",
       "      <td>E</td>\n",
       "    </tr>\n",
       "    <tr>\n",
       "      <th>3</th>\n",
       "      <td>Wii Sports Resort</td>\n",
       "      <td>Wii</td>\n",
       "      <td>2009.0</td>\n",
       "      <td>Sports</td>\n",
       "      <td>15.61</td>\n",
       "      <td>10.93</td>\n",
       "      <td>3.28</td>\n",
       "      <td>2.95</td>\n",
       "      <td>80.0</td>\n",
       "      <td>8</td>\n",
       "      <td>E</td>\n",
       "    </tr>\n",
       "    <tr>\n",
       "      <th>4</th>\n",
       "      <td>Pokemon Red/Pokemon Blue</td>\n",
       "      <td>GB</td>\n",
       "      <td>1996.0</td>\n",
       "      <td>Role-Playing</td>\n",
       "      <td>11.27</td>\n",
       "      <td>8.89</td>\n",
       "      <td>10.22</td>\n",
       "      <td>1.00</td>\n",
       "      <td>NaN</td>\n",
       "      <td>NaN</td>\n",
       "      <td>not_rated</td>\n",
       "    </tr>\n",
       "    <tr>\n",
       "      <th>...</th>\n",
       "      <td>...</td>\n",
       "      <td>...</td>\n",
       "      <td>...</td>\n",
       "      <td>...</td>\n",
       "      <td>...</td>\n",
       "      <td>...</td>\n",
       "      <td>...</td>\n",
       "      <td>...</td>\n",
       "      <td>...</td>\n",
       "      <td>...</td>\n",
       "      <td>...</td>\n",
       "    </tr>\n",
       "    <tr>\n",
       "      <th>16710</th>\n",
       "      <td>Samurai Warriors: Sanada Maru</td>\n",
       "      <td>PS3</td>\n",
       "      <td>2016.0</td>\n",
       "      <td>Action</td>\n",
       "      <td>0.00</td>\n",
       "      <td>0.00</td>\n",
       "      <td>0.01</td>\n",
       "      <td>0.00</td>\n",
       "      <td>NaN</td>\n",
       "      <td>NaN</td>\n",
       "      <td>not_rated</td>\n",
       "    </tr>\n",
       "    <tr>\n",
       "      <th>16711</th>\n",
       "      <td>LMA Manager 2007</td>\n",
       "      <td>X360</td>\n",
       "      <td>2006.0</td>\n",
       "      <td>Sports</td>\n",
       "      <td>0.00</td>\n",
       "      <td>0.01</td>\n",
       "      <td>0.00</td>\n",
       "      <td>0.00</td>\n",
       "      <td>NaN</td>\n",
       "      <td>NaN</td>\n",
       "      <td>not_rated</td>\n",
       "    </tr>\n",
       "    <tr>\n",
       "      <th>16712</th>\n",
       "      <td>Haitaka no Psychedelica</td>\n",
       "      <td>PSV</td>\n",
       "      <td>2016.0</td>\n",
       "      <td>Adventure</td>\n",
       "      <td>0.00</td>\n",
       "      <td>0.00</td>\n",
       "      <td>0.01</td>\n",
       "      <td>0.00</td>\n",
       "      <td>NaN</td>\n",
       "      <td>NaN</td>\n",
       "      <td>not_rated</td>\n",
       "    </tr>\n",
       "    <tr>\n",
       "      <th>16713</th>\n",
       "      <td>Spirits &amp; Spells</td>\n",
       "      <td>GBA</td>\n",
       "      <td>2003.0</td>\n",
       "      <td>Platform</td>\n",
       "      <td>0.01</td>\n",
       "      <td>0.00</td>\n",
       "      <td>0.00</td>\n",
       "      <td>0.00</td>\n",
       "      <td>NaN</td>\n",
       "      <td>NaN</td>\n",
       "      <td>not_rated</td>\n",
       "    </tr>\n",
       "    <tr>\n",
       "      <th>16714</th>\n",
       "      <td>Winning Post 8 2016</td>\n",
       "      <td>PSV</td>\n",
       "      <td>2016.0</td>\n",
       "      <td>Simulation</td>\n",
       "      <td>0.00</td>\n",
       "      <td>0.00</td>\n",
       "      <td>0.01</td>\n",
       "      <td>0.00</td>\n",
       "      <td>NaN</td>\n",
       "      <td>NaN</td>\n",
       "      <td>not_rated</td>\n",
       "    </tr>\n",
       "  </tbody>\n",
       "</table>\n",
       "<p>16444 rows × 11 columns</p>\n",
       "</div>"
      ],
      "text/plain": [
       "                                name platform  year_of_release         genre  \\\n",
       "0                         Wii Sports      Wii           2006.0        Sports   \n",
       "1                  Super Mario Bros.      NES           1985.0      Platform   \n",
       "2                     Mario Kart Wii      Wii           2008.0        Racing   \n",
       "3                  Wii Sports Resort      Wii           2009.0        Sports   \n",
       "4           Pokemon Red/Pokemon Blue       GB           1996.0  Role-Playing   \n",
       "...                              ...      ...              ...           ...   \n",
       "16710  Samurai Warriors: Sanada Maru      PS3           2016.0        Action   \n",
       "16711               LMA Manager 2007     X360           2006.0        Sports   \n",
       "16712        Haitaka no Psychedelica      PSV           2016.0     Adventure   \n",
       "16713               Spirits & Spells      GBA           2003.0      Platform   \n",
       "16714            Winning Post 8 2016      PSV           2016.0    Simulation   \n",
       "\n",
       "       na_sales  eu_sales  jp_sales  other_sales  critic_score user_score  \\\n",
       "0         41.36     28.96      3.77         8.45          76.0          8   \n",
       "1         29.08      3.58      6.81         0.77           NaN        NaN   \n",
       "2         15.68     12.76      3.79         3.29          82.0        8.3   \n",
       "3         15.61     10.93      3.28         2.95          80.0          8   \n",
       "4         11.27      8.89     10.22         1.00           NaN        NaN   \n",
       "...         ...       ...       ...          ...           ...        ...   \n",
       "16710      0.00      0.00      0.01         0.00           NaN        NaN   \n",
       "16711      0.00      0.01      0.00         0.00           NaN        NaN   \n",
       "16712      0.00      0.00      0.01         0.00           NaN        NaN   \n",
       "16713      0.01      0.00      0.00         0.00           NaN        NaN   \n",
       "16714      0.00      0.00      0.01         0.00           NaN        NaN   \n",
       "\n",
       "          rating  \n",
       "0              E  \n",
       "1      not_rated  \n",
       "2              E  \n",
       "3              E  \n",
       "4      not_rated  \n",
       "...          ...  \n",
       "16710  not_rated  \n",
       "16711  not_rated  \n",
       "16712  not_rated  \n",
       "16713  not_rated  \n",
       "16714  not_rated  \n",
       "\n",
       "[16444 rows x 11 columns]"
      ]
     },
     "execution_count": 330,
     "metadata": {},
     "output_type": "execute_result"
    }
   ],
   "source": [
    "df\n"
   ]
  },
  {
   "cell_type": "code",
   "execution_count": 331,
   "metadata": {
    "colab": {
     "base_uri": "https://localhost:8080/"
    },
    "id": "wfJ44o3NjJ6L",
    "outputId": "c26db4d7-2871-4449-f889-4a2201371e63"
   },
   "outputs": [
    {
     "name": "stdout",
     "output_type": "stream",
     "text": [
      "<class 'pandas.core.frame.DataFrame'>\n",
      "Int64Index: 16444 entries, 0 to 16714\n",
      "Data columns (total 11 columns):\n",
      " #   Column           Non-Null Count  Dtype  \n",
      "---  ------           --------------  -----  \n",
      " 0   name             16444 non-null  object \n",
      " 1   platform         16444 non-null  object \n",
      " 2   year_of_release  16444 non-null  float64\n",
      " 3   genre            16444 non-null  object \n",
      " 4   na_sales         16444 non-null  float64\n",
      " 5   eu_sales         16444 non-null  float64\n",
      " 6   jp_sales         16444 non-null  float64\n",
      " 7   other_sales      16444 non-null  float64\n",
      " 8   critic_score     7983 non-null   float64\n",
      " 9   user_score       9839 non-null   object \n",
      " 10  rating           16444 non-null  object \n",
      "dtypes: float64(6), object(5)\n",
      "memory usage: 1.5+ MB\n"
     ]
    }
   ],
   "source": [
    "df.info()\n"
   ]
  },
  {
   "attachments": {},
   "cell_type": "markdown",
   "metadata": {
    "id": "EWAEUJaH8FgL"
   },
   "source": [
    "Преобразуем тип данных столбцов platform, genre, rating в тип category, т.к. данные в этих стобцах часто повторяются."
   ]
  },
  {
   "cell_type": "code",
   "execution_count": 332,
   "metadata": {
    "id": "F0HBE5vj2NOA"
   },
   "outputs": [],
   "source": [
    "df['genre'] = df['genre'].astype('category')\n",
    "df['rating'] = df['rating'].astype('category')\n"
   ]
  },
  {
   "attachments": {},
   "cell_type": "markdown",
   "metadata": {
    "id": "4RQ50cJA8dJ0"
   },
   "source": [
    "Тип данных в столбце `user_score` - `object`, хотя столбец содержит вещественные числа, преобразуем  в `float`.  \n",
    "`'tbd'` (To Be Determined) - намеренный пропуск в данных, заменяем на None"
   ]
  },
  {
   "cell_type": "code",
   "execution_count": 333,
   "metadata": {
    "id": "UNtamZkRyGR5"
   },
   "outputs": [],
   "source": [
    "df.loc[df['user_score'] == 'tbd'] = df.loc[df['user_score'] == 'tbd'] = None\n",
    "df['user_score'] = df['user_score'].astype('float')\n"
   ]
  },
  {
   "cell_type": "code",
   "execution_count": 334,
   "metadata": {
    "colab": {
     "base_uri": "https://localhost:8080/"
    },
    "id": "zD__afjz2WAy",
    "outputId": "3d393540-4d9e-4e49-fb5a-9937113154e9"
   },
   "outputs": [
    {
     "name": "stdout",
     "output_type": "stream",
     "text": [
      "<class 'pandas.core.frame.DataFrame'>\n",
      "Int64Index: 16444 entries, 0 to 16714\n",
      "Data columns (total 11 columns):\n",
      " #   Column           Non-Null Count  Dtype   \n",
      "---  ------           --------------  -----   \n",
      " 0   name             14068 non-null  object  \n",
      " 1   platform         14068 non-null  object  \n",
      " 2   year_of_release  14068 non-null  float64 \n",
      " 3   genre            14068 non-null  category\n",
      " 4   na_sales         14068 non-null  float64 \n",
      " 5   eu_sales         14068 non-null  float64 \n",
      " 6   jp_sales         14068 non-null  float64 \n",
      " 7   other_sales      14068 non-null  float64 \n",
      " 8   critic_score     6927 non-null   float64 \n",
      " 9   user_score       7463 non-null   float64 \n",
      " 10  rating           14068 non-null  category\n",
      "dtypes: category(2), float64(7), object(2)\n",
      "memory usage: 1.3+ MB\n"
     ]
    }
   ],
   "source": [
    "df.info()\n"
   ]
  },
  {
   "attachments": {},
   "cell_type": "markdown",
   "metadata": {
    "id": "JZrTSeIVkFcm"
   },
   "source": [
    "## Feature engineering"
   ]
  },
  {
   "attachments": {},
   "cell_type": "markdown",
   "metadata": {
    "id": "CvIGEFnWiSaR"
   },
   "source": [
    "Посчитаем суммарные продажи по всем регионам и запишем их в отдельный солбец."
   ]
  },
  {
   "cell_type": "code",
   "execution_count": 335,
   "metadata": {
    "colab": {
     "base_uri": "https://localhost:8080/",
     "height": 357
    },
    "id": "Eupe1e6viajV",
    "outputId": "78585006-2db9-458f-d0b3-ba77f050668a"
   },
   "outputs": [
    {
     "data": {
      "text/html": [
       "<div>\n",
       "<style scoped>\n",
       "    .dataframe tbody tr th:only-of-type {\n",
       "        vertical-align: middle;\n",
       "    }\n",
       "\n",
       "    .dataframe tbody tr th {\n",
       "        vertical-align: top;\n",
       "    }\n",
       "\n",
       "    .dataframe thead th {\n",
       "        text-align: right;\n",
       "    }\n",
       "</style>\n",
       "<table border=\"1\" class=\"dataframe\">\n",
       "  <thead>\n",
       "    <tr style=\"text-align: right;\">\n",
       "      <th></th>\n",
       "      <th>name</th>\n",
       "      <th>platform</th>\n",
       "      <th>year_of_release</th>\n",
       "      <th>genre</th>\n",
       "      <th>na_sales</th>\n",
       "      <th>eu_sales</th>\n",
       "      <th>jp_sales</th>\n",
       "      <th>other_sales</th>\n",
       "      <th>global_sales</th>\n",
       "      <th>critic_score</th>\n",
       "      <th>user_score</th>\n",
       "      <th>rating</th>\n",
       "    </tr>\n",
       "  </thead>\n",
       "  <tbody>\n",
       "    <tr>\n",
       "      <th>0</th>\n",
       "      <td>Wii Sports</td>\n",
       "      <td>Wii</td>\n",
       "      <td>2006.0</td>\n",
       "      <td>Sports</td>\n",
       "      <td>41.36</td>\n",
       "      <td>28.96</td>\n",
       "      <td>3.77</td>\n",
       "      <td>8.45</td>\n",
       "      <td>82.54</td>\n",
       "      <td>76.0</td>\n",
       "      <td>8.0</td>\n",
       "      <td>E</td>\n",
       "    </tr>\n",
       "    <tr>\n",
       "      <th>1</th>\n",
       "      <td>Super Mario Bros.</td>\n",
       "      <td>NES</td>\n",
       "      <td>1985.0</td>\n",
       "      <td>Platform</td>\n",
       "      <td>29.08</td>\n",
       "      <td>3.58</td>\n",
       "      <td>6.81</td>\n",
       "      <td>0.77</td>\n",
       "      <td>40.24</td>\n",
       "      <td>NaN</td>\n",
       "      <td>NaN</td>\n",
       "      <td>not_rated</td>\n",
       "    </tr>\n",
       "    <tr>\n",
       "      <th>2</th>\n",
       "      <td>Mario Kart Wii</td>\n",
       "      <td>Wii</td>\n",
       "      <td>2008.0</td>\n",
       "      <td>Racing</td>\n",
       "      <td>15.68</td>\n",
       "      <td>12.76</td>\n",
       "      <td>3.79</td>\n",
       "      <td>3.29</td>\n",
       "      <td>35.52</td>\n",
       "      <td>82.0</td>\n",
       "      <td>8.3</td>\n",
       "      <td>E</td>\n",
       "    </tr>\n",
       "    <tr>\n",
       "      <th>3</th>\n",
       "      <td>Wii Sports Resort</td>\n",
       "      <td>Wii</td>\n",
       "      <td>2009.0</td>\n",
       "      <td>Sports</td>\n",
       "      <td>15.61</td>\n",
       "      <td>10.93</td>\n",
       "      <td>3.28</td>\n",
       "      <td>2.95</td>\n",
       "      <td>32.77</td>\n",
       "      <td>80.0</td>\n",
       "      <td>8.0</td>\n",
       "      <td>E</td>\n",
       "    </tr>\n",
       "    <tr>\n",
       "      <th>4</th>\n",
       "      <td>Pokemon Red/Pokemon Blue</td>\n",
       "      <td>GB</td>\n",
       "      <td>1996.0</td>\n",
       "      <td>Role-Playing</td>\n",
       "      <td>11.27</td>\n",
       "      <td>8.89</td>\n",
       "      <td>10.22</td>\n",
       "      <td>1.00</td>\n",
       "      <td>31.38</td>\n",
       "      <td>NaN</td>\n",
       "      <td>NaN</td>\n",
       "      <td>not_rated</td>\n",
       "    </tr>\n",
       "  </tbody>\n",
       "</table>\n",
       "</div>"
      ],
      "text/plain": [
       "                       name platform  year_of_release         genre  na_sales  \\\n",
       "0                Wii Sports      Wii           2006.0        Sports     41.36   \n",
       "1         Super Mario Bros.      NES           1985.0      Platform     29.08   \n",
       "2            Mario Kart Wii      Wii           2008.0        Racing     15.68   \n",
       "3         Wii Sports Resort      Wii           2009.0        Sports     15.61   \n",
       "4  Pokemon Red/Pokemon Blue       GB           1996.0  Role-Playing     11.27   \n",
       "\n",
       "   eu_sales  jp_sales  other_sales  global_sales  critic_score  user_score  \\\n",
       "0     28.96      3.77         8.45         82.54          76.0         8.0   \n",
       "1      3.58      6.81         0.77         40.24           NaN         NaN   \n",
       "2     12.76      3.79         3.29         35.52          82.0         8.3   \n",
       "3     10.93      3.28         2.95         32.77          80.0         8.0   \n",
       "4      8.89     10.22         1.00         31.38           NaN         NaN   \n",
       "\n",
       "      rating  \n",
       "0          E  \n",
       "1  not_rated  \n",
       "2          E  \n",
       "3          E  \n",
       "4  not_rated  "
      ]
     },
     "execution_count": 335,
     "metadata": {},
     "output_type": "execute_result"
    }
   ],
   "source": [
    "df['global_sales'] = df[['na_sales', 'eu_sales',\n",
    "                         'jp_sales', 'other_sales']].sum(axis=1)\n",
    "df = df.iloc[:, [0, 1, 2, 3, 4, 5, 6, 7, 11, 8, 9, 10]]\n",
    "df.head()\n"
   ]
  },
  {
   "attachments": {},
   "cell_type": "markdown",
   "metadata": {
    "id": "a7p8PraDHDPb"
   },
   "source": [
    "**В результате подготовки данных** был:  \n",
    "- изменён регистр заголовков;\n",
    "- заполнены пропуски в данных, там где это возможно;\n",
    "- преобразованы типы данных;\n",
    "- добавлен один столбец."
   ]
  },
  {
   "attachments": {},
   "cell_type": "markdown",
   "metadata": {
    "id": "JML60xCvia6i"
   },
   "source": [
    "# EDA"
   ]
  },
  {
   "attachments": {},
   "cell_type": "markdown",
   "metadata": {
    "id": "Vv8A0pejibC7"
   },
   "source": [
    "## Посмотрим сколько игр выпускалось в разные годы и важны ли данные за все периоды?"
   ]
  },
  {
   "cell_type": "code",
   "execution_count": 336,
   "metadata": {
    "colab": {
     "base_uri": "https://localhost:8080/",
     "height": 324
    },
    "id": "1TZPnfaYsjMJ",
    "outputId": "4833228c-01b4-472e-a794-ec84405f7df7",
    "scrolled": true
   },
   "outputs": [
    {
     "data": {
      "image/png": "[encoded data removed]",
      "text/plain": [
       "<Figure size 2200x600 with 1 Axes>"
      ]
     },
     "metadata": {},
     "output_type": "display_data"
    }
   ],
   "source": [
    "df['year_of_release'].hist(bins=(2016-1980));"
   ]
  },
  {
   "attachments": {},
   "cell_type": "markdown",
   "metadata": {
    "id": "U3CwrT0Etm81"
   },
   "source": [
    "Только по гистограме выхода игра не ясно можем ли мы отсечь какие-то данные.  "
   ]
  },
  {
   "attachments": {},
   "cell_type": "markdown",
   "metadata": {
    "id": "9C5DWGM7kh0o"
   },
   "source": [
    "\n",
    "Посмотрим, как менялись продажи по платформам, и попытаемся определить срок жизни платформы."
   ]
  },
  {
   "cell_type": "code",
   "execution_count": 337,
   "metadata": {
    "colab": {
     "base_uri": "https://localhost:8080/",
     "height": 1000
    },
    "id": "ePBqPNpza6pE",
    "outputId": "eaf76b16-eef4-4462-d3cf-1ba1ab7e90be",
    "scrolled": true
   },
   "outputs": [
    {
     "data": {
      "image/png": "[encoded data removed]",
      "text/plain": [
       "<Figure size 2200x10000 with 31 Axes>"
      ]
     },
     "metadata": {},
     "output_type": "display_data"
    }
   ],
   "source": [
    "df_by_platform = df.pivot_table(index='year_of_release', columns='platform',\n",
    "                                values='global_sales', aggfunc=['sum']).reset_index()\n",
    "df_by_platform.plot.bar(x='year_of_release', y='sum',\n",
    "                        figsize=(22, 100), subplots=True)\n",
    "plt.show()\n"
   ]
  },
  {
   "attachments": {},
   "cell_type": "markdown",
   "metadata": {
    "id": "OpxZlPp7EngE"
   },
   "source": [
    "Оценим средний срок жизни отдельной платформы."
   ]
  },
  {
   "cell_type": "code",
   "execution_count": 338,
   "metadata": {
    "colab": {
     "base_uri": "https://localhost:8080/"
    },
    "id": "4orwBH5eEnTG",
    "outputId": "8b668ee2-455e-4045-f018-908aa71b0872"
   },
   "outputs": [
    {
     "data": {
      "text/html": [
       "<div>\n",
       "<style scoped>\n",
       "    .dataframe tbody tr th:only-of-type {\n",
       "        vertical-align: middle;\n",
       "    }\n",
       "\n",
       "    .dataframe tbody tr th {\n",
       "        vertical-align: top;\n",
       "    }\n",
       "\n",
       "    .dataframe thead th {\n",
       "        text-align: right;\n",
       "    }\n",
       "</style>\n",
       "<table border=\"1\" class=\"dataframe\">\n",
       "  <thead>\n",
       "    <tr style=\"text-align: right;\">\n",
       "      <th></th>\n",
       "      <th>platform</th>\n",
       "      <th>born</th>\n",
       "      <th>death</th>\n",
       "    </tr>\n",
       "  </thead>\n",
       "  <tbody>\n",
       "    <tr>\n",
       "      <th>0</th>\n",
       "      <td>PS2</td>\n",
       "      <td>2000.0</td>\n",
       "      <td>2010.0</td>\n",
       "    </tr>\n",
       "    <tr>\n",
       "      <th>1</th>\n",
       "      <td>X360</td>\n",
       "      <td>2005.0</td>\n",
       "      <td>... still alive</td>\n",
       "    </tr>\n",
       "    <tr>\n",
       "      <th>2</th>\n",
       "      <td>PS3</td>\n",
       "      <td>2006.0</td>\n",
       "      <td>... still alive</td>\n",
       "    </tr>\n",
       "    <tr>\n",
       "      <th>3</th>\n",
       "      <td>Wii</td>\n",
       "      <td>2006.0</td>\n",
       "      <td>2013.316511</td>\n",
       "    </tr>\n",
       "    <tr>\n",
       "      <th>4</th>\n",
       "      <td>PS</td>\n",
       "      <td>1994.0</td>\n",
       "      <td>2002.886714</td>\n",
       "    </tr>\n",
       "    <tr>\n",
       "      <th>5</th>\n",
       "      <td>DS</td>\n",
       "      <td>2004.0</td>\n",
       "      <td>2012.777817</td>\n",
       "    </tr>\n",
       "    <tr>\n",
       "      <th>6</th>\n",
       "      <td>PS4</td>\n",
       "      <td>2013.0</td>\n",
       "      <td>... still alive</td>\n",
       "    </tr>\n",
       "    <tr>\n",
       "      <th>7</th>\n",
       "      <td>PSP</td>\n",
       "      <td>2004.0</td>\n",
       "      <td>2013.0</td>\n",
       "    </tr>\n",
       "    <tr>\n",
       "      <th>8</th>\n",
       "      <td>GBA</td>\n",
       "      <td>2001.0</td>\n",
       "      <td>2007.0</td>\n",
       "    </tr>\n",
       "    <tr>\n",
       "      <th>9</th>\n",
       "      <td>GB</td>\n",
       "      <td>1988.0</td>\n",
       "      <td>2001.0</td>\n",
       "    </tr>\n",
       "    <tr>\n",
       "      <th>10</th>\n",
       "      <td>3DS</td>\n",
       "      <td>2011.0</td>\n",
       "      <td>... still alive</td>\n",
       "    </tr>\n",
       "    <tr>\n",
       "      <th>11</th>\n",
       "      <td>NES</td>\n",
       "      <td>1983.0</td>\n",
       "      <td>1993.0</td>\n",
       "    </tr>\n",
       "    <tr>\n",
       "      <th>12</th>\n",
       "      <td>XB</td>\n",
       "      <td>2000.0</td>\n",
       "      <td>2007.0</td>\n",
       "    </tr>\n",
       "    <tr>\n",
       "      <th>13</th>\n",
       "      <td>N64</td>\n",
       "      <td>1996.0</td>\n",
       "      <td>2001.0</td>\n",
       "    </tr>\n",
       "    <tr>\n",
       "      <th>14</th>\n",
       "      <td>SNES</td>\n",
       "      <td>1990.0</td>\n",
       "      <td>1997.0</td>\n",
       "    </tr>\n",
       "    <tr>\n",
       "      <th>15</th>\n",
       "      <td>GC</td>\n",
       "      <td>2001.0</td>\n",
       "      <td>2006.0</td>\n",
       "    </tr>\n",
       "    <tr>\n",
       "      <th>16</th>\n",
       "      <td>XOne</td>\n",
       "      <td>2013.0</td>\n",
       "      <td>... still alive</td>\n",
       "    </tr>\n",
       "    <tr>\n",
       "      <th>17</th>\n",
       "      <td>2600</td>\n",
       "      <td>1980.0</td>\n",
       "      <td>1986.616777</td>\n",
       "    </tr>\n",
       "    <tr>\n",
       "      <th>18</th>\n",
       "      <td>WiiU</td>\n",
       "      <td>2012.0</td>\n",
       "      <td>... still alive</td>\n",
       "    </tr>\n",
       "    <tr>\n",
       "      <th>19</th>\n",
       "      <td>PSV</td>\n",
       "      <td>2011.0</td>\n",
       "      <td>... still alive</td>\n",
       "    </tr>\n",
       "    <tr>\n",
       "      <th>20</th>\n",
       "      <td>SAT</td>\n",
       "      <td>1994.0</td>\n",
       "      <td>1998.0</td>\n",
       "    </tr>\n",
       "    <tr>\n",
       "      <th>21</th>\n",
       "      <td>GEN</td>\n",
       "      <td>1990.0</td>\n",
       "      <td>1994.0</td>\n",
       "    </tr>\n",
       "    <tr>\n",
       "      <th>22</th>\n",
       "      <td>DC</td>\n",
       "      <td>1998.0</td>\n",
       "      <td>2001.0</td>\n",
       "    </tr>\n",
       "    <tr>\n",
       "      <th>23</th>\n",
       "      <td>SCD</td>\n",
       "      <td>1993.0</td>\n",
       "      <td>1993.0</td>\n",
       "    </tr>\n",
       "    <tr>\n",
       "      <th>24</th>\n",
       "      <td>NG</td>\n",
       "      <td>NaN</td>\n",
       "      <td>... still alive</td>\n",
       "    </tr>\n",
       "    <tr>\n",
       "      <th>25</th>\n",
       "      <td>WS</td>\n",
       "      <td>NaN</td>\n",
       "      <td>... still alive</td>\n",
       "    </tr>\n",
       "    <tr>\n",
       "      <th>26</th>\n",
       "      <td>TG16</td>\n",
       "      <td>NaN</td>\n",
       "      <td>... still alive</td>\n",
       "    </tr>\n",
       "    <tr>\n",
       "      <th>27</th>\n",
       "      <td>3DO</td>\n",
       "      <td>NaN</td>\n",
       "      <td>... still alive</td>\n",
       "    </tr>\n",
       "    <tr>\n",
       "      <th>28</th>\n",
       "      <td>GG</td>\n",
       "      <td>NaN</td>\n",
       "      <td>... still alive</td>\n",
       "    </tr>\n",
       "    <tr>\n",
       "      <th>29</th>\n",
       "      <td>PCFX</td>\n",
       "      <td>NaN</td>\n",
       "      <td>... still alive</td>\n",
       "    </tr>\n",
       "  </tbody>\n",
       "</table>\n",
       "</div>"
      ],
      "text/plain": [
       "   platform    born            death\n",
       "0       PS2  2000.0           2010.0\n",
       "1      X360  2005.0  ... still alive\n",
       "2       PS3  2006.0  ... still alive\n",
       "3       Wii  2006.0      2013.316511\n",
       "4        PS  1994.0      2002.886714\n",
       "5        DS  2004.0      2012.777817\n",
       "6       PS4  2013.0  ... still alive\n",
       "7       PSP  2004.0           2013.0\n",
       "8       GBA  2001.0           2007.0\n",
       "9        GB  1988.0           2001.0\n",
       "10      3DS  2011.0  ... still alive\n",
       "11      NES  1983.0           1993.0\n",
       "12       XB  2000.0           2007.0\n",
       "13      N64  1996.0           2001.0\n",
       "14     SNES  1990.0           1997.0\n",
       "15       GC  2001.0           2006.0\n",
       "16     XOne  2013.0  ... still alive\n",
       "17     2600  1980.0      1986.616777\n",
       "18     WiiU  2012.0  ... still alive\n",
       "19      PSV  2011.0  ... still alive\n",
       "20      SAT  1994.0           1998.0\n",
       "21      GEN  1990.0           1994.0\n",
       "22       DC  1998.0           2001.0\n",
       "23      SCD  1993.0           1993.0\n",
       "24       NG     NaN  ... still alive\n",
       "25       WS     NaN  ... still alive\n",
       "26     TG16     NaN  ... still alive\n",
       "27      3DO     NaN  ... still alive\n",
       "28       GG     NaN  ... still alive\n",
       "29     PCFX     NaN  ... still alive"
      ]
     },
     "execution_count": 338,
     "metadata": {},
     "output_type": "execute_result"
    }
   ],
   "source": [
    "platform_lifecycle = []\n",
    "\n",
    "# в первую очередь сделаем сводную таблицу по платформам с разбивкой продаж игр по годам\n",
    "df_by_platform = df.pivot_table(\n",
    "    index='year_of_release', columns='platform', values='global_sales', aggfunc=['sum'])\n",
    "\n",
    "# пройдём циклом по упорядоченному по продажам списку платформ\n",
    "for i in list(df.groupby('platform')['global_sales'].sum().sort_values(ascending=False).index):\n",
    "    if i != 'PC':  # не будем принимать во внимание PC, т.к. это не только игровая платформа\n",
    "        df_data = df_by_platform['sum', i].fillna(0)\n",
    "        years_sales_times = []\n",
    "        for j in df_data.index:\n",
    "            for k in range(round(df_data[j])):\n",
    "                years_sales_times.append(j)\n",
    "        years_sales_times = pd.DataFrame(data={'col1': years_sales_times})\n",
    "\n",
    "        # многие гистограмы продаж игр на платформах похожи на нормальное распределение\n",
    "        # будем считать срок жизни платформы по правилу трёх сигм, или по реальным релизам игр если их размах меньше\n",
    "        p_born = max(years_sales_times['col1'].mean() - years_sales_times['col1'].std()*3, years_sales_times['col1'].min())\n",
    "        p_death = min(years_sales_times['col1'].mean() + years_sales_times['col1'].std()*3, years_sales_times['col1'].max())\n",
    "\n",
    "        platform_lifecycle.append([\n",
    "            i, \n",
    "            p_born, \n",
    "            p_death if p_death<2016  else '... still alive'\n",
    "        ])\n",
    "\n",
    "platform_df = pd.DataFrame(platform_lifecycle, columns=['platform', 'born', 'death'])\n",
    "platform_df"
   ]
  },
  {
   "attachments": {},
   "cell_type": "markdown",
   "metadata": {},
   "source": [
    "По части платформ данные отсутствуют, часть до сих пор существуют (на момент создания датасета), ни те не другие случаи в рассчёте средней продолжительности жизни платформы не участвуют"
   ]
  },
  {
   "cell_type": "code",
   "execution_count": 339,
   "metadata": {},
   "outputs": [
    {
     "name": "stdout",
     "output_type": "stream",
     "text": [
      "Средний жизненный цикл: 6.74 лет\n"
     ]
    }
   ],
   "source": [
    "platform_df_rel = platform_df[platform_df['death'] != '... still alive']\n",
    "average_lifecicle = (platform_df_rel['death'] - platform_df_rel['born']).mean()\n",
    "print(f\"Средний жизненный цикл: {average_lifecicle:.2f} лет\")"
   ]
  },
  {
   "attachments": {},
   "cell_type": "markdown",
   "metadata": {
    "id": "UT7VshYAOseR"
   },
   "source": [
    "Многие платформы уже закончили своё существование и данные по ним не понадобятся в дальнейших рассчётах, по некоторым плаформам данные отсутствуют - GG, PCFX и др.  \n",
    "На данный момент актуальны 7 платформ, по которым мы будем строить прогноз.  \n",
    "Очистим датасет от излишних данных."
   ]
  },
  {
   "cell_type": "code",
   "execution_count": 340,
   "metadata": {},
   "outputs": [],
   "source": [
    "platform_df_rel = platform_df[(platform_df['death'] == '... still alive') & (~platform_df['born'].isna())]"
   ]
  },
  {
   "cell_type": "code",
   "execution_count": 341,
   "metadata": {},
   "outputs": [
    {
     "data": {
      "text/html": [
       "<div>\n",
       "<style scoped>\n",
       "    .dataframe tbody tr th:only-of-type {\n",
       "        vertical-align: middle;\n",
       "    }\n",
       "\n",
       "    .dataframe tbody tr th {\n",
       "        vertical-align: top;\n",
       "    }\n",
       "\n",
       "    .dataframe thead th {\n",
       "        text-align: right;\n",
       "    }\n",
       "</style>\n",
       "<table border=\"1\" class=\"dataframe\">\n",
       "  <thead>\n",
       "    <tr style=\"text-align: right;\">\n",
       "      <th></th>\n",
       "      <th>platform</th>\n",
       "      <th>born</th>\n",
       "      <th>death</th>\n",
       "    </tr>\n",
       "  </thead>\n",
       "  <tbody>\n",
       "    <tr>\n",
       "      <th>1</th>\n",
       "      <td>X360</td>\n",
       "      <td>2005.0</td>\n",
       "      <td>... still alive</td>\n",
       "    </tr>\n",
       "    <tr>\n",
       "      <th>2</th>\n",
       "      <td>PS3</td>\n",
       "      <td>2006.0</td>\n",
       "      <td>... still alive</td>\n",
       "    </tr>\n",
       "    <tr>\n",
       "      <th>6</th>\n",
       "      <td>PS4</td>\n",
       "      <td>2013.0</td>\n",
       "      <td>... still alive</td>\n",
       "    </tr>\n",
       "    <tr>\n",
       "      <th>10</th>\n",
       "      <td>3DS</td>\n",
       "      <td>2011.0</td>\n",
       "      <td>... still alive</td>\n",
       "    </tr>\n",
       "    <tr>\n",
       "      <th>16</th>\n",
       "      <td>XOne</td>\n",
       "      <td>2013.0</td>\n",
       "      <td>... still alive</td>\n",
       "    </tr>\n",
       "    <tr>\n",
       "      <th>18</th>\n",
       "      <td>WiiU</td>\n",
       "      <td>2012.0</td>\n",
       "      <td>... still alive</td>\n",
       "    </tr>\n",
       "    <tr>\n",
       "      <th>19</th>\n",
       "      <td>PSV</td>\n",
       "      <td>2011.0</td>\n",
       "      <td>... still alive</td>\n",
       "    </tr>\n",
       "  </tbody>\n",
       "</table>\n",
       "</div>"
      ],
      "text/plain": [
       "   platform    born            death\n",
       "1      X360  2005.0  ... still alive\n",
       "2       PS3  2006.0  ... still alive\n",
       "6       PS4  2013.0  ... still alive\n",
       "10      3DS  2011.0  ... still alive\n",
       "16     XOne  2013.0  ... still alive\n",
       "18     WiiU  2012.0  ... still alive\n",
       "19      PSV  2011.0  ... still alive"
      ]
     },
     "execution_count": 341,
     "metadata": {},
     "output_type": "execute_result"
    }
   ],
   "source": [
    "platform_df_rel"
   ]
  },
  {
   "cell_type": "code",
   "execution_count": 342,
   "metadata": {
    "id": "Pcnpt-GQEm6l"
   },
   "outputs": [
    {
     "data": {
      "text/html": [
       "<div>\n",
       "<style scoped>\n",
       "    .dataframe tbody tr th:only-of-type {\n",
       "        vertical-align: middle;\n",
       "    }\n",
       "\n",
       "    .dataframe tbody tr th {\n",
       "        vertical-align: top;\n",
       "    }\n",
       "\n",
       "    .dataframe thead th {\n",
       "        text-align: right;\n",
       "    }\n",
       "</style>\n",
       "<table border=\"1\" class=\"dataframe\">\n",
       "  <thead>\n",
       "    <tr style=\"text-align: right;\">\n",
       "      <th></th>\n",
       "      <th>name</th>\n",
       "      <th>platform</th>\n",
       "      <th>year_of_release</th>\n",
       "      <th>genre</th>\n",
       "      <th>na_sales</th>\n",
       "      <th>eu_sales</th>\n",
       "      <th>jp_sales</th>\n",
       "      <th>other_sales</th>\n",
       "      <th>global_sales</th>\n",
       "      <th>critic_score</th>\n",
       "      <th>user_score</th>\n",
       "      <th>rating</th>\n",
       "    </tr>\n",
       "  </thead>\n",
       "  <tbody>\n",
       "    <tr>\n",
       "      <th>14</th>\n",
       "      <td>Kinect Adventures!</td>\n",
       "      <td>X360</td>\n",
       "      <td>2010.0</td>\n",
       "      <td>Misc</td>\n",
       "      <td>15.00</td>\n",
       "      <td>4.89</td>\n",
       "      <td>0.24</td>\n",
       "      <td>1.69</td>\n",
       "      <td>21.82</td>\n",
       "      <td>61.0</td>\n",
       "      <td>6.3</td>\n",
       "      <td>E</td>\n",
       "    </tr>\n",
       "    <tr>\n",
       "      <th>16</th>\n",
       "      <td>Grand Theft Auto V</td>\n",
       "      <td>PS3</td>\n",
       "      <td>2013.0</td>\n",
       "      <td>Action</td>\n",
       "      <td>7.02</td>\n",
       "      <td>9.09</td>\n",
       "      <td>0.98</td>\n",
       "      <td>3.96</td>\n",
       "      <td>21.05</td>\n",
       "      <td>97.0</td>\n",
       "      <td>8.2</td>\n",
       "      <td>M</td>\n",
       "    </tr>\n",
       "    <tr>\n",
       "      <th>23</th>\n",
       "      <td>Grand Theft Auto V</td>\n",
       "      <td>X360</td>\n",
       "      <td>2013.0</td>\n",
       "      <td>Action</td>\n",
       "      <td>9.66</td>\n",
       "      <td>5.14</td>\n",
       "      <td>0.06</td>\n",
       "      <td>1.41</td>\n",
       "      <td>16.27</td>\n",
       "      <td>97.0</td>\n",
       "      <td>8.1</td>\n",
       "      <td>M</td>\n",
       "    </tr>\n",
       "    <tr>\n",
       "      <th>29</th>\n",
       "      <td>Call of Duty: Modern Warfare 3</td>\n",
       "      <td>X360</td>\n",
       "      <td>2011.0</td>\n",
       "      <td>Shooter</td>\n",
       "      <td>9.04</td>\n",
       "      <td>4.24</td>\n",
       "      <td>0.13</td>\n",
       "      <td>1.32</td>\n",
       "      <td>14.73</td>\n",
       "      <td>88.0</td>\n",
       "      <td>3.4</td>\n",
       "      <td>M</td>\n",
       "    </tr>\n",
       "    <tr>\n",
       "      <th>31</th>\n",
       "      <td>Call of Duty: Black Ops 3</td>\n",
       "      <td>PS4</td>\n",
       "      <td>2015.0</td>\n",
       "      <td>Shooter</td>\n",
       "      <td>6.03</td>\n",
       "      <td>5.86</td>\n",
       "      <td>0.36</td>\n",
       "      <td>2.38</td>\n",
       "      <td>14.63</td>\n",
       "      <td>NaN</td>\n",
       "      <td>NaN</td>\n",
       "      <td>not_rated</td>\n",
       "    </tr>\n",
       "    <tr>\n",
       "      <th>...</th>\n",
       "      <td>...</td>\n",
       "      <td>...</td>\n",
       "      <td>...</td>\n",
       "      <td>...</td>\n",
       "      <td>...</td>\n",
       "      <td>...</td>\n",
       "      <td>...</td>\n",
       "      <td>...</td>\n",
       "      <td>...</td>\n",
       "      <td>...</td>\n",
       "      <td>...</td>\n",
       "      <td>...</td>\n",
       "    </tr>\n",
       "    <tr>\n",
       "      <th>16707</th>\n",
       "      <td>Aiyoku no Eustia</td>\n",
       "      <td>PSV</td>\n",
       "      <td>2014.0</td>\n",
       "      <td>Misc</td>\n",
       "      <td>0.00</td>\n",
       "      <td>0.00</td>\n",
       "      <td>0.01</td>\n",
       "      <td>0.00</td>\n",
       "      <td>0.01</td>\n",
       "      <td>NaN</td>\n",
       "      <td>NaN</td>\n",
       "      <td>not_rated</td>\n",
       "    </tr>\n",
       "    <tr>\n",
       "      <th>16710</th>\n",
       "      <td>Samurai Warriors: Sanada Maru</td>\n",
       "      <td>PS3</td>\n",
       "      <td>2016.0</td>\n",
       "      <td>Action</td>\n",
       "      <td>0.00</td>\n",
       "      <td>0.00</td>\n",
       "      <td>0.01</td>\n",
       "      <td>0.00</td>\n",
       "      <td>0.01</td>\n",
       "      <td>NaN</td>\n",
       "      <td>NaN</td>\n",
       "      <td>not_rated</td>\n",
       "    </tr>\n",
       "    <tr>\n",
       "      <th>16711</th>\n",
       "      <td>LMA Manager 2007</td>\n",
       "      <td>X360</td>\n",
       "      <td>2006.0</td>\n",
       "      <td>Sports</td>\n",
       "      <td>0.00</td>\n",
       "      <td>0.01</td>\n",
       "      <td>0.00</td>\n",
       "      <td>0.00</td>\n",
       "      <td>0.01</td>\n",
       "      <td>NaN</td>\n",
       "      <td>NaN</td>\n",
       "      <td>not_rated</td>\n",
       "    </tr>\n",
       "    <tr>\n",
       "      <th>16712</th>\n",
       "      <td>Haitaka no Psychedelica</td>\n",
       "      <td>PSV</td>\n",
       "      <td>2016.0</td>\n",
       "      <td>Adventure</td>\n",
       "      <td>0.00</td>\n",
       "      <td>0.00</td>\n",
       "      <td>0.01</td>\n",
       "      <td>0.00</td>\n",
       "      <td>0.01</td>\n",
       "      <td>NaN</td>\n",
       "      <td>NaN</td>\n",
       "      <td>not_rated</td>\n",
       "    </tr>\n",
       "    <tr>\n",
       "      <th>16714</th>\n",
       "      <td>Winning Post 8 2016</td>\n",
       "      <td>PSV</td>\n",
       "      <td>2016.0</td>\n",
       "      <td>Simulation</td>\n",
       "      <td>0.00</td>\n",
       "      <td>0.00</td>\n",
       "      <td>0.01</td>\n",
       "      <td>0.00</td>\n",
       "      <td>0.01</td>\n",
       "      <td>NaN</td>\n",
       "      <td>NaN</td>\n",
       "      <td>not_rated</td>\n",
       "    </tr>\n",
       "  </tbody>\n",
       "</table>\n",
       "<p>4012 rows × 12 columns</p>\n",
       "</div>"
      ],
      "text/plain": [
       "                                 name platform  year_of_release       genre  \\\n",
       "14                 Kinect Adventures!     X360           2010.0        Misc   \n",
       "16                 Grand Theft Auto V      PS3           2013.0      Action   \n",
       "23                 Grand Theft Auto V     X360           2013.0      Action   \n",
       "29     Call of Duty: Modern Warfare 3     X360           2011.0     Shooter   \n",
       "31          Call of Duty: Black Ops 3      PS4           2015.0     Shooter   \n",
       "...                               ...      ...              ...         ...   \n",
       "16707                Aiyoku no Eustia      PSV           2014.0        Misc   \n",
       "16710   Samurai Warriors: Sanada Maru      PS3           2016.0      Action   \n",
       "16711                LMA Manager 2007     X360           2006.0      Sports   \n",
       "16712         Haitaka no Psychedelica      PSV           2016.0   Adventure   \n",
       "16714             Winning Post 8 2016      PSV           2016.0  Simulation   \n",
       "\n",
       "       na_sales  eu_sales  jp_sales  other_sales  global_sales  critic_score  \\\n",
       "14        15.00      4.89      0.24         1.69         21.82          61.0   \n",
       "16         7.02      9.09      0.98         3.96         21.05          97.0   \n",
       "23         9.66      5.14      0.06         1.41         16.27          97.0   \n",
       "29         9.04      4.24      0.13         1.32         14.73          88.0   \n",
       "31         6.03      5.86      0.36         2.38         14.63           NaN   \n",
       "...         ...       ...       ...          ...           ...           ...   \n",
       "16707      0.00      0.00      0.01         0.00          0.01           NaN   \n",
       "16710      0.00      0.00      0.01         0.00          0.01           NaN   \n",
       "16711      0.00      0.01      0.00         0.00          0.01           NaN   \n",
       "16712      0.00      0.00      0.01         0.00          0.01           NaN   \n",
       "16714      0.00      0.00      0.01         0.00          0.01           NaN   \n",
       "\n",
       "       user_score     rating  \n",
       "14            6.3          E  \n",
       "16            8.2          M  \n",
       "23            8.1          M  \n",
       "29            3.4          M  \n",
       "31            NaN  not_rated  \n",
       "...           ...        ...  \n",
       "16707         NaN  not_rated  \n",
       "16710         NaN  not_rated  \n",
       "16711         NaN  not_rated  \n",
       "16712         NaN  not_rated  \n",
       "16714         NaN  not_rated  \n",
       "\n",
       "[4012 rows x 12 columns]"
      ]
     },
     "execution_count": 342,
     "metadata": {},
     "output_type": "execute_result"
    }
   ],
   "source": [
    "# сохраним копию датасета до удаления данных\n",
    "df_full = df.copy()\n",
    "df = df[df['platform'].isin(platform_df_rel['platform'])]\n",
    "df\n"
   ]
  },
  {
   "attachments": {},
   "cell_type": "markdown",
   "metadata": {
    "id": "DZ4TEjo1UCcn"
   },
   "source": [
    "Взглянем на гистограмы продаж по оставшимся платформам."
   ]
  },
  {
   "cell_type": "code",
   "execution_count": 343,
   "metadata": {
    "colab": {
     "base_uri": "https://localhost:8080/",
     "height": 1000
    },
    "id": "-9z8iz2OUCPX",
    "outputId": "19251ca9-e4ee-47f1-80f1-4dfeaa07bdf7"
   },
   "outputs": [
    {
     "data": {
      "image/png": "[encoded data removed]",
      "text/plain": [
       "<Figure size 500x1500 with 7 Axes>"
      ]
     },
     "metadata": {},
     "output_type": "display_data"
    }
   ],
   "source": [
    "df_by_platform = df.pivot_table(\n",
    "    index='year_of_release', \n",
    "    columns='platform', \n",
    "    values='global_sales', \n",
    "    aggfunc=['sum']\n",
    ").reset_index()\n",
    "\n",
    "df_by_platform.plot.bar(\n",
    "    x='year_of_release', \n",
    "    y='sum', \n",
    "    figsize=(5, 15), \n",
    "    subplots=True\n",
    ");\n"
   ]
  },
  {
   "attachments": {},
   "cell_type": "markdown",
   "metadata": {
    "id": "lnWnCMnnWVa7"
   },
   "source": [
    "Из оставшихся платформ как минимум на две не стоит делать ставку, это `PS3` и `X360`. Обе платформы доживают последние дни и у них уже есть преемники `PS4` и `XOne`."
   ]
  },
  {
   "attachments": {},
   "cell_type": "markdown",
   "metadata": {},
   "source": [
    "За начало актуального периода возьмём 2014г, мы будем опираться на данные за последние 3 года."
   ]
  },
  {
   "cell_type": "code",
   "execution_count": 344,
   "metadata": {},
   "outputs": [],
   "source": [
    "df_from_2014 = df.copy()\n",
    "df_from_2014 = df[df['year_of_release'] >= 2014]\n"
   ]
  },
  {
   "attachments": {},
   "cell_type": "markdown",
   "metadata": {
    "id": "QVLPcISOu5KB"
   },
   "source": [
    "## Определим какие платформы лидируют по продажам, растут или падают."
   ]
  },
  {
   "attachments": {},
   "cell_type": "markdown",
   "metadata": {
    "id": "jtOY-FPPu48N"
   },
   "source": [
    "Платформы которые однозначно падают по продажам:\n",
    " - PS3\n",
    " - X360  \n",
    " \n",
    "Платформы которые показывают рост:\n",
    " - PS4\n",
    " - XOne    \n",
    "\n",
    "Остальные платформы не столь однозначны, но исключать их не стоит, в частности PC\n"
   ]
  },
  {
   "attachments": {},
   "cell_type": "markdown",
   "metadata": {
    "id": "nrtsYVi6u4bU"
   },
   "source": [
    "## Оценим глобальную продажу игр в разбивке по платформам."
   ]
  },
  {
   "cell_type": "code",
   "execution_count": 345,
   "metadata": {},
   "outputs": [
    {
     "data": {
      "text/html": [
       "<div>\n",
       "<style scoped>\n",
       "    .dataframe tbody tr th:only-of-type {\n",
       "        vertical-align: middle;\n",
       "    }\n",
       "\n",
       "    .dataframe tbody tr th {\n",
       "        vertical-align: top;\n",
       "    }\n",
       "\n",
       "    .dataframe thead th {\n",
       "        text-align: right;\n",
       "    }\n",
       "</style>\n",
       "<table border=\"1\" class=\"dataframe\">\n",
       "  <thead>\n",
       "    <tr style=\"text-align: right;\">\n",
       "      <th></th>\n",
       "      <th>name</th>\n",
       "      <th>platform</th>\n",
       "      <th>year_of_release</th>\n",
       "      <th>genre</th>\n",
       "      <th>na_sales</th>\n",
       "      <th>eu_sales</th>\n",
       "      <th>jp_sales</th>\n",
       "      <th>other_sales</th>\n",
       "      <th>global_sales</th>\n",
       "      <th>critic_score</th>\n",
       "      <th>user_score</th>\n",
       "      <th>rating</th>\n",
       "    </tr>\n",
       "  </thead>\n",
       "  <tbody>\n",
       "    <tr>\n",
       "      <th>31</th>\n",
       "      <td>Call of Duty: Black Ops 3</td>\n",
       "      <td>PS4</td>\n",
       "      <td>2015.0</td>\n",
       "      <td>Shooter</td>\n",
       "      <td>6.03</td>\n",
       "      <td>5.86</td>\n",
       "      <td>0.36</td>\n",
       "      <td>2.38</td>\n",
       "      <td>14.63</td>\n",
       "      <td>NaN</td>\n",
       "      <td>NaN</td>\n",
       "      <td>not_rated</td>\n",
       "    </tr>\n",
       "    <tr>\n",
       "      <th>42</th>\n",
       "      <td>Grand Theft Auto V</td>\n",
       "      <td>PS4</td>\n",
       "      <td>2014.0</td>\n",
       "      <td>Action</td>\n",
       "      <td>3.96</td>\n",
       "      <td>6.31</td>\n",
       "      <td>0.38</td>\n",
       "      <td>1.97</td>\n",
       "      <td>12.62</td>\n",
       "      <td>97.0</td>\n",
       "      <td>8.3</td>\n",
       "      <td>M</td>\n",
       "    </tr>\n",
       "    <tr>\n",
       "      <th>47</th>\n",
       "      <td>Pokemon Omega Ruby/Pokemon Alpha Sapphire</td>\n",
       "      <td>3DS</td>\n",
       "      <td>2014.0</td>\n",
       "      <td>Role-Playing</td>\n",
       "      <td>4.35</td>\n",
       "      <td>3.49</td>\n",
       "      <td>3.10</td>\n",
       "      <td>0.74</td>\n",
       "      <td>11.68</td>\n",
       "      <td>NaN</td>\n",
       "      <td>NaN</td>\n",
       "      <td>not_rated</td>\n",
       "    </tr>\n",
       "    <tr>\n",
       "      <th>77</th>\n",
       "      <td>FIFA 16</td>\n",
       "      <td>PS4</td>\n",
       "      <td>2015.0</td>\n",
       "      <td>Sports</td>\n",
       "      <td>1.12</td>\n",
       "      <td>6.12</td>\n",
       "      <td>0.06</td>\n",
       "      <td>1.28</td>\n",
       "      <td>8.58</td>\n",
       "      <td>82.0</td>\n",
       "      <td>4.3</td>\n",
       "      <td>E</td>\n",
       "    </tr>\n",
       "    <tr>\n",
       "      <th>87</th>\n",
       "      <td>Star Wars Battlefront (2015)</td>\n",
       "      <td>PS4</td>\n",
       "      <td>2015.0</td>\n",
       "      <td>Shooter</td>\n",
       "      <td>2.99</td>\n",
       "      <td>3.49</td>\n",
       "      <td>0.22</td>\n",
       "      <td>1.28</td>\n",
       "      <td>7.98</td>\n",
       "      <td>NaN</td>\n",
       "      <td>NaN</td>\n",
       "      <td>not_rated</td>\n",
       "    </tr>\n",
       "    <tr>\n",
       "      <th>...</th>\n",
       "      <td>...</td>\n",
       "      <td>...</td>\n",
       "      <td>...</td>\n",
       "      <td>...</td>\n",
       "      <td>...</td>\n",
       "      <td>...</td>\n",
       "      <td>...</td>\n",
       "      <td>...</td>\n",
       "      <td>...</td>\n",
       "      <td>...</td>\n",
       "      <td>...</td>\n",
       "      <td>...</td>\n",
       "    </tr>\n",
       "    <tr>\n",
       "      <th>16703</th>\n",
       "      <td>Strawberry Nauts</td>\n",
       "      <td>PSV</td>\n",
       "      <td>2016.0</td>\n",
       "      <td>Adventure</td>\n",
       "      <td>0.00</td>\n",
       "      <td>0.00</td>\n",
       "      <td>0.01</td>\n",
       "      <td>0.00</td>\n",
       "      <td>0.01</td>\n",
       "      <td>NaN</td>\n",
       "      <td>NaN</td>\n",
       "      <td>not_rated</td>\n",
       "    </tr>\n",
       "    <tr>\n",
       "      <th>16707</th>\n",
       "      <td>Aiyoku no Eustia</td>\n",
       "      <td>PSV</td>\n",
       "      <td>2014.0</td>\n",
       "      <td>Misc</td>\n",
       "      <td>0.00</td>\n",
       "      <td>0.00</td>\n",
       "      <td>0.01</td>\n",
       "      <td>0.00</td>\n",
       "      <td>0.01</td>\n",
       "      <td>NaN</td>\n",
       "      <td>NaN</td>\n",
       "      <td>not_rated</td>\n",
       "    </tr>\n",
       "    <tr>\n",
       "      <th>16710</th>\n",
       "      <td>Samurai Warriors: Sanada Maru</td>\n",
       "      <td>PS3</td>\n",
       "      <td>2016.0</td>\n",
       "      <td>Action</td>\n",
       "      <td>0.00</td>\n",
       "      <td>0.00</td>\n",
       "      <td>0.01</td>\n",
       "      <td>0.00</td>\n",
       "      <td>0.01</td>\n",
       "      <td>NaN</td>\n",
       "      <td>NaN</td>\n",
       "      <td>not_rated</td>\n",
       "    </tr>\n",
       "    <tr>\n",
       "      <th>16712</th>\n",
       "      <td>Haitaka no Psychedelica</td>\n",
       "      <td>PSV</td>\n",
       "      <td>2016.0</td>\n",
       "      <td>Adventure</td>\n",
       "      <td>0.00</td>\n",
       "      <td>0.00</td>\n",
       "      <td>0.01</td>\n",
       "      <td>0.00</td>\n",
       "      <td>0.01</td>\n",
       "      <td>NaN</td>\n",
       "      <td>NaN</td>\n",
       "      <td>not_rated</td>\n",
       "    </tr>\n",
       "    <tr>\n",
       "      <th>16714</th>\n",
       "      <td>Winning Post 8 2016</td>\n",
       "      <td>PSV</td>\n",
       "      <td>2016.0</td>\n",
       "      <td>Simulation</td>\n",
       "      <td>0.00</td>\n",
       "      <td>0.00</td>\n",
       "      <td>0.01</td>\n",
       "      <td>0.00</td>\n",
       "      <td>0.01</td>\n",
       "      <td>NaN</td>\n",
       "      <td>NaN</td>\n",
       "      <td>not_rated</td>\n",
       "    </tr>\n",
       "  </tbody>\n",
       "</table>\n",
       "<p>1433 rows × 12 columns</p>\n",
       "</div>"
      ],
      "text/plain": [
       "                                            name platform  year_of_release  \\\n",
       "31                     Call of Duty: Black Ops 3      PS4           2015.0   \n",
       "42                            Grand Theft Auto V      PS4           2014.0   \n",
       "47     Pokemon Omega Ruby/Pokemon Alpha Sapphire      3DS           2014.0   \n",
       "77                                       FIFA 16      PS4           2015.0   \n",
       "87                  Star Wars Battlefront (2015)      PS4           2015.0   \n",
       "...                                          ...      ...              ...   \n",
       "16703                           Strawberry Nauts      PSV           2016.0   \n",
       "16707                           Aiyoku no Eustia      PSV           2014.0   \n",
       "16710              Samurai Warriors: Sanada Maru      PS3           2016.0   \n",
       "16712                    Haitaka no Psychedelica      PSV           2016.0   \n",
       "16714                        Winning Post 8 2016      PSV           2016.0   \n",
       "\n",
       "              genre  na_sales  eu_sales  jp_sales  other_sales  global_sales  \\\n",
       "31          Shooter      6.03      5.86      0.36         2.38         14.63   \n",
       "42           Action      3.96      6.31      0.38         1.97         12.62   \n",
       "47     Role-Playing      4.35      3.49      3.10         0.74         11.68   \n",
       "77           Sports      1.12      6.12      0.06         1.28          8.58   \n",
       "87          Shooter      2.99      3.49      0.22         1.28          7.98   \n",
       "...             ...       ...       ...       ...          ...           ...   \n",
       "16703     Adventure      0.00      0.00      0.01         0.00          0.01   \n",
       "16707          Misc      0.00      0.00      0.01         0.00          0.01   \n",
       "16710        Action      0.00      0.00      0.01         0.00          0.01   \n",
       "16712     Adventure      0.00      0.00      0.01         0.00          0.01   \n",
       "16714    Simulation      0.00      0.00      0.01         0.00          0.01   \n",
       "\n",
       "       critic_score  user_score     rating  \n",
       "31              NaN         NaN  not_rated  \n",
       "42             97.0         8.3          M  \n",
       "47              NaN         NaN  not_rated  \n",
       "77             82.0         4.3          E  \n",
       "87              NaN         NaN  not_rated  \n",
       "...             ...         ...        ...  \n",
       "16703           NaN         NaN  not_rated  \n",
       "16707           NaN         NaN  not_rated  \n",
       "16710           NaN         NaN  not_rated  \n",
       "16712           NaN         NaN  not_rated  \n",
       "16714           NaN         NaN  not_rated  \n",
       "\n",
       "[1433 rows x 12 columns]"
      ]
     },
     "execution_count": 345,
     "metadata": {},
     "output_type": "execute_result"
    }
   ],
   "source": [
    "df_from_2014\n"
   ]
  },
  {
   "cell_type": "code",
   "execution_count": 346,
   "metadata": {},
   "outputs": [
    {
     "data": {
      "image/png": "[encoded data removed]",
      "text/plain": [
       "<Figure size 2200x600 with 1 Axes>"
      ]
     },
     "metadata": {},
     "output_type": "display_data"
    },
    {
     "data": {
      "image/png": "[encoded data removed]",
      "text/plain": [
       "<Figure size 2200x600 with 1 Axes>"
      ]
     },
     "metadata": {},
     "output_type": "display_data"
    }
   ],
   "source": [
    "rcParams['figure.figsize'] = 22, 6\n",
    "\n",
    "df_boxplot = df.pivot_table(\n",
    "    index='name', columns='platform', values='global_sales').reset_index()\n",
    "index_sort = list(df_boxplot.median().sort_values().index)\n",
    "sns.boxplot(data=df_boxplot, orient='h', order=index_sort)\n",
    "plt.show();\n",
    "sns.boxplot(data=df_boxplot, orient='h', showfliers=False, order=index_sort);\n"
   ]
  },
  {
   "attachments": {},
   "cell_type": "markdown",
   "metadata": {
    "id": "c2HJ2Anyf57U"
   },
   "source": [
    "Самые высокие показатели у `PS3` и `X360`, что вновь говорит в пользу того, что в будущем стоит ориентироваться на продажи `PS4` и `XOne`, как приемников лидирующих ранее платформ. \n",
    "\n",
    "**На основе проведённого анализа можно сделать следующие выводы:**  \n",
    "Самые перспективные платформы: `XOne`, `PS4`  \n",
    "Платформа, которая вероятно не покажет высоких результатов, но точно не уйдёт с рынка: `PC`  \n",
    "Платформы продажи которых идут на спад: `3DS`, `PSV`, `WiiU`  \n",
    "Платформы которые в скором времени уйдут с рынка: `PS3`, `X360`"
   ]
  },
  {
   "cell_type": "code",
   "execution_count": 347,
   "metadata": {},
   "outputs": [],
   "source": [
    "df = df_from_2014\n",
    "del df_from_2014"
   ]
  },
  {
   "attachments": {},
   "cell_type": "markdown",
   "metadata": {
    "id": "LAIScLLSu4D4"
   },
   "source": [
    "## Посмотрим как влияют на продажи внутри одной популярной платформы отзывы пользователей и критиков."
   ]
  },
  {
   "attachments": {},
   "cell_type": "markdown",
   "metadata": {},
   "source": [
    "Оценим корреляцию между продажами и оценками критиков и пользователей на PS4"
   ]
  },
  {
   "cell_type": "code",
   "execution_count": 348,
   "metadata": {
    "colab": {
     "base_uri": "https://localhost:8080/",
     "height": 760
    },
    "id": "aLYTwI43f57V",
    "outputId": "da633023-b051-410f-fd2d-3b831b5b3908"
   },
   "outputs": [
    {
     "data": {
      "image/png": "[encoded data removed]",
      "text/plain": [
       "<Figure size 300x300 with 1 Axes>"
      ]
     },
     "metadata": {},
     "output_type": "display_data"
    },
    {
     "data": {
      "image/png": "[encoded data removed]",
      "text/plain": [
       "<Figure size 300x300 with 1 Axes>"
      ]
     },
     "metadata": {},
     "output_type": "display_data"
    }
   ],
   "source": [
    "df[df['platform'] == 'PS4'].plot.scatter(\n",
    "    x='critic_score', y='global_sales', figsize=(3, 3))\n",
    "plt.show();\n",
    "df[df['platform'] == 'PS4'].plot.scatter(\n",
    "    x='user_score', y='global_sales', figsize=(3, 3));\n"
   ]
  },
  {
   "cell_type": "code",
   "execution_count": 349,
   "metadata": {
    "colab": {
     "base_uri": "https://localhost:8080/"
    },
    "id": "QrJRfjOlrLbg",
    "outputId": "c3af7675-1f18-4587-c380-acfaad2acf8d"
   },
   "outputs": [
    {
     "name": "stdout",
     "output_type": "stream",
     "text": [
      "Корреляция между оценками критиков и продажами игр на PS4 =   0.40249779652369794\n",
      "Корреляция между оценками пользователей и продажами игр на PS4 =   -0.04013158947269733\n"
     ]
    }
   ],
   "source": [
    "print('Корреляция между оценками критиков и продажами игр на PS4 =  ',\n",
    "      df[df['platform'] == 'PS4']['critic_score'].corr(df[df['platform'] == 'PS4']['global_sales']))\n",
    "print('Корреляция между оценками пользователей и продажами игр на PS4 =  ',\n",
    "      df[df['platform'] == 'PS4']['user_score'].corr(df[df['platform'] == 'PS4']['global_sales']))\n"
   ]
  },
  {
   "attachments": {},
   "cell_type": "markdown",
   "metadata": {
    "id": "ltrVuo16rjVM"
   },
   "source": [
    "Между оценками критиков и продажами, есть корреляция, но не между оценками пользователей и продажами."
   ]
  },
  {
   "attachments": {},
   "cell_type": "markdown",
   "metadata": {
    "id": "300JHUx0vCjr"
   },
   "source": [
    "Соотнесите выводы с продажами игр на других платформах."
   ]
  },
  {
   "cell_type": "code",
   "execution_count": 350,
   "metadata": {
    "colab": {
     "base_uri": "https://localhost:8080/"
    },
    "id": "fe09KYbuvCxk",
    "outputId": "e18e6715-bd62-479f-8413-4a2e6f401278"
   },
   "outputs": [
    {
     "name": "stdout",
     "output_type": "stream",
     "text": [
      "Корреляция между оценками критиков и продажами на PS4 =  0.40249779652369794\n",
      "Корреляция между оценками пользователей и продажами на PS4 =  -0.04013158947269733\n",
      "\n",
      "\n",
      "Корреляция между оценками критиков и продажами на 3DS =  0.28468579095782925\n",
      "Корреляция между оценками пользователей и продажами на 3DS =  0.2151932718527028\n",
      "\n",
      "\n",
      "Корреляция между оценками критиков и продажами на XOne =  0.424101429462753\n",
      "Корреляция между оценками пользователей и продажами на XOne =  -0.07038392806475818\n",
      "\n",
      "\n",
      "Корреляция между оценками критиков и продажами на WiiU =  0.37564022183899803\n",
      "Корреляция между оценками пользователей и продажами на WiiU =  0.40792645792170795\n",
      "\n",
      "\n",
      "Корреляция между оценками критиков и продажами на PS3 =  0.44657460493190715\n",
      "Корреляция между оценками пользователей и продажами на PS3 =  -0.1667614134766211\n",
      "\n",
      "\n",
      "Корреляция между оценками критиков и продажами на X360 =  0.5257228356581521\n",
      "Корреляция между оценками пользователей и продажами на X360 =  -0.1384445709456651\n",
      "\n",
      "\n",
      "Корреляция между оценками критиков и продажами на PSV =  0.041029089741713314\n",
      "Корреляция между оценками пользователей и продажами на PSV =  -0.16845504978064443\n",
      "\n",
      "\n"
     ]
    }
   ],
   "source": [
    "for i in df['platform'].unique():\n",
    "    crit_corr = df[df['platform'] == i]['critic_score'].corr(df[df['platform'] == i]['global_sales'])\n",
    "    user_score = df[df['platform'] == i]['user_score'].corr(df[df['platform'] == i]['global_sales'])\n",
    "    print(f'Корреляция между оценками критиков и продажами на {i} =  {crit_corr}')\n",
    "    print(f'Корреляция между оценками пользователей и продажами на {i} =  {user_score}')\n",
    "    print('\\n')\n"
   ]
  },
  {
   "attachments": {},
   "cell_type": "markdown",
   "metadata": {
    "id": "XEw5yesr0XWB"
   },
   "source": [
    "На остальных платформах однозначно есть корреляция между оценками критиков и продажами, но не между оценками игроков и продажами."
   ]
  },
  {
   "cell_type": "code",
   "execution_count": 351,
   "metadata": {
    "colab": {
     "base_uri": "https://localhost:8080/"
    },
    "id": "p8k9Uqod6w97",
    "outputId": "b0598932-6a1f-4b95-a378-b9f8055e3fb2"
   },
   "outputs": [
    {
     "name": "stdout",
     "output_type": "stream",
     "text": [
      "-0.02564825746899643\n",
      "0.08798399271321644\n"
     ]
    }
   ],
   "source": [
    "print(df['user_score'].corr(df['global_sales']))\n",
    "print(df_full['user_score'].corr(df_full['global_sales']))"
   ]
  },
  {
   "attachments": {},
   "cell_type": "markdown",
   "metadata": {
    "id": "yoxPIu6c4j7Q"
   },
   "source": [
    "И в случае с полной выборкой, и в случае с отфильтроваными данными корреляция между оценками пользователей и продажами практически отсутствует."
   ]
  },
  {
   "attachments": {},
   "cell_type": "markdown",
   "metadata": {
    "id": "UkD28HQtvC8Q"
   },
   "source": [
    "## Оценим продажи по жанрам игр"
   ]
  },
  {
   "cell_type": "code",
   "execution_count": 352,
   "metadata": {
    "colab": {
     "base_uri": "https://localhost:8080/"
    },
    "id": "qJeMa-xQvDPD",
    "outputId": "e3f8b44d-64b9-41c3-959d-2ca8a915ceb1"
   },
   "outputs": [
    {
     "data": {
      "text/plain": [
       "genre\n",
       "Action          535\n",
       "Role-Playing    203\n",
       "Adventure       165\n",
       "Sports          138\n",
       "Shooter         102\n",
       "Misc             95\n",
       "Fighting         56\n",
       "Racing           53\n",
       "Platform         33\n",
       "Simulation       23\n",
       "Strategy         20\n",
       "Puzzle           10\n",
       "Name: name, dtype: int64"
      ]
     },
     "execution_count": 352,
     "metadata": {},
     "output_type": "execute_result"
    }
   ],
   "source": [
    "df.groupby('genre')['name'].count().sort_values(ascending=False)"
   ]
  },
  {
   "attachments": {},
   "cell_type": "markdown",
   "metadata": {
    "id": "Ytn8DRrTIPvk"
   },
   "source": [
    "Больше всего игр в жанре `Action`, меньше всего `Puzzle`"
   ]
  },
  {
   "cell_type": "code",
   "execution_count": 353,
   "metadata": {
    "colab": {
     "base_uri": "https://localhost:8080/"
    },
    "id": "bMQr8pdTCHaW",
    "outputId": "d522420f-75cb-4697-8523-ef7ee76fed13"
   },
   "outputs": [
    {
     "name": "stdout",
     "output_type": "stream",
     "text": [
      "Медиана продаж по жанру Shooter = 0.71\n",
      "Медиана продаж по жанру Sports = 0.345\n",
      "Медиана продаж по жанру Platform = 0.15\n",
      "Медиана продаж по жанру Fighting = 0.13\n",
      "Медиана продаж по жанру Racing = 0.13\n",
      "Медиана продаж по жанру Role-Playing = 0.11\n",
      "Медиана продаж по жанру Misc = 0.11\n",
      "Медиана продаж по жанру Action = 0.1\n",
      "Медиана продаж по жанру Simulation = 0.1\n",
      "Медиана продаж по жанру Strategy = 0.06\n",
      "Медиана продаж по жанру Puzzle = 0.055\n",
      "Медиана продаж по жанру Adventure = 0.03\n"
     ]
    }
   ],
   "source": [
    "genre_median_dict = {}\n",
    "for i in df['genre'].unique():\n",
    "    genre_median = df[df['genre'] == i]['global_sales'].median()\n",
    "    genre_median_dict[i] = round(genre_median, 3)\n",
    "[print(f'Медиана продаж по жанру {i[0]} = {i[1]}') for i in sorted(genre_median_dict.items(), key=lambda x: x[1], reverse=True)];"
   ]
  },
  {
   "attachments": {},
   "cell_type": "markdown",
   "metadata": {
    "id": "V0ZXaM3JIJXs"
   },
   "source": [
    "Лучше всего продаются игры жанра `Shooter`, хуже всего `Adventure`"
   ]
  },
  {
   "attachments": {},
   "cell_type": "markdown",
   "metadata": {
    "id": "My2vfrxrH2db"
   },
   "source": [
    "**В результате исследовательского анализа** данных было выявлено, что между оценками критиков и продажами игр есть корреляция, а между оценками пользователей и продажами она практически отсутствует.  \n",
    "Были выявлены наиболее и наименее перспективные по продажам платформы на 2017 год.  \n",
    "Также были выявлены наиболее и наименее продаваемые жанры игр."
   ]
  },
  {
   "attachments": {},
   "cell_type": "markdown",
   "metadata": {
    "id": "eXFp4_cMamhV"
   },
   "source": [
    "# Составим портрет пользователя каждого региона"
   ]
  },
  {
   "attachments": {},
   "cell_type": "markdown",
   "metadata": {
    "id": "qnKyjhbLamXA"
   },
   "source": [
    "## Определим для пользователя каждого региона топ-5 платформ."
   ]
  },
  {
   "cell_type": "code",
   "execution_count": 354,
   "metadata": {
    "colab": {
     "base_uri": "https://localhost:8080/"
    },
    "id": "PggUABx0a_zQ",
    "outputId": "9ab5664e-9ef8-453c-ac45-32776ea7b2a4"
   },
   "outputs": [
    {
     "name": "stdout",
     "output_type": "stream",
     "text": [
      "NA top 5 platform\n",
      "PS4     98.49\n",
      "XOne    80.92\n",
      "X360    27.54\n",
      "3DS     22.23\n",
      "PS3     21.82\n",
      "Name: na_sales, dtype: float64\n",
      "\n",
      "EU top 5 platform\n",
      "PS4     130.04\n",
      "XOne     46.09\n",
      "PS3      24.97\n",
      "3DS      15.42\n",
      "X360     15.01\n",
      "Name: eu_sales, dtype: float64\n",
      "\n",
      "JP top 5 platform\n",
      "3DS     44.13\n",
      "PS4     15.02\n",
      "PSV     14.43\n",
      "PS3     10.85\n",
      "WiiU     7.31\n",
      "Name: jp_sales, dtype: float64\n",
      "\n"
     ]
    }
   ],
   "source": [
    "print('NA top 5', df.groupby('platform')[\n",
    "      'na_sales'].sum().sort_values(ascending=False)[:5], end='\\n\\n')\n",
    "print('EU top 5', df.groupby('platform')[\n",
    "      'eu_sales'].sum().sort_values(ascending=False)[:5], end='\\n\\n')\n",
    "print('JP top 5', df.groupby('platform')[\n",
    "      'jp_sales'].sum().sort_values(ascending=False)[:5], end='\\n\\n')\n"
   ]
  },
  {
   "attachments": {},
   "cell_type": "markdown",
   "metadata": {
    "id": "TvA-s5f9e88o"
   },
   "source": [
    "В различных регионах популярны различные платформы.  \n",
    "В Северной Америке более популярны `X360`.  \n",
    "\n",
    "В Европе, в отличие от Северной Америки более популярны `PC`.   \n",
    "\n",
    "В Японии, в топ 5 не попал ни `XBox`, ни `PC`, в топ вошли только платформы местного производства. Первое место у `Nintendo 3DS`. Также в топ 5 попал `WiiU`."
   ]
  },
  {
   "attachments": {},
   "cell_type": "markdown",
   "metadata": {
    "id": "Ljfj_nvTaxc1"
   },
   "source": [
    "## Определим топ-5 жанров для пользователя каждого региона "
   ]
  },
  {
   "cell_type": "code",
   "execution_count": 355,
   "metadata": {
    "colab": {
     "base_uri": "https://localhost:8080/"
    },
    "id": "b3g5YKM_vDYl",
    "outputId": "8b872aea-5d5e-4233-a39f-b850bde86dd7"
   },
   "outputs": [
    {
     "name": "stdout",
     "output_type": "stream",
     "text": [
      "NA top 5 genre\n",
      "Shooter     0.350\n",
      "Sports      0.095\n",
      "Platform    0.080\n",
      "Fighting    0.050\n",
      "Racing      0.040\n",
      "Name: na_sales, dtype: float64\n",
      "\n",
      "EU top 5 genre\n",
      "Shooter     0.265\n",
      "Racing      0.080\n",
      "Platform    0.060\n",
      "Sports      0.060\n",
      "Action      0.020\n",
      "Name: eu_sales, dtype: float64\n",
      "\n",
      "JP top 5 genre\n",
      "Puzzle          0.055\n",
      "Role-Playing    0.050\n",
      "Fighting        0.040\n",
      "Strategy        0.025\n",
      "Misc            0.020\n",
      "Name: jp_sales, dtype: float64\n",
      "\n"
     ]
    }
   ],
   "source": [
    "print('NA top 5', df.groupby('genre')['na_sales'].median(\n",
    ").sort_values(ascending=False)[:5], end='\\n\\n')\n",
    "print('EU top 5', df.groupby('genre')['eu_sales'].median(\n",
    ").sort_values(ascending=False)[:5], end='\\n\\n')\n",
    "print('JP top 5', df.groupby('genre')['jp_sales'].median(\n",
    ").sort_values(ascending=False)[:5], end='\\n\\n')\n"
   ]
  },
  {
   "attachments": {},
   "cell_type": "markdown",
   "metadata": {
    "id": "vdBfI4ASgFpL"
   },
   "source": [
    "В различных регионах популярны различные жанры.  \n",
    "В Северной Америке в топ 5 попадают игры `Fighting`, а в Европе `Simulation`  \n",
    "В Японии, в топ 5 попали жанры `Role-Playing`, `Misc`, `Action`, а на первом месте `Puzzle`"
   ]
  },
  {
   "attachments": {},
   "cell_type": "markdown",
   "metadata": {
    "id": "uBflEjfJaz7a"
   },
   "source": [
    "## Определим влияет ли рейтинг ESRB на продажи в отдельном регионе"
   ]
  },
  {
   "cell_type": "code",
   "execution_count": 356,
   "metadata": {
    "colab": {
     "base_uri": "https://localhost:8080/"
    },
    "id": "hLA-8_wovDjp",
    "outputId": "652207c1-e0d5-44f8-a3b7-170f67cddb08"
   },
   "outputs": [
    {
     "name": "stdout",
     "output_type": "stream",
     "text": [
      "NA top 5 rating\n",
      "M            99.00\n",
      "not_rated    54.64\n",
      "E            50.02\n",
      "T            37.95\n",
      "E10+         31.06\n",
      "Name: na_sales, dtype: float64\n",
      "\n",
      "EU top 5 rating\n",
      "M            93.49\n",
      "E            55.05\n",
      "not_rated    45.28\n",
      "T            30.98\n",
      "E10+         23.10\n",
      "Name: eu_sales, dtype: float64\n",
      "\n",
      "JP top 5 rating\n",
      "not_rated    54.20\n",
      "T            15.77\n",
      "E             8.98\n",
      "M             8.55\n",
      "E10+          4.64\n",
      "Name: jp_sales, dtype: float64\n",
      "\n"
     ]
    }
   ],
   "source": [
    "print('NA top 5', df.groupby('rating')['na_sales'].sum().sort_values(ascending=False)[:5], end='\\n\\n')\n",
    "print('EU top 5', df.groupby('rating')['eu_sales'].sum().sort_values(ascending=False)[:5], end='\\n\\n')\n",
    "print('JP top 5', df.groupby('rating')['jp_sales'].sum().sort_values(ascending=False)[:5], end='\\n\\n')\n"
   ]
  },
  {
   "attachments": {},
   "cell_type": "markdown",
   "metadata": {
    "id": "rNFfdampg3-a"
   },
   "source": [
    "В различных регионах популярны различные возрастные рейтинги.  \n",
    "В Северной Америке и Европе различия незначительны, за исключением порядка 2-4 мест.  \n",
    "Однако в Японии первое место по популярности занимают игры без определённого рейтинга, вероятнее всего выпущенные местными издателями и для местного рынка, поэтому не получившие рейтинга в системе ESRB. На втором месте на рынке Японии игры с рейтингом `T`, в то время как в других рассматриваемых регионах он находится на четвёртом месте со значительным отставанием от лидера, рейтинга `М`."
   ]
  },
  {
   "attachments": {},
   "cell_type": "markdown",
   "metadata": {
    "id": "ALjnfvi3JCwF"
   },
   "source": [
    "**В результате исследования данных пользователей каждого региона** было выявлено, что предпочтения жителей Северной Америки, Европы и Японии отличаются и в выборе платформы, и в выборе жанров, и даже в возрастном рейтинге. Причём различия между `eu` и `na` выражены меньше, чем между `jp` и остальными регионами."
   ]
  },
  {
   "attachments": {},
   "cell_type": "markdown",
   "metadata": {
    "id": "_0vxVsRlhq84"
   },
   "source": [
    "## Сравним играм на какой платформе Xbox One или PC отдают предпочтения пользователи"
   ]
  },
  {
   "attachments": {},
   "cell_type": "markdown",
   "metadata": {
    "id": "ckm9OGq8wdQq"
   },
   "source": [
    "В качетсве нулевой гипотезы **H0** возьмём утверждение, что **\"средние пользовательские рейтинги платформ Xbox One и PC одинаковые\"**, тогда гипотеза **H1 \"средние пользовательские рейтинги платформ Xbox One и PC разные\"**.  \n",
    "В качестве проверки гипотезы применим метод t_test к двум выборкам по рейтингам платформ и оценим pvalue.  \n",
    "В качестве порогового значения alpha будет принято значение в 5%"
   ]
  },
  {
   "cell_type": "code",
   "execution_count": 357,
   "metadata": {
    "colab": {
     "base_uri": "https://localhost:8080/"
    },
    "id": "RcUi5TKVhqzP",
    "outputId": "74445526-6034-4467-bdc4-ab2be9933eb7"
   },
   "outputs": [
    {
     "name": "stdout",
     "output_type": "stream",
     "text": [
      "6.521428571428571 7.065960264900662\n",
      "Гипотеза H0 отвергнута\n",
      "Pvalue = 0.000005\n"
     ]
    }
   ],
   "source": [
    "rate_xbox = list(df_full[df_full['platform'] == 'XOne']['user_score'].dropna())\n",
    "rate_pc = list(df_full[df_full['platform'] == 'PC']['user_score'].dropna())\n",
    "print(mean(rate_xbox), mean(rate_pc))\n",
    "user_score_pc_xbox_pvalue = stats.ttest_ind(rate_xbox, rate_pc, equal_var=False).pvalue\n",
    "print('Гипотеза H0 принята') if user_score_pc_xbox_pvalue > 0.05 else print('Гипотеза H0 отвергнута')\n",
    "print(f'Pvalue = {user_score_pc_xbox_pvalue:f}')\n"
   ]
  },
  {
   "attachments": {},
   "cell_type": "markdown",
   "metadata": {
    "id": "75RgyujewQ_v"
   },
   "source": [
    "Гипотеза **H0 - \"средние пользовательские рейтинги платформ Xbox One и PC одинаковые\"** отвергнута.  \n",
    "Пользовательский рейтиг игр на pc выше, чем на xbox."
   ]
  },
  {
   "attachments": {},
   "cell_type": "markdown",
   "metadata": {
    "id": "298j-0BOhxqc"
   },
   "source": [
    "## Сравним пользовательские рейтинги жанров Action и Sports"
   ]
  },
  {
   "attachments": {},
   "cell_type": "markdown",
   "metadata": {
    "id": "RysLn7G4xD3b"
   },
   "source": [
    "В качестве гипотезы **H0** будет принято утверждение **\"средние пользовательские рейтинги жанров Action и Sports одинаковы.\"** \n",
    "Таким образом если pvalue будет ниже порогового значения, то мы перейдём к гипотезе **H1 о том, что рейтинги разные**."
   ]
  },
  {
   "cell_type": "code",
   "execution_count": 358,
   "metadata": {
    "colab": {
     "base_uri": "https://localhost:8080/"
    },
    "id": "CIc5H9tthxzF",
    "outputId": "44bda5c1-3158-4011-a8f1-fa7690abdd9a"
   },
   "outputs": [
    {
     "name": "stdout",
     "output_type": "stream",
     "text": [
      "6.8048689138576774 5.272173913043479\n",
      "Гипотеза H0 отвергнута\n",
      "Pvalue = 1.038890e-17\n"
     ]
    }
   ],
   "source": [
    "rate_action = list(df[df['genre'] == 'Action']['user_score'].dropna())\n",
    "rate_sports = list(df[df['genre'] == 'Sports']['user_score'].dropna())\n",
    "print(mean(rate_action), mean(rate_sports))\n",
    "user_score_sports_action_pbalue = stats.ttest_ind(\n",
    "    rate_action, rate_sports).pvalue\n",
    "print('Гипотеза H0 принята') if user_score_sports_action_pbalue > 0.05 else print(\n",
    "    'Гипотеза H0 отвергнута')\n",
    "print(f'Pvalue = {user_score_sports_action_pbalue:e}')\n"
   ]
  },
  {
   "attachments": {},
   "cell_type": "markdown",
   "metadata": {
    "id": "MV13CBKFyD94"
   },
   "source": [
    "Принята гипотеза **H1 - \"Средние пользовательские рейтинги жанров Action (англ. «действие», экшен-игры) и Sports (англ. «спортивные соревнования») разные.\"**"
   ]
  },
  {
   "attachments": {},
   "cell_type": "markdown",
   "metadata": {
    "id": "v-K7Nr5yFdtH"
   },
   "source": [
    "**В результате проверки гипотез** было выявлено, что:  \n",
    "- с высокой вероятностью средние пользовательские рейтинги платформ Xbox One и PC разные;\n",
    "- с высокой вероятностью cредние пользовательские рейтинги жанров Action и Sports разные."
   ]
  },
  {
   "attachments": {},
   "cell_type": "markdown",
   "metadata": {
    "id": "N3XpNpEnhyB_"
   },
   "source": [
    "# Общий вывод"
   ]
  },
  {
   "attachments": {},
   "cell_type": "markdown",
   "metadata": {
    "id": "YjMCQlKyEPP4"
   },
   "source": [
    "\n",
    "\n",
    "Были выявлены **наиболее перспективные платформы** на 2017 год:\n",
    "- самые перспективные платформы: `XOne`, `PS4`;  \n",
    "- платформа, которая вероятно не покажет высоких результатов, но точно не уйдёт с рынка: `PC`;  \n",
    "- платформы, продажи которых идут на спад, на продажи с которых не стоит сильно рассчитывать: `3DS`, `PSV`, `WiiU`.   \n",
    "- в Японии имеет смысл сделать больший упор на местные платформы, в том числе на `3DS`.\n",
    "\n",
    "Также были выявлены **наиболее продаваемые жанры игр**:  \n",
    "\n",
    "Shooter  \n",
    "Sports  \n",
    "Platform  \n",
    "Racing  \n",
    "\n",
    "Также к списку следует добавить в Северной Америке `Fighting`,   \n",
    "в Европе `Simulation`.  \n",
    "\n",
    "Сильно отличается топ 5 в Японии: `Puzzle`, `Role-Playing`, `Fighting`, `Misc`, `Action`  \n",
    "\n",
    "Был проведён **анализ продаж в зависимости от рейтинга ESRB** в результате которого выявлено, что в четвёрку наиболее популярных рейтингов входят `M`, `E`, `T`. Однако в Японии на первом месте игры без рейтинга, что вероятнее всего указывает на то, что в Японии стоит сделать упор на игры местного производства. Также игры без рейтинга занимают 2-3 места в Северной Америке и Европе соответственно.\n",
    "\n",
    "В результате исследования данных пользователей по регионам было выявлено, что предпочтения жителей Северной Америки, Европы и Японии отличаются и в выборе платформы, и в выборе жанров, и даже в возрастном рейтинге. Причём различия между `eu` и `na` выражены меньше, чем между `jp` и остальными регионами. В японии следует сделать упор на платформы и игры местного производства.  \n",
    "\n",
    "На этапе исследовательского анализа данных было выявлено, что **между оценками критиков и продажами игр есть корреляция**, а между оценками пользователей и продажами она скорее отсутствует. При планировании кампании имеет смысл ориентроваться на оценки критиков.  \n",
    "\n",
    "В результате проверки гипотез выявлено, что:  \n",
    "- средние пользовательские рейтинги платформ Xbox One и PC одинаковые;\n",
    "- cредние пользовательские рейтинги жанров Action и Sports разные."
   ]
  }
 ],
 "metadata": {
  "ExecuteTimeLog": [
   {
    "duration": 48,
    "start_time": "2022-12-05T13:17:35.461Z"
   },
   {
    "duration": 654,
    "start_time": "2022-12-05T13:17:35.636Z"
   },
   {
    "duration": 0,
    "start_time": "2022-12-05T13:17:36.293Z"
   },
   {
    "duration": 0,
    "start_time": "2022-12-05T13:17:36.294Z"
   },
   {
    "duration": 0,
    "start_time": "2022-12-05T13:17:36.295Z"
   },
   {
    "duration": 0,
    "start_time": "2022-12-05T13:17:36.296Z"
   },
   {
    "duration": 0,
    "start_time": "2022-12-05T13:17:36.298Z"
   },
   {
    "duration": 0,
    "start_time": "2022-12-05T13:17:36.299Z"
   },
   {
    "duration": 0,
    "start_time": "2022-12-05T13:17:36.300Z"
   },
   {
    "duration": 0,
    "start_time": "2022-12-05T13:17:36.301Z"
   },
   {
    "duration": 0,
    "start_time": "2022-12-05T13:17:36.302Z"
   },
   {
    "duration": 0,
    "start_time": "2022-12-05T13:17:36.303Z"
   },
   {
    "duration": 0,
    "start_time": "2022-12-05T13:17:36.324Z"
   },
   {
    "duration": 0,
    "start_time": "2022-12-05T13:17:36.328Z"
   },
   {
    "duration": 0,
    "start_time": "2022-12-05T13:17:36.329Z"
   },
   {
    "duration": 0,
    "start_time": "2022-12-05T13:17:36.331Z"
   },
   {
    "duration": 0,
    "start_time": "2022-12-05T13:17:36.332Z"
   },
   {
    "duration": 0,
    "start_time": "2022-12-05T13:17:36.336Z"
   },
   {
    "duration": 0,
    "start_time": "2022-12-05T13:17:36.337Z"
   },
   {
    "duration": 0,
    "start_time": "2022-12-05T13:17:36.339Z"
   },
   {
    "duration": 0,
    "start_time": "2022-12-05T13:17:36.340Z"
   },
   {
    "duration": 0,
    "start_time": "2022-12-05T13:17:36.343Z"
   },
   {
    "duration": 0,
    "start_time": "2022-12-05T13:17:36.346Z"
   },
   {
    "duration": 0,
    "start_time": "2022-12-05T13:17:36.347Z"
   },
   {
    "duration": 0,
    "start_time": "2022-12-05T13:17:36.348Z"
   },
   {
    "duration": 0,
    "start_time": "2022-12-05T13:17:36.349Z"
   },
   {
    "duration": 0,
    "start_time": "2022-12-05T13:17:36.351Z"
   },
   {
    "duration": 0,
    "start_time": "2022-12-05T13:17:36.352Z"
   },
   {
    "duration": 0,
    "start_time": "2022-12-05T13:17:36.354Z"
   },
   {
    "duration": 0,
    "start_time": "2022-12-05T13:17:36.355Z"
   },
   {
    "duration": 0,
    "start_time": "2022-12-05T13:17:36.357Z"
   },
   {
    "duration": 0,
    "start_time": "2022-12-05T13:17:36.358Z"
   },
   {
    "duration": 0,
    "start_time": "2022-12-05T13:17:36.360Z"
   },
   {
    "duration": 0,
    "start_time": "2022-12-05T13:17:36.361Z"
   },
   {
    "duration": 0,
    "start_time": "2022-12-05T13:17:36.362Z"
   },
   {
    "duration": 0,
    "start_time": "2022-12-05T13:17:36.364Z"
   },
   {
    "duration": 0,
    "start_time": "2022-12-05T13:17:36.365Z"
   },
   {
    "duration": 0,
    "start_time": "2022-12-05T13:17:36.367Z"
   },
   {
    "duration": 0,
    "start_time": "2022-12-05T13:17:36.421Z"
   },
   {
    "duration": 0,
    "start_time": "2022-12-05T13:17:36.422Z"
   },
   {
    "duration": 911,
    "start_time": "2022-12-05T14:01:06.261Z"
   },
   {
    "duration": 17,
    "start_time": "2022-12-05T14:01:17.354Z"
   },
   {
    "duration": 669,
    "start_time": "2022-12-05T14:02:42.232Z"
   },
   {
    "duration": 16,
    "start_time": "2022-12-05T14:02:43.839Z"
   },
   {
    "duration": 19,
    "start_time": "2022-12-05T14:02:46.398Z"
   },
   {
    "duration": 5,
    "start_time": "2022-12-05T14:02:48.880Z"
   },
   {
    "duration": 10,
    "start_time": "2022-12-05T14:02:51.411Z"
   },
   {
    "duration": 55,
    "start_time": "2022-12-05T14:03:00.253Z"
   },
   {
    "duration": 15,
    "start_time": "2022-12-05T14:03:00.310Z"
   },
   {
    "duration": 35,
    "start_time": "2022-12-05T14:03:00.327Z"
   },
   {
    "duration": 23,
    "start_time": "2022-12-05T14:03:00.365Z"
   },
   {
    "duration": 26,
    "start_time": "2022-12-05T14:03:00.389Z"
   },
   {
    "duration": 19,
    "start_time": "2022-12-05T14:03:00.417Z"
   },
   {
    "duration": 28,
    "start_time": "2022-12-05T14:03:00.437Z"
   },
   {
    "duration": 7,
    "start_time": "2022-12-05T14:03:00.466Z"
   },
   {
    "duration": 28,
    "start_time": "2022-12-05T14:03:00.475Z"
   },
   {
    "duration": 5,
    "start_time": "2022-12-05T14:03:00.506Z"
   },
   {
    "duration": 1392,
    "start_time": "2022-12-05T14:03:00.512Z"
   },
   {
    "duration": 29,
    "start_time": "2022-12-05T14:03:01.905Z"
   },
   {
    "duration": 5,
    "start_time": "2022-12-05T14:03:01.935Z"
   },
   {
    "duration": 41,
    "start_time": "2022-12-05T14:03:01.942Z"
   },
   {
    "duration": 19,
    "start_time": "2022-12-05T14:03:01.984Z"
   },
   {
    "duration": 16,
    "start_time": "2022-12-05T14:03:02.005Z"
   },
   {
    "duration": 23,
    "start_time": "2022-12-05T14:03:02.022Z"
   },
   {
    "duration": 23,
    "start_time": "2022-12-05T14:03:02.047Z"
   },
   {
    "duration": 23,
    "start_time": "2022-12-05T14:03:02.072Z"
   },
   {
    "duration": 39,
    "start_time": "2022-12-05T14:03:02.096Z"
   },
   {
    "duration": 14,
    "start_time": "2022-12-05T14:03:02.137Z"
   },
   {
    "duration": 26,
    "start_time": "2022-12-05T14:03:02.152Z"
   },
   {
    "duration": 192,
    "start_time": "2022-12-05T14:03:02.179Z"
   },
   {
    "duration": 7797,
    "start_time": "2022-12-05T14:03:02.373Z"
   },
   {
    "duration": 332,
    "start_time": "2022-12-05T14:03:10.172Z"
   },
   {
    "duration": 10,
    "start_time": "2022-12-05T14:03:10.506Z"
   },
   {
    "duration": 1615,
    "start_time": "2022-12-05T14:03:10.518Z"
   },
   {
    "duration": 787,
    "start_time": "2022-12-05T14:03:12.137Z"
   },
   {
    "duration": 260,
    "start_time": "2022-12-05T14:03:12.926Z"
   },
   {
    "duration": 16,
    "start_time": "2022-12-05T14:03:13.187Z"
   },
   {
    "duration": 53,
    "start_time": "2022-12-05T14:03:13.205Z"
   },
   {
    "duration": 7,
    "start_time": "2022-12-05T14:03:13.260Z"
   },
   {
    "duration": 32,
    "start_time": "2022-12-05T14:03:13.269Z"
   },
   {
    "duration": 27,
    "start_time": "2022-12-05T14:03:13.302Z"
   },
   {
    "duration": 12,
    "start_time": "2022-12-05T14:03:13.331Z"
   },
   {
    "duration": 48,
    "start_time": "2022-12-05T14:03:13.344Z"
   },
   {
    "duration": 21,
    "start_time": "2022-12-05T14:03:13.395Z"
   },
   {
    "duration": 35,
    "start_time": "2022-12-05T14:03:13.417Z"
   },
   {
    "duration": 50,
    "start_time": "2022-12-05T14:03:13.454Z"
   },
   {
    "duration": 614,
    "start_time": "2022-12-05T14:36:15.765Z"
   },
   {
    "duration": 16,
    "start_time": "2022-12-05T14:36:16.381Z"
   },
   {
    "duration": 20,
    "start_time": "2022-12-05T14:36:16.398Z"
   },
   {
    "duration": 4,
    "start_time": "2022-12-05T14:36:16.419Z"
   },
   {
    "duration": 11,
    "start_time": "2022-12-05T14:36:16.425Z"
   },
   {
    "duration": 12,
    "start_time": "2022-12-05T14:36:16.437Z"
   },
   {
    "duration": 14,
    "start_time": "2022-12-05T14:36:16.451Z"
   },
   {
    "duration": 5,
    "start_time": "2022-12-05T14:36:16.467Z"
   },
   {
    "duration": 49,
    "start_time": "2022-12-05T14:36:16.473Z"
   },
   {
    "duration": 5,
    "start_time": "2022-12-05T14:36:16.523Z"
   },
   {
    "duration": 1221,
    "start_time": "2022-12-05T14:36:16.529Z"
   },
   {
    "duration": 23,
    "start_time": "2022-12-05T14:36:17.751Z"
   },
   {
    "duration": 4,
    "start_time": "2022-12-05T14:36:17.776Z"
   },
   {
    "duration": 8,
    "start_time": "2022-12-05T14:36:17.782Z"
   },
   {
    "duration": 8,
    "start_time": "2022-12-05T14:36:17.791Z"
   },
   {
    "duration": 25,
    "start_time": "2022-12-05T14:36:17.800Z"
   },
   {
    "duration": 17,
    "start_time": "2022-12-05T14:36:17.827Z"
   },
   {
    "duration": 25,
    "start_time": "2022-12-05T14:36:17.845Z"
   },
   {
    "duration": 7,
    "start_time": "2022-12-05T14:36:17.871Z"
   },
   {
    "duration": 13,
    "start_time": "2022-12-05T14:36:17.880Z"
   },
   {
    "duration": 35,
    "start_time": "2022-12-05T14:36:17.894Z"
   },
   {
    "duration": 18,
    "start_time": "2022-12-05T14:36:17.930Z"
   },
   {
    "duration": 189,
    "start_time": "2022-12-05T14:36:17.949Z"
   },
   {
    "duration": 6848,
    "start_time": "2022-12-05T14:36:18.139Z"
   },
   {
    "duration": 248,
    "start_time": "2022-12-05T14:36:24.988Z"
   },
   {
    "duration": 7,
    "start_time": "2022-12-05T14:36:25.237Z"
   },
   {
    "duration": 1455,
    "start_time": "2022-12-05T14:36:25.245Z"
   },
   {
    "duration": 759,
    "start_time": "2022-12-05T14:36:26.702Z"
   },
   {
    "duration": 274,
    "start_time": "2022-12-05T14:36:27.463Z"
   },
   {
    "duration": 10,
    "start_time": "2022-12-05T14:36:27.739Z"
   },
   {
    "duration": 52,
    "start_time": "2022-12-05T14:36:27.751Z"
   },
   {
    "duration": 16,
    "start_time": "2022-12-05T14:36:27.805Z"
   },
   {
    "duration": 9,
    "start_time": "2022-12-05T14:36:27.823Z"
   },
   {
    "duration": 42,
    "start_time": "2022-12-05T14:36:27.833Z"
   },
   {
    "duration": 18,
    "start_time": "2022-12-05T14:36:27.877Z"
   },
   {
    "duration": 22,
    "start_time": "2022-12-05T14:36:27.897Z"
   },
   {
    "duration": 28,
    "start_time": "2022-12-05T14:36:27.920Z"
   },
   {
    "duration": 25,
    "start_time": "2022-12-05T14:36:27.949Z"
   },
   {
    "duration": 23,
    "start_time": "2022-12-05T14:36:27.975Z"
   },
   {
    "duration": 91,
    "start_time": "2022-12-05T17:51:33.948Z"
   },
   {
    "duration": 85,
    "start_time": "2022-12-05T17:51:36.451Z"
   },
   {
    "duration": 41,
    "start_time": "2022-12-05T18:39:56.384Z"
   },
   {
    "duration": 941,
    "start_time": "2022-12-05T18:40:03.856Z"
   },
   {
    "duration": 14,
    "start_time": "2022-12-05T18:40:04.799Z"
   },
   {
    "duration": 19,
    "start_time": "2022-12-05T18:40:06.492Z"
   },
   {
    "duration": 5,
    "start_time": "2022-12-05T18:40:08.504Z"
   },
   {
    "duration": 50,
    "start_time": "2022-12-05T18:49:22.634Z"
   },
   {
    "duration": 12,
    "start_time": "2022-12-05T18:49:22.686Z"
   },
   {
    "duration": 22,
    "start_time": "2022-12-05T18:49:22.699Z"
   },
   {
    "duration": 28,
    "start_time": "2022-12-05T18:49:22.722Z"
   },
   {
    "duration": 37,
    "start_time": "2022-12-05T18:49:22.752Z"
   },
   {
    "duration": 55,
    "start_time": "2022-12-05T18:54:54.500Z"
   },
   {
    "duration": 14,
    "start_time": "2022-12-05T19:11:22.714Z"
   },
   {
    "duration": 4,
    "start_time": "2022-12-05T19:52:06.226Z"
   },
   {
    "duration": 6,
    "start_time": "2022-12-05T19:52:30.372Z"
   },
   {
    "duration": 4,
    "start_time": "2022-12-05T19:52:35.794Z"
   },
   {
    "duration": 5,
    "start_time": "2022-12-05T19:52:46.290Z"
   },
   {
    "duration": 8,
    "start_time": "2022-12-05T19:52:49.165Z"
   },
   {
    "duration": 6,
    "start_time": "2022-12-05T19:52:52.166Z"
   },
   {
    "duration": 49,
    "start_time": "2022-12-05T19:55:34.628Z"
   },
   {
    "duration": 21,
    "start_time": "2022-12-05T19:55:40.531Z"
   },
   {
    "duration": 15,
    "start_time": "2022-12-05T19:58:54.738Z"
   },
   {
    "duration": 0,
    "start_time": "2022-12-05T20:05:24.938Z"
   },
   {
    "duration": 0,
    "start_time": "2022-12-05T20:05:24.940Z"
   },
   {
    "duration": 0,
    "start_time": "2022-12-05T20:05:24.943Z"
   },
   {
    "duration": 0,
    "start_time": "2022-12-05T20:05:24.946Z"
   },
   {
    "duration": 0,
    "start_time": "2022-12-05T20:05:24.949Z"
   },
   {
    "duration": 0,
    "start_time": "2022-12-05T20:05:24.952Z"
   },
   {
    "duration": 0,
    "start_time": "2022-12-05T20:05:24.954Z"
   },
   {
    "duration": 0,
    "start_time": "2022-12-05T20:05:24.958Z"
   },
   {
    "duration": 0,
    "start_time": "2022-12-05T20:05:24.961Z"
   },
   {
    "duration": 0,
    "start_time": "2022-12-05T20:05:24.963Z"
   },
   {
    "duration": 0,
    "start_time": "2022-12-05T20:05:25.013Z"
   },
   {
    "duration": 0,
    "start_time": "2022-12-05T20:05:25.015Z"
   },
   {
    "duration": 0,
    "start_time": "2022-12-05T20:05:25.017Z"
   },
   {
    "duration": 0,
    "start_time": "2022-12-05T20:05:25.019Z"
   },
   {
    "duration": 0,
    "start_time": "2022-12-05T20:05:25.021Z"
   },
   {
    "duration": 0,
    "start_time": "2022-12-05T20:05:25.022Z"
   },
   {
    "duration": 0,
    "start_time": "2022-12-05T20:05:25.024Z"
   },
   {
    "duration": 0,
    "start_time": "2022-12-05T20:05:25.026Z"
   },
   {
    "duration": 0,
    "start_time": "2022-12-05T20:05:25.028Z"
   },
   {
    "duration": 0,
    "start_time": "2022-12-05T20:05:25.030Z"
   },
   {
    "duration": 0,
    "start_time": "2022-12-05T20:05:25.032Z"
   },
   {
    "duration": 0,
    "start_time": "2022-12-05T20:05:25.033Z"
   },
   {
    "duration": 0,
    "start_time": "2022-12-05T20:05:25.035Z"
   },
   {
    "duration": 0,
    "start_time": "2022-12-05T20:05:25.037Z"
   },
   {
    "duration": 0,
    "start_time": "2022-12-05T20:05:25.038Z"
   },
   {
    "duration": 0,
    "start_time": "2022-12-05T20:05:25.039Z"
   },
   {
    "duration": 45,
    "start_time": "2022-12-05T20:05:58.451Z"
   },
   {
    "duration": 15,
    "start_time": "2022-12-05T20:05:59.577Z"
   },
   {
    "duration": 15,
    "start_time": "2022-12-05T20:06:00.783Z"
   },
   {
    "duration": 5,
    "start_time": "2022-12-05T20:06:01.398Z"
   },
   {
    "duration": 11,
    "start_time": "2022-12-05T20:06:02.471Z"
   },
   {
    "duration": 15,
    "start_time": "2022-12-05T20:06:03.267Z"
   },
   {
    "duration": 16,
    "start_time": "2022-12-05T20:06:03.695Z"
   },
   {
    "duration": 14,
    "start_time": "2022-12-05T20:06:04.124Z"
   },
   {
    "duration": 7,
    "start_time": "2022-12-05T20:06:06.136Z"
   },
   {
    "duration": 26,
    "start_time": "2022-12-05T20:06:06.847Z"
   },
   {
    "duration": 5,
    "start_time": "2022-12-05T20:06:07.476Z"
   },
   {
    "duration": 1493,
    "start_time": "2022-12-05T20:06:07.805Z"
   },
   {
    "duration": 29,
    "start_time": "2022-12-05T20:06:09.300Z"
   },
   {
    "duration": 4,
    "start_time": "2022-12-05T20:06:09.330Z"
   },
   {
    "duration": 4,
    "start_time": "2022-12-05T20:06:15.333Z"
   },
   {
    "duration": 5,
    "start_time": "2022-12-05T20:06:16.446Z"
   },
   {
    "duration": 7,
    "start_time": "2022-12-05T20:06:16.760Z"
   },
   {
    "duration": 6,
    "start_time": "2022-12-05T20:06:17.219Z"
   },
   {
    "duration": 22,
    "start_time": "2022-12-05T20:06:19.102Z"
   },
   {
    "duration": 15,
    "start_time": "2022-12-05T20:06:19.303Z"
   },
   {
    "duration": 9,
    "start_time": "2022-12-05T20:06:21.776Z"
   },
   {
    "duration": 20,
    "start_time": "2022-12-05T20:06:22.920Z"
   },
   {
    "duration": 15,
    "start_time": "2022-12-05T20:06:24.096Z"
   },
   {
    "duration": 22,
    "start_time": "2022-12-05T20:06:26.725Z"
   },
   {
    "duration": 159,
    "start_time": "2022-12-05T20:06:37.398Z"
   },
   {
    "duration": 12,
    "start_time": "2022-12-05T20:06:40.077Z"
   },
   {
    "duration": 669,
    "start_time": "2022-12-05T20:08:26.150Z"
   },
   {
    "duration": 14,
    "start_time": "2022-12-05T20:08:26.821Z"
   },
   {
    "duration": 23,
    "start_time": "2022-12-05T20:08:26.837Z"
   },
   {
    "duration": 4,
    "start_time": "2022-12-05T20:08:26.862Z"
   },
   {
    "duration": 10,
    "start_time": "2022-12-05T20:08:26.867Z"
   },
   {
    "duration": 42,
    "start_time": "2022-12-05T20:08:26.879Z"
   },
   {
    "duration": 59,
    "start_time": "2022-12-05T20:08:26.923Z"
   },
   {
    "duration": 35,
    "start_time": "2022-12-05T20:08:26.984Z"
   },
   {
    "duration": 6,
    "start_time": "2022-12-05T20:08:27.021Z"
   },
   {
    "duration": 28,
    "start_time": "2022-12-05T20:08:27.029Z"
   },
   {
    "duration": 5,
    "start_time": "2022-12-05T20:08:27.058Z"
   },
   {
    "duration": 1182,
    "start_time": "2022-12-05T20:08:27.065Z"
   },
   {
    "duration": 25,
    "start_time": "2022-12-05T20:08:28.249Z"
   },
   {
    "duration": 5,
    "start_time": "2022-12-05T20:08:28.276Z"
   },
   {
    "duration": 31,
    "start_time": "2022-12-05T20:08:28.283Z"
   },
   {
    "duration": 6,
    "start_time": "2022-12-05T20:08:28.316Z"
   },
   {
    "duration": 6,
    "start_time": "2022-12-05T20:08:28.324Z"
   },
   {
    "duration": 7,
    "start_time": "2022-12-05T20:08:28.332Z"
   },
   {
    "duration": 20,
    "start_time": "2022-12-05T20:08:28.341Z"
   },
   {
    "duration": 60,
    "start_time": "2022-12-05T20:08:28.363Z"
   },
   {
    "duration": 9,
    "start_time": "2022-12-05T20:08:28.425Z"
   },
   {
    "duration": 16,
    "start_time": "2022-12-05T20:08:28.435Z"
   },
   {
    "duration": 13,
    "start_time": "2022-12-05T20:08:28.452Z"
   },
   {
    "duration": 54,
    "start_time": "2022-12-05T20:08:28.466Z"
   },
   {
    "duration": 176,
    "start_time": "2022-12-05T20:08:28.521Z"
   },
   {
    "duration": 33,
    "start_time": "2022-12-05T20:08:28.698Z"
   },
   {
    "duration": 2,
    "start_time": "2022-12-05T20:08:28.733Z"
   },
   {
    "duration": 7192,
    "start_time": "2022-12-05T20:08:28.739Z"
   },
   {
    "duration": 342,
    "start_time": "2022-12-05T20:08:35.933Z"
   },
   {
    "duration": 8,
    "start_time": "2022-12-05T20:08:36.277Z"
   },
   {
    "duration": 1521,
    "start_time": "2022-12-05T20:08:36.286Z"
   },
   {
    "duration": 732,
    "start_time": "2022-12-05T20:08:37.813Z"
   },
   {
    "duration": 242,
    "start_time": "2022-12-05T20:08:38.547Z"
   },
   {
    "duration": 22,
    "start_time": "2022-12-05T20:08:38.791Z"
   },
   {
    "duration": 47,
    "start_time": "2022-12-05T20:08:38.816Z"
   },
   {
    "duration": 7,
    "start_time": "2022-12-05T20:08:38.865Z"
   },
   {
    "duration": 42,
    "start_time": "2022-12-05T20:08:38.874Z"
   },
   {
    "duration": 28,
    "start_time": "2022-12-05T20:08:38.918Z"
   },
   {
    "duration": 13,
    "start_time": "2022-12-05T20:08:38.949Z"
   },
   {
    "duration": 26,
    "start_time": "2022-12-05T20:08:38.964Z"
   },
   {
    "duration": 12,
    "start_time": "2022-12-05T20:08:39.012Z"
   },
   {
    "duration": 21,
    "start_time": "2022-12-05T20:08:39.026Z"
   },
   {
    "duration": 18,
    "start_time": "2022-12-05T20:08:39.048Z"
   },
   {
    "duration": 9,
    "start_time": "2022-12-05T20:11:14.511Z"
   },
   {
    "duration": 68,
    "start_time": "2022-12-05T20:14:52.066Z"
   },
   {
    "duration": 16,
    "start_time": "2022-12-05T20:14:52.136Z"
   },
   {
    "duration": 26,
    "start_time": "2022-12-05T20:14:52.154Z"
   },
   {
    "duration": 15,
    "start_time": "2022-12-05T20:14:52.182Z"
   },
   {
    "duration": 32,
    "start_time": "2022-12-05T20:14:52.200Z"
   },
   {
    "duration": 21,
    "start_time": "2022-12-05T20:14:52.234Z"
   },
   {
    "duration": 178,
    "start_time": "2022-12-05T20:14:52.257Z"
   },
   {
    "duration": 15,
    "start_time": "2022-12-05T20:14:52.437Z"
   },
   {
    "duration": 22,
    "start_time": "2022-12-05T20:14:52.453Z"
   },
   {
    "duration": 52,
    "start_time": "2022-12-05T20:14:52.477Z"
   },
   {
    "duration": 6,
    "start_time": "2022-12-05T20:14:52.531Z"
   },
   {
    "duration": 1352,
    "start_time": "2022-12-05T20:14:52.539Z"
   },
   {
    "duration": 32,
    "start_time": "2022-12-05T20:14:53.893Z"
   },
   {
    "duration": 6,
    "start_time": "2022-12-05T20:14:53.928Z"
   },
   {
    "duration": 24,
    "start_time": "2022-12-05T20:14:53.936Z"
   },
   {
    "duration": 21,
    "start_time": "2022-12-05T20:14:53.962Z"
   },
   {
    "duration": 42,
    "start_time": "2022-12-05T20:14:53.984Z"
   },
   {
    "duration": 23,
    "start_time": "2022-12-05T20:14:54.028Z"
   },
   {
    "duration": 50,
    "start_time": "2022-12-05T20:14:54.054Z"
   },
   {
    "duration": 38,
    "start_time": "2022-12-05T20:14:54.107Z"
   },
   {
    "duration": 10,
    "start_time": "2022-12-05T20:14:54.147Z"
   },
   {
    "duration": 16,
    "start_time": "2022-12-05T20:14:54.160Z"
   },
   {
    "duration": 16,
    "start_time": "2022-12-05T20:14:54.179Z"
   },
   {
    "duration": 38,
    "start_time": "2022-12-05T20:14:54.196Z"
   },
   {
    "duration": 229,
    "start_time": "2022-12-05T20:14:54.236Z"
   },
   {
    "duration": 15,
    "start_time": "2022-12-05T20:14:54.467Z"
   },
   {
    "duration": 246,
    "start_time": "2022-12-05T20:14:54.483Z"
   },
   {
    "duration": 7492,
    "start_time": "2022-12-05T20:14:54.731Z"
   },
   {
    "duration": 106,
    "start_time": "2022-12-05T20:15:02.225Z"
   },
   {
    "duration": 8,
    "start_time": "2022-12-05T20:15:02.333Z"
   },
   {
    "duration": 1448,
    "start_time": "2022-12-05T20:15:02.342Z"
   },
   {
    "duration": 588,
    "start_time": "2022-12-05T20:15:03.792Z"
   },
   {
    "duration": 245,
    "start_time": "2022-12-05T20:15:04.381Z"
   },
   {
    "duration": 11,
    "start_time": "2022-12-05T20:15:04.627Z"
   },
   {
    "duration": 84,
    "start_time": "2022-12-05T20:15:04.640Z"
   },
   {
    "duration": 6,
    "start_time": "2022-12-05T20:15:04.726Z"
   },
   {
    "duration": 8,
    "start_time": "2022-12-05T20:15:04.734Z"
   },
   {
    "duration": 26,
    "start_time": "2022-12-05T20:15:04.744Z"
   },
   {
    "duration": 46,
    "start_time": "2022-12-05T20:15:04.771Z"
   },
   {
    "duration": 10,
    "start_time": "2022-12-05T20:15:04.819Z"
   },
   {
    "duration": 10,
    "start_time": "2022-12-05T20:15:04.831Z"
   },
   {
    "duration": 10,
    "start_time": "2022-12-05T20:15:04.843Z"
   },
   {
    "duration": 11,
    "start_time": "2022-12-05T20:15:04.854Z"
   },
   {
    "duration": 165599,
    "start_time": "2022-12-05T20:22:21.616Z"
   },
   {
    "duration": 6,
    "start_time": "2022-12-05T20:47:10.374Z"
   },
   {
    "duration": 917,
    "start_time": "2022-12-05T20:47:40.885Z"
   },
   {
    "duration": 5,
    "start_time": "2022-12-05T20:47:51.064Z"
   },
   {
    "duration": 45,
    "start_time": "2022-12-05T20:47:57.045Z"
   },
   {
    "duration": 14,
    "start_time": "2022-12-05T20:47:57.092Z"
   },
   {
    "duration": 16,
    "start_time": "2022-12-05T20:47:57.107Z"
   },
   {
    "duration": 6,
    "start_time": "2022-12-05T20:47:57.125Z"
   },
   {
    "duration": 13,
    "start_time": "2022-12-05T20:47:57.132Z"
   },
   {
    "duration": 14,
    "start_time": "2022-12-05T20:47:57.147Z"
   },
   {
    "duration": 17,
    "start_time": "2022-12-05T20:47:57.162Z"
   },
   {
    "duration": 44,
    "start_time": "2022-12-05T20:47:57.180Z"
   },
   {
    "duration": 7,
    "start_time": "2022-12-05T20:47:57.226Z"
   },
   {
    "duration": 34,
    "start_time": "2022-12-05T20:47:57.237Z"
   },
   {
    "duration": 4,
    "start_time": "2022-12-05T20:47:57.273Z"
   },
   {
    "duration": 1466,
    "start_time": "2022-12-05T20:47:57.279Z"
   },
   {
    "duration": 25,
    "start_time": "2022-12-05T20:47:58.746Z"
   },
   {
    "duration": 5,
    "start_time": "2022-12-05T20:47:58.773Z"
   },
   {
    "duration": 6,
    "start_time": "2022-12-05T20:47:58.780Z"
   },
   {
    "duration": 29,
    "start_time": "2022-12-05T20:47:58.787Z"
   },
   {
    "duration": 8,
    "start_time": "2022-12-05T20:47:58.818Z"
   },
   {
    "duration": 6,
    "start_time": "2022-12-05T20:47:58.828Z"
   },
   {
    "duration": 20,
    "start_time": "2022-12-05T20:47:58.836Z"
   },
   {
    "duration": 56,
    "start_time": "2022-12-05T20:47:58.858Z"
   },
   {
    "duration": 8,
    "start_time": "2022-12-05T20:47:58.916Z"
   },
   {
    "duration": 17,
    "start_time": "2022-12-05T20:47:58.927Z"
   },
   {
    "duration": 23,
    "start_time": "2022-12-05T20:47:58.946Z"
   },
   {
    "duration": 49,
    "start_time": "2022-12-05T20:47:58.971Z"
   },
   {
    "duration": 200,
    "start_time": "2022-12-05T20:47:59.022Z"
   },
   {
    "duration": 7860,
    "start_time": "2022-12-05T20:47:59.223Z"
   },
   {
    "duration": 95,
    "start_time": "2022-12-05T20:48:07.085Z"
   },
   {
    "duration": 9,
    "start_time": "2022-12-05T20:48:07.183Z"
   },
   {
    "duration": 1599,
    "start_time": "2022-12-05T20:48:07.213Z"
   },
   {
    "duration": 4,
    "start_time": "2022-12-05T20:48:08.814Z"
   },
   {
    "duration": 5,
    "start_time": "2022-12-05T20:49:24.719Z"
   },
   {
    "duration": 855,
    "start_time": "2022-12-05T20:49:28.041Z"
   },
   {
    "duration": 6,
    "start_time": "2022-12-05T20:52:02.001Z"
   },
   {
    "duration": 46,
    "start_time": "2022-12-05T20:52:09.915Z"
   },
   {
    "duration": 15,
    "start_time": "2022-12-05T20:52:09.963Z"
   },
   {
    "duration": 17,
    "start_time": "2022-12-05T20:52:09.980Z"
   },
   {
    "duration": 5,
    "start_time": "2022-12-05T20:52:10.013Z"
   },
   {
    "duration": 11,
    "start_time": "2022-12-05T20:52:10.021Z"
   },
   {
    "duration": 16,
    "start_time": "2022-12-05T20:52:10.034Z"
   },
   {
    "duration": 17,
    "start_time": "2022-12-05T20:52:10.053Z"
   },
   {
    "duration": 54,
    "start_time": "2022-12-05T20:52:10.072Z"
   },
   {
    "duration": 7,
    "start_time": "2022-12-05T20:52:10.128Z"
   },
   {
    "duration": 29,
    "start_time": "2022-12-05T20:52:10.137Z"
   },
   {
    "duration": 5,
    "start_time": "2022-12-05T20:52:10.168Z"
   },
   {
    "duration": 1423,
    "start_time": "2022-12-05T20:52:10.175Z"
   },
   {
    "duration": 37,
    "start_time": "2022-12-05T20:52:11.600Z"
   },
   {
    "duration": 5,
    "start_time": "2022-12-05T20:52:11.641Z"
   },
   {
    "duration": 8,
    "start_time": "2022-12-05T20:52:11.649Z"
   },
   {
    "duration": 8,
    "start_time": "2022-12-05T20:52:11.658Z"
   },
   {
    "duration": 12,
    "start_time": "2022-12-05T20:52:11.668Z"
   },
   {
    "duration": 37,
    "start_time": "2022-12-05T20:52:11.681Z"
   },
   {
    "duration": 27,
    "start_time": "2022-12-05T20:52:11.720Z"
   },
   {
    "duration": 15,
    "start_time": "2022-12-05T20:52:11.749Z"
   },
   {
    "duration": 7,
    "start_time": "2022-12-05T20:52:11.766Z"
   },
   {
    "duration": 48,
    "start_time": "2022-12-05T20:52:11.774Z"
   },
   {
    "duration": 13,
    "start_time": "2022-12-05T20:52:11.823Z"
   },
   {
    "duration": 20,
    "start_time": "2022-12-05T20:52:11.838Z"
   },
   {
    "duration": 211,
    "start_time": "2022-12-05T20:52:11.859Z"
   },
   {
    "duration": 7598,
    "start_time": "2022-12-05T20:52:12.071Z"
   },
   {
    "duration": 91,
    "start_time": "2022-12-05T20:52:19.670Z"
   },
   {
    "duration": 8,
    "start_time": "2022-12-05T20:52:19.763Z"
   },
   {
    "duration": 1506,
    "start_time": "2022-12-05T20:52:19.773Z"
   },
   {
    "duration": 5,
    "start_time": "2022-12-05T20:52:21.281Z"
   },
   {
    "duration": 217,
    "start_time": "2022-12-05T20:53:26.655Z"
   },
   {
    "duration": 215,
    "start_time": "2022-12-05T20:53:36.399Z"
   },
   {
    "duration": 220,
    "start_time": "2022-12-05T20:53:59.956Z"
   },
   {
    "duration": 25,
    "start_time": "2022-12-05T20:54:50.847Z"
   },
   {
    "duration": 16,
    "start_time": "2022-12-05T20:55:12.376Z"
   },
   {
    "duration": 16,
    "start_time": "2022-12-05T20:56:02.253Z"
   },
   {
    "duration": 45,
    "start_time": "2022-12-05T20:56:11.016Z"
   },
   {
    "duration": 12,
    "start_time": "2022-12-05T20:56:11.063Z"
   },
   {
    "duration": 15,
    "start_time": "2022-12-05T20:56:11.077Z"
   },
   {
    "duration": 6,
    "start_time": "2022-12-05T20:56:11.094Z"
   },
   {
    "duration": 9,
    "start_time": "2022-12-05T20:56:11.113Z"
   },
   {
    "duration": 14,
    "start_time": "2022-12-05T20:56:11.124Z"
   },
   {
    "duration": 16,
    "start_time": "2022-12-05T20:56:11.140Z"
   },
   {
    "duration": 13,
    "start_time": "2022-12-05T20:56:11.158Z"
   },
   {
    "duration": 7,
    "start_time": "2022-12-05T20:56:11.212Z"
   },
   {
    "duration": 25,
    "start_time": "2022-12-05T20:56:11.221Z"
   },
   {
    "duration": 4,
    "start_time": "2022-12-05T20:56:11.248Z"
   },
   {
    "duration": 1233,
    "start_time": "2022-12-05T20:56:11.254Z"
   },
   {
    "duration": 30,
    "start_time": "2022-12-05T20:56:12.489Z"
   },
   {
    "duration": 5,
    "start_time": "2022-12-05T20:56:12.521Z"
   },
   {
    "duration": 5,
    "start_time": "2022-12-05T20:56:12.528Z"
   },
   {
    "duration": 6,
    "start_time": "2022-12-05T20:56:12.535Z"
   },
   {
    "duration": 14,
    "start_time": "2022-12-05T20:56:12.543Z"
   },
   {
    "duration": 6,
    "start_time": "2022-12-05T20:56:12.558Z"
   },
   {
    "duration": 56,
    "start_time": "2022-12-05T20:56:12.565Z"
   },
   {
    "duration": 14,
    "start_time": "2022-12-05T20:56:12.623Z"
   },
   {
    "duration": 8,
    "start_time": "2022-12-05T20:56:12.639Z"
   },
   {
    "duration": 18,
    "start_time": "2022-12-05T20:56:12.648Z"
   },
   {
    "duration": 52,
    "start_time": "2022-12-05T20:56:12.668Z"
   },
   {
    "duration": 20,
    "start_time": "2022-12-05T20:56:12.722Z"
   },
   {
    "duration": 209,
    "start_time": "2022-12-05T20:56:12.744Z"
   },
   {
    "duration": 7841,
    "start_time": "2022-12-05T20:56:12.954Z"
   },
   {
    "duration": 87,
    "start_time": "2022-12-05T20:56:20.797Z"
   },
   {
    "duration": 38,
    "start_time": "2022-12-05T20:56:20.887Z"
   },
   {
    "duration": 1479,
    "start_time": "2022-12-05T20:56:20.926Z"
   },
   {
    "duration": 6,
    "start_time": "2022-12-05T20:56:22.407Z"
   },
   {
    "duration": 28,
    "start_time": "2022-12-05T20:56:22.414Z"
   },
   {
    "duration": 247,
    "start_time": "2022-12-05T20:56:22.444Z"
   },
   {
    "duration": 26,
    "start_time": "2022-12-05T20:56:22.693Z"
   },
   {
    "duration": 230,
    "start_time": "2022-12-05T20:56:22.721Z"
   },
   {
    "duration": 17,
    "start_time": "2022-12-05T20:56:22.953Z"
   },
   {
    "duration": 269,
    "start_time": "2022-12-05T20:56:22.972Z"
   },
   {
    "duration": 11,
    "start_time": "2022-12-05T20:56:23.243Z"
   },
   {
    "duration": 66,
    "start_time": "2022-12-05T20:56:23.256Z"
   },
   {
    "duration": 6,
    "start_time": "2022-12-05T20:56:23.324Z"
   },
   {
    "duration": 10,
    "start_time": "2022-12-05T20:56:23.331Z"
   },
   {
    "duration": 29,
    "start_time": "2022-12-05T20:56:23.342Z"
   },
   {
    "duration": 41,
    "start_time": "2022-12-05T20:56:23.373Z"
   },
   {
    "duration": 11,
    "start_time": "2022-12-05T20:56:23.416Z"
   },
   {
    "duration": 17,
    "start_time": "2022-12-05T20:56:23.429Z"
   },
   {
    "duration": 13,
    "start_time": "2022-12-05T20:56:23.447Z"
   },
   {
    "duration": 13,
    "start_time": "2022-12-05T20:56:23.462Z"
   },
   {
    "duration": 932,
    "start_time": "2022-12-05T21:01:35.933Z"
   },
   {
    "duration": 269,
    "start_time": "2022-12-05T21:01:57.750Z"
   },
   {
    "duration": 329,
    "start_time": "2022-12-05T21:02:14.165Z"
   },
   {
    "duration": 426,
    "start_time": "2022-12-05T21:02:20.581Z"
   },
   {
    "duration": 26,
    "start_time": "2022-12-05T21:03:27.608Z"
   },
   {
    "duration": 216,
    "start_time": "2022-12-05T21:04:34.831Z"
   },
   {
    "duration": 26,
    "start_time": "2022-12-05T21:04:42.578Z"
   },
   {
    "duration": 23,
    "start_time": "2022-12-05T21:04:50.548Z"
   },
   {
    "duration": 26,
    "start_time": "2022-12-05T21:04:55.686Z"
   },
   {
    "duration": 32,
    "start_time": "2022-12-05T21:05:35.590Z"
   },
   {
    "duration": 418,
    "start_time": "2022-12-05T21:06:08.241Z"
   },
   {
    "duration": 361,
    "start_time": "2022-12-05T21:15:26.297Z"
   },
   {
    "duration": 414,
    "start_time": "2022-12-05T21:15:44.884Z"
   },
   {
    "duration": 9,
    "start_time": "2022-12-05T21:24:09.045Z"
   },
   {
    "duration": 50,
    "start_time": "2022-12-05T21:24:24.403Z"
   },
   {
    "duration": 14,
    "start_time": "2022-12-05T21:24:24.455Z"
   },
   {
    "duration": 16,
    "start_time": "2022-12-05T21:24:24.472Z"
   },
   {
    "duration": 23,
    "start_time": "2022-12-05T21:24:24.491Z"
   },
   {
    "duration": 9,
    "start_time": "2022-12-05T21:24:24.516Z"
   },
   {
    "duration": 14,
    "start_time": "2022-12-05T21:24:24.527Z"
   },
   {
    "duration": 17,
    "start_time": "2022-12-05T21:24:24.543Z"
   },
   {
    "duration": 52,
    "start_time": "2022-12-05T21:24:24.562Z"
   },
   {
    "duration": 7,
    "start_time": "2022-12-05T21:24:24.616Z"
   },
   {
    "duration": 34,
    "start_time": "2022-12-05T21:24:24.626Z"
   },
   {
    "duration": 5,
    "start_time": "2022-12-05T21:24:24.662Z"
   },
   {
    "duration": 1273,
    "start_time": "2022-12-05T21:24:24.669Z"
   },
   {
    "duration": 25,
    "start_time": "2022-12-05T21:24:25.943Z"
   },
   {
    "duration": 5,
    "start_time": "2022-12-05T21:24:25.969Z"
   },
   {
    "duration": 7,
    "start_time": "2022-12-05T21:24:25.975Z"
   },
   {
    "duration": 31,
    "start_time": "2022-12-05T21:24:25.984Z"
   },
   {
    "duration": 7,
    "start_time": "2022-12-05T21:24:26.016Z"
   },
   {
    "duration": 8,
    "start_time": "2022-12-05T21:24:26.024Z"
   },
   {
    "duration": 21,
    "start_time": "2022-12-05T21:24:26.034Z"
   },
   {
    "duration": 13,
    "start_time": "2022-12-05T21:24:26.057Z"
   },
   {
    "duration": 44,
    "start_time": "2022-12-05T21:24:26.071Z"
   },
   {
    "duration": 14,
    "start_time": "2022-12-05T21:24:26.117Z"
   },
   {
    "duration": 13,
    "start_time": "2022-12-05T21:24:26.133Z"
   },
   {
    "duration": 20,
    "start_time": "2022-12-05T21:24:26.148Z"
   },
   {
    "duration": 210,
    "start_time": "2022-12-05T21:24:26.169Z"
   },
   {
    "duration": 7303,
    "start_time": "2022-12-05T21:24:26.381Z"
   },
   {
    "duration": 91,
    "start_time": "2022-12-05T21:24:33.686Z"
   },
   {
    "duration": 9,
    "start_time": "2022-12-05T21:24:33.780Z"
   },
   {
    "duration": 1498,
    "start_time": "2022-12-05T21:24:33.791Z"
   },
   {
    "duration": 5,
    "start_time": "2022-12-05T21:24:35.291Z"
   },
   {
    "duration": 39,
    "start_time": "2022-12-05T21:24:35.297Z"
   },
   {
    "duration": 428,
    "start_time": "2022-12-05T21:24:35.338Z"
   },
   {
    "duration": 17,
    "start_time": "2022-12-05T21:24:35.768Z"
   },
   {
    "duration": 4,
    "start_time": "2022-12-05T21:24:35.787Z"
   },
   {
    "duration": 250,
    "start_time": "2022-12-05T21:24:35.792Z"
   },
   {
    "duration": 10,
    "start_time": "2022-12-05T21:24:36.043Z"
   },
   {
    "duration": 60,
    "start_time": "2022-12-05T21:24:36.054Z"
   },
   {
    "duration": 5,
    "start_time": "2022-12-05T21:24:36.116Z"
   },
   {
    "duration": 7,
    "start_time": "2022-12-05T21:24:36.123Z"
   },
   {
    "duration": 24,
    "start_time": "2022-12-05T21:24:36.131Z"
   },
   {
    "duration": 10,
    "start_time": "2022-12-05T21:24:36.157Z"
   },
   {
    "duration": 44,
    "start_time": "2022-12-05T21:24:36.169Z"
   },
   {
    "duration": 10,
    "start_time": "2022-12-05T21:24:36.215Z"
   },
   {
    "duration": 10,
    "start_time": "2022-12-05T21:24:36.226Z"
   },
   {
    "duration": 11,
    "start_time": "2022-12-05T21:24:36.237Z"
   },
   {
    "duration": 275,
    "start_time": "2022-12-05T21:26:05.154Z"
   },
   {
    "duration": 11,
    "start_time": "2022-12-05T21:26:57.227Z"
   },
   {
    "duration": 45,
    "start_time": "2022-12-05T21:27:46.415Z"
   },
   {
    "duration": 6,
    "start_time": "2022-12-05T21:28:01.877Z"
   },
   {
    "duration": 18,
    "start_time": "2022-12-05T21:32:13.507Z"
   },
   {
    "duration": 17,
    "start_time": "2022-12-05T21:32:19.592Z"
   },
   {
    "duration": 21,
    "start_time": "2022-12-05T21:34:50.290Z"
   },
   {
    "duration": 16,
    "start_time": "2022-12-05T21:34:57.323Z"
   },
   {
    "duration": 16,
    "start_time": "2022-12-05T21:35:02.168Z"
   },
   {
    "duration": 19,
    "start_time": "2022-12-05T21:35:30.206Z"
   },
   {
    "duration": 22,
    "start_time": "2022-12-05T21:35:52.260Z"
   },
   {
    "duration": 18,
    "start_time": "2022-12-05T21:36:11.820Z"
   },
   {
    "duration": 20,
    "start_time": "2022-12-05T21:36:28.520Z"
   },
   {
    "duration": 19,
    "start_time": "2022-12-05T21:36:35.622Z"
   },
   {
    "duration": 7,
    "start_time": "2022-12-05T21:39:22.246Z"
   },
   {
    "duration": 5,
    "start_time": "2022-12-05T21:39:33.002Z"
   },
   {
    "duration": 49,
    "start_time": "2022-12-06T06:35:14.077Z"
   },
   {
    "duration": 9,
    "start_time": "2022-12-06T06:35:18.967Z"
   },
   {
    "duration": 703,
    "start_time": "2022-12-06T06:35:23.895Z"
   },
   {
    "duration": 785,
    "start_time": "2022-12-06T06:35:32.636Z"
   },
   {
    "duration": 16,
    "start_time": "2022-12-06T06:35:33.423Z"
   },
   {
    "duration": 20,
    "start_time": "2022-12-06T06:35:33.440Z"
   },
   {
    "duration": 5,
    "start_time": "2022-12-06T06:35:33.462Z"
   },
   {
    "duration": 11,
    "start_time": "2022-12-06T06:35:33.469Z"
   },
   {
    "duration": 13,
    "start_time": "2022-12-06T06:35:33.482Z"
   },
   {
    "duration": 48,
    "start_time": "2022-12-06T06:35:33.497Z"
   },
   {
    "duration": 31,
    "start_time": "2022-12-06T06:35:33.547Z"
   },
   {
    "duration": 6,
    "start_time": "2022-12-06T06:35:33.580Z"
   },
   {
    "duration": 26,
    "start_time": "2022-12-06T06:35:33.588Z"
   },
   {
    "duration": 4,
    "start_time": "2022-12-06T06:35:33.616Z"
   },
   {
    "duration": 1224,
    "start_time": "2022-12-06T06:35:33.621Z"
   },
   {
    "duration": 22,
    "start_time": "2022-12-06T06:35:34.847Z"
   },
   {
    "duration": 4,
    "start_time": "2022-12-06T06:35:34.878Z"
   },
   {
    "duration": 9,
    "start_time": "2022-12-06T06:35:34.884Z"
   },
   {
    "duration": 7,
    "start_time": "2022-12-06T06:35:34.895Z"
   },
   {
    "duration": 6,
    "start_time": "2022-12-06T06:35:34.903Z"
   },
   {
    "duration": 8,
    "start_time": "2022-12-06T06:35:34.911Z"
   },
   {
    "duration": 20,
    "start_time": "2022-12-06T06:35:34.921Z"
   },
   {
    "duration": 41,
    "start_time": "2022-12-06T06:35:34.943Z"
   },
   {
    "duration": 7,
    "start_time": "2022-12-06T06:35:34.986Z"
   },
   {
    "duration": 15,
    "start_time": "2022-12-06T06:35:34.994Z"
   },
   {
    "duration": 12,
    "start_time": "2022-12-06T06:35:35.011Z"
   },
   {
    "duration": 20,
    "start_time": "2022-12-06T06:35:35.025Z"
   },
   {
    "duration": 198,
    "start_time": "2022-12-06T06:35:35.047Z"
   },
   {
    "duration": 7499,
    "start_time": "2022-12-06T06:35:35.247Z"
   },
   {
    "duration": 99,
    "start_time": "2022-12-06T06:35:42.765Z"
   },
   {
    "duration": 13,
    "start_time": "2022-12-06T06:35:42.867Z"
   },
   {
    "duration": 1543,
    "start_time": "2022-12-06T06:35:42.881Z"
   },
   {
    "duration": 6,
    "start_time": "2022-12-06T06:35:44.425Z"
   },
   {
    "duration": 51,
    "start_time": "2022-12-06T06:35:44.433Z"
   },
   {
    "duration": 0,
    "start_time": "2022-12-06T06:35:44.485Z"
   },
   {
    "duration": 0,
    "start_time": "2022-12-06T06:35:44.486Z"
   },
   {
    "duration": 0,
    "start_time": "2022-12-06T06:35:44.487Z"
   },
   {
    "duration": 0,
    "start_time": "2022-12-06T06:35:44.488Z"
   },
   {
    "duration": 0,
    "start_time": "2022-12-06T06:35:44.489Z"
   },
   {
    "duration": 0,
    "start_time": "2022-12-06T06:35:44.490Z"
   },
   {
    "duration": 0,
    "start_time": "2022-12-06T06:35:44.491Z"
   },
   {
    "duration": 0,
    "start_time": "2022-12-06T06:35:44.492Z"
   },
   {
    "duration": 0,
    "start_time": "2022-12-06T06:35:44.493Z"
   },
   {
    "duration": 0,
    "start_time": "2022-12-06T06:35:44.494Z"
   },
   {
    "duration": 0,
    "start_time": "2022-12-06T06:35:44.496Z"
   },
   {
    "duration": 0,
    "start_time": "2022-12-06T06:35:44.497Z"
   },
   {
    "duration": 0,
    "start_time": "2022-12-06T06:35:44.498Z"
   },
   {
    "duration": 0,
    "start_time": "2022-12-06T06:35:44.499Z"
   },
   {
    "duration": 23,
    "start_time": "2022-12-06T06:36:42.277Z"
   },
   {
    "duration": 884,
    "start_time": "2022-12-06T06:36:53.011Z"
   },
   {
    "duration": 16,
    "start_time": "2022-12-06T06:36:58.476Z"
   },
   {
    "duration": 2,
    "start_time": "2022-12-06T06:37:01.637Z"
   },
   {
    "duration": 274,
    "start_time": "2022-12-06T06:37:04.699Z"
   },
   {
    "duration": 9,
    "start_time": "2022-12-06T06:37:06.841Z"
   },
   {
    "duration": 41,
    "start_time": "2022-12-06T06:37:19.959Z"
   },
   {
    "duration": 6,
    "start_time": "2022-12-06T06:37:21.886Z"
   },
   {
    "duration": 7,
    "start_time": "2022-12-06T06:37:24.651Z"
   },
   {
    "duration": 18,
    "start_time": "2022-12-06T06:37:26.663Z"
   },
   {
    "duration": 11,
    "start_time": "2022-12-06T06:37:30.879Z"
   },
   {
    "duration": 10,
    "start_time": "2022-12-06T06:37:32.263Z"
   },
   {
    "duration": 13,
    "start_time": "2022-12-06T06:37:33.795Z"
   },
   {
    "duration": 10,
    "start_time": "2022-12-06T06:37:37.312Z"
   },
   {
    "duration": 9,
    "start_time": "2022-12-06T06:37:39.494Z"
   },
   {
    "duration": 21,
    "start_time": "2022-12-06T06:56:19.648Z"
   },
   {
    "duration": 17,
    "start_time": "2022-12-06T06:57:10.521Z"
   },
   {
    "duration": 19,
    "start_time": "2022-12-06T06:58:00.343Z"
   },
   {
    "duration": 16,
    "start_time": "2022-12-06T06:58:04.623Z"
   },
   {
    "duration": 17,
    "start_time": "2022-12-06T06:58:08.077Z"
   },
   {
    "duration": 17,
    "start_time": "2022-12-06T06:58:24.868Z"
   },
   {
    "duration": 7,
    "start_time": "2022-12-06T06:59:25.586Z"
   },
   {
    "duration": 17,
    "start_time": "2022-12-06T06:59:39.985Z"
   },
   {
    "duration": 16,
    "start_time": "2022-12-06T07:01:04.669Z"
   },
   {
    "duration": 18,
    "start_time": "2022-12-06T07:01:34.979Z"
   },
   {
    "duration": 17,
    "start_time": "2022-12-06T07:02:01.280Z"
   },
   {
    "duration": 20,
    "start_time": "2022-12-06T07:02:06.777Z"
   },
   {
    "duration": 19,
    "start_time": "2022-12-06T07:02:26.896Z"
   },
   {
    "duration": 15,
    "start_time": "2022-12-06T07:02:42.751Z"
   },
   {
    "duration": 23,
    "start_time": "2022-12-06T07:03:07.983Z"
   },
   {
    "duration": 15,
    "start_time": "2022-12-06T07:03:56.176Z"
   },
   {
    "duration": 15,
    "start_time": "2022-12-06T07:04:04.691Z"
   },
   {
    "duration": 29,
    "start_time": "2022-12-06T07:04:15.795Z"
   },
   {
    "duration": 17,
    "start_time": "2022-12-06T07:04:54.569Z"
   },
   {
    "duration": 26,
    "start_time": "2022-12-06T07:05:10.268Z"
   },
   {
    "duration": 16,
    "start_time": "2022-12-06T07:05:14.992Z"
   },
   {
    "duration": 24,
    "start_time": "2022-12-06T07:05:26.283Z"
   },
   {
    "duration": 22,
    "start_time": "2022-12-06T07:05:53.613Z"
   },
   {
    "duration": 23,
    "start_time": "2022-12-06T07:06:40.193Z"
   },
   {
    "duration": 27,
    "start_time": "2022-12-06T07:07:20.903Z"
   },
   {
    "duration": 18,
    "start_time": "2022-12-06T07:08:27.816Z"
   },
   {
    "duration": 122,
    "start_time": "2022-12-06T07:55:02.937Z"
   },
   {
    "duration": 48,
    "start_time": "2022-12-06T07:55:08.076Z"
   },
   {
    "duration": 13,
    "start_time": "2022-12-06T07:55:08.126Z"
   },
   {
    "duration": 21,
    "start_time": "2022-12-06T07:55:08.141Z"
   },
   {
    "duration": 13,
    "start_time": "2022-12-06T07:55:08.165Z"
   },
   {
    "duration": 10,
    "start_time": "2022-12-06T07:55:08.180Z"
   },
   {
    "duration": 27,
    "start_time": "2022-12-06T07:55:08.192Z"
   },
   {
    "duration": 21,
    "start_time": "2022-12-06T07:55:08.221Z"
   },
   {
    "duration": 14,
    "start_time": "2022-12-06T07:55:08.243Z"
   },
   {
    "duration": 20,
    "start_time": "2022-12-06T07:55:08.258Z"
   },
   {
    "duration": 26,
    "start_time": "2022-12-06T07:55:08.280Z"
   },
   {
    "duration": 5,
    "start_time": "2022-12-06T07:55:08.307Z"
   },
   {
    "duration": 1209,
    "start_time": "2022-12-06T07:55:08.313Z"
   },
   {
    "duration": 22,
    "start_time": "2022-12-06T07:55:09.524Z"
   },
   {
    "duration": 6,
    "start_time": "2022-12-06T07:55:09.548Z"
   },
   {
    "duration": 27,
    "start_time": "2022-12-06T07:55:09.555Z"
   },
   {
    "duration": 20,
    "start_time": "2022-12-06T07:55:09.584Z"
   },
   {
    "duration": 30,
    "start_time": "2022-12-06T07:55:09.605Z"
   },
   {
    "duration": 8,
    "start_time": "2022-12-06T07:55:09.636Z"
   },
   {
    "duration": 36,
    "start_time": "2022-12-06T07:55:09.646Z"
   },
   {
    "duration": 26,
    "start_time": "2022-12-06T07:55:09.683Z"
   },
   {
    "duration": 33,
    "start_time": "2022-12-06T07:55:09.711Z"
   },
   {
    "duration": 50,
    "start_time": "2022-12-06T07:55:09.745Z"
   },
   {
    "duration": 20,
    "start_time": "2022-12-06T07:55:09.796Z"
   },
   {
    "duration": 41,
    "start_time": "2022-12-06T07:55:09.817Z"
   },
   {
    "duration": 204,
    "start_time": "2022-12-06T07:55:09.860Z"
   },
   {
    "duration": 7459,
    "start_time": "2022-12-06T07:55:10.066Z"
   },
   {
    "duration": 97,
    "start_time": "2022-12-06T07:55:17.527Z"
   },
   {
    "duration": 9,
    "start_time": "2022-12-06T07:55:17.626Z"
   },
   {
    "duration": 2168,
    "start_time": "2022-12-06T07:55:17.636Z"
   },
   {
    "duration": 6,
    "start_time": "2022-12-06T07:55:19.806Z"
   },
   {
    "duration": 32,
    "start_time": "2022-12-06T07:55:19.814Z"
   },
   {
    "duration": 448,
    "start_time": "2022-12-06T07:55:19.847Z"
   },
   {
    "duration": 15,
    "start_time": "2022-12-06T07:55:20.296Z"
   },
   {
    "duration": 5,
    "start_time": "2022-12-06T07:55:20.313Z"
   },
   {
    "duration": 301,
    "start_time": "2022-12-06T07:55:20.319Z"
   },
   {
    "duration": 10,
    "start_time": "2022-12-06T07:55:20.622Z"
   },
   {
    "duration": 58,
    "start_time": "2022-12-06T07:55:20.634Z"
   },
   {
    "duration": 5,
    "start_time": "2022-12-06T07:55:20.693Z"
   },
   {
    "duration": 15,
    "start_time": "2022-12-06T07:55:20.700Z"
   },
   {
    "duration": 99,
    "start_time": "2022-12-06T07:55:20.717Z"
   },
   {
    "duration": 0,
    "start_time": "2022-12-06T07:55:20.817Z"
   },
   {
    "duration": 0,
    "start_time": "2022-12-06T07:55:20.818Z"
   },
   {
    "duration": 0,
    "start_time": "2022-12-06T07:55:20.819Z"
   },
   {
    "duration": 0,
    "start_time": "2022-12-06T07:55:20.821Z"
   },
   {
    "duration": 0,
    "start_time": "2022-12-06T07:55:20.822Z"
   },
   {
    "duration": 69,
    "start_time": "2022-12-06T07:56:33.698Z"
   },
   {
    "duration": 27,
    "start_time": "2022-12-06T07:57:00.361Z"
   },
   {
    "duration": 19,
    "start_time": "2022-12-06T07:57:25.458Z"
   },
   {
    "duration": 19,
    "start_time": "2022-12-06T08:00:17.303Z"
   },
   {
    "duration": 20,
    "start_time": "2022-12-06T08:00:39.715Z"
   },
   {
    "duration": 20,
    "start_time": "2022-12-06T08:00:45.778Z"
   },
   {
    "duration": 20,
    "start_time": "2022-12-06T08:01:34.760Z"
   },
   {
    "duration": 19,
    "start_time": "2022-12-06T08:03:07.710Z"
   },
   {
    "duration": 11,
    "start_time": "2022-12-06T08:05:12.794Z"
   },
   {
    "duration": 13,
    "start_time": "2022-12-06T08:13:27.279Z"
   },
   {
    "duration": 51,
    "start_time": "2022-12-06T08:19:49.033Z"
   },
   {
    "duration": 18,
    "start_time": "2022-12-06T08:19:49.086Z"
   },
   {
    "duration": 23,
    "start_time": "2022-12-06T08:19:49.105Z"
   },
   {
    "duration": 9,
    "start_time": "2022-12-06T08:19:49.130Z"
   },
   {
    "duration": 11,
    "start_time": "2022-12-06T08:19:49.142Z"
   },
   {
    "duration": 33,
    "start_time": "2022-12-06T08:19:49.155Z"
   },
   {
    "duration": 131,
    "start_time": "2022-12-06T08:19:49.190Z"
   },
   {
    "duration": 14,
    "start_time": "2022-12-06T08:19:49.323Z"
   },
   {
    "duration": 6,
    "start_time": "2022-12-06T08:19:49.338Z"
   },
   {
    "duration": 46,
    "start_time": "2022-12-06T08:19:49.345Z"
   },
   {
    "duration": 4,
    "start_time": "2022-12-06T08:19:49.392Z"
   },
   {
    "duration": 1391,
    "start_time": "2022-12-06T08:19:49.577Z"
   },
   {
    "duration": 28,
    "start_time": "2022-12-06T08:19:50.970Z"
   },
   {
    "duration": 4,
    "start_time": "2022-12-06T08:19:51.000Z"
   },
   {
    "duration": 7,
    "start_time": "2022-12-06T08:19:51.006Z"
   },
   {
    "duration": 18,
    "start_time": "2022-12-06T08:19:51.015Z"
   },
   {
    "duration": 9,
    "start_time": "2022-12-06T08:19:51.034Z"
   },
   {
    "duration": 7,
    "start_time": "2022-12-06T08:19:51.045Z"
   },
   {
    "duration": 42,
    "start_time": "2022-12-06T08:19:51.054Z"
   },
   {
    "duration": 22,
    "start_time": "2022-12-06T08:19:51.098Z"
   },
   {
    "duration": 8,
    "start_time": "2022-12-06T08:19:51.122Z"
   },
   {
    "duration": 14,
    "start_time": "2022-12-06T08:19:51.131Z"
   },
   {
    "duration": 34,
    "start_time": "2022-12-06T08:19:51.146Z"
   },
   {
    "duration": 19,
    "start_time": "2022-12-06T08:19:51.182Z"
   },
   {
    "duration": 207,
    "start_time": "2022-12-06T08:19:51.204Z"
   },
   {
    "duration": 7382,
    "start_time": "2022-12-06T08:19:51.413Z"
   },
   {
    "duration": 94,
    "start_time": "2022-12-06T08:19:58.797Z"
   },
   {
    "duration": 7,
    "start_time": "2022-12-06T08:19:58.893Z"
   },
   {
    "duration": 1570,
    "start_time": "2022-12-06T08:19:58.901Z"
   },
   {
    "duration": 6,
    "start_time": "2022-12-06T08:20:00.477Z"
   },
   {
    "duration": 84,
    "start_time": "2022-12-06T08:20:00.485Z"
   },
   {
    "duration": 904,
    "start_time": "2022-12-06T08:20:00.571Z"
   },
   {
    "duration": 18,
    "start_time": "2022-12-06T08:20:01.477Z"
   },
   {
    "duration": 28,
    "start_time": "2022-12-06T08:20:01.497Z"
   },
   {
    "duration": 297,
    "start_time": "2022-12-06T08:20:01.526Z"
   },
   {
    "duration": 11,
    "start_time": "2022-12-06T08:20:01.825Z"
   },
   {
    "duration": 54,
    "start_time": "2022-12-06T08:20:01.837Z"
   },
   {
    "duration": 6,
    "start_time": "2022-12-06T08:20:01.892Z"
   },
   {
    "duration": 12,
    "start_time": "2022-12-06T08:20:01.900Z"
   },
   {
    "duration": 32,
    "start_time": "2022-12-06T08:20:01.914Z"
   },
   {
    "duration": 22,
    "start_time": "2022-12-06T08:20:01.948Z"
   },
   {
    "duration": 19,
    "start_time": "2022-12-06T08:20:01.971Z"
   },
   {
    "duration": 17,
    "start_time": "2022-12-06T08:20:01.992Z"
   },
   {
    "duration": 10,
    "start_time": "2022-12-06T08:20:02.010Z"
   },
   {
    "duration": 19,
    "start_time": "2022-12-06T08:20:02.022Z"
   },
   {
    "duration": 48,
    "start_time": "2022-12-06T11:52:40.342Z"
   },
   {
    "duration": 938,
    "start_time": "2022-12-06T11:52:45.267Z"
   },
   {
    "duration": 19,
    "start_time": "2022-12-06T11:52:46.207Z"
   },
   {
    "duration": 28,
    "start_time": "2022-12-06T11:52:46.227Z"
   },
   {
    "duration": 5,
    "start_time": "2022-12-06T11:52:46.258Z"
   },
   {
    "duration": 14,
    "start_time": "2022-12-06T11:52:46.265Z"
   },
   {
    "duration": 27,
    "start_time": "2022-12-06T11:52:46.281Z"
   },
   {
    "duration": 80,
    "start_time": "2022-12-06T11:52:46.310Z"
   },
   {
    "duration": 17,
    "start_time": "2022-12-06T11:52:46.391Z"
   },
   {
    "duration": 9,
    "start_time": "2022-12-06T11:52:46.410Z"
   },
   {
    "duration": 50,
    "start_time": "2022-12-06T11:52:46.421Z"
   },
   {
    "duration": 4,
    "start_time": "2022-12-06T11:52:46.473Z"
   },
   {
    "duration": 1272,
    "start_time": "2022-12-06T11:52:46.479Z"
   },
   {
    "duration": 26,
    "start_time": "2022-12-06T11:52:47.753Z"
   },
   {
    "duration": 5,
    "start_time": "2022-12-06T11:52:47.780Z"
   },
   {
    "duration": 12,
    "start_time": "2022-12-06T11:52:47.786Z"
   },
   {
    "duration": 9,
    "start_time": "2022-12-06T11:52:47.799Z"
   },
   {
    "duration": 14,
    "start_time": "2022-12-06T11:52:47.810Z"
   },
   {
    "duration": 32,
    "start_time": "2022-12-06T11:52:47.826Z"
   },
   {
    "duration": 19,
    "start_time": "2022-12-06T11:52:47.860Z"
   },
   {
    "duration": 19,
    "start_time": "2022-12-06T11:52:47.881Z"
   },
   {
    "duration": 14,
    "start_time": "2022-12-06T11:52:47.901Z"
   },
   {
    "duration": 20,
    "start_time": "2022-12-06T11:52:47.916Z"
   },
   {
    "duration": 31,
    "start_time": "2022-12-06T11:52:47.954Z"
   },
   {
    "duration": 33,
    "start_time": "2022-12-06T11:52:47.986Z"
   },
   {
    "duration": 167,
    "start_time": "2022-12-06T11:52:48.020Z"
   },
   {
    "duration": 7685,
    "start_time": "2022-12-06T11:52:48.189Z"
   },
   {
    "duration": 304,
    "start_time": "2022-12-06T11:52:55.877Z"
   },
   {
    "duration": 8,
    "start_time": "2022-12-06T11:52:56.186Z"
   },
   {
    "duration": 1585,
    "start_time": "2022-12-06T11:52:56.196Z"
   },
   {
    "duration": 6,
    "start_time": "2022-12-06T11:52:57.783Z"
   },
   {
    "duration": 27,
    "start_time": "2022-12-06T11:52:57.791Z"
   },
   {
    "duration": 1004,
    "start_time": "2022-12-06T11:52:57.820Z"
   },
   {
    "duration": 16,
    "start_time": "2022-12-06T11:52:58.826Z"
   },
   {
    "duration": 7,
    "start_time": "2022-12-06T11:52:58.843Z"
   },
   {
    "duration": 301,
    "start_time": "2022-12-06T11:52:58.855Z"
   },
   {
    "duration": 10,
    "start_time": "2022-12-06T11:52:59.158Z"
   },
   {
    "duration": 53,
    "start_time": "2022-12-06T11:52:59.170Z"
   },
   {
    "duration": 5,
    "start_time": "2022-12-06T11:52:59.225Z"
   },
   {
    "duration": 28,
    "start_time": "2022-12-06T11:52:59.232Z"
   },
   {
    "duration": 28,
    "start_time": "2022-12-06T11:52:59.261Z"
   },
   {
    "duration": 13,
    "start_time": "2022-12-06T11:52:59.291Z"
   },
   {
    "duration": 10,
    "start_time": "2022-12-06T11:52:59.306Z"
   },
   {
    "duration": 44,
    "start_time": "2022-12-06T11:52:59.318Z"
   },
   {
    "duration": 9,
    "start_time": "2022-12-06T11:52:59.363Z"
   },
   {
    "duration": 12,
    "start_time": "2022-12-06T11:52:59.374Z"
   },
   {
    "duration": 76,
    "start_time": "2022-12-06T11:59:19.834Z"
   },
   {
    "duration": 47,
    "start_time": "2022-12-06T11:59:42.859Z"
   },
   {
    "duration": 13,
    "start_time": "2022-12-06T11:59:42.908Z"
   },
   {
    "duration": 19,
    "start_time": "2022-12-06T11:59:42.923Z"
   },
   {
    "duration": 8,
    "start_time": "2022-12-06T11:59:42.954Z"
   },
   {
    "duration": 18,
    "start_time": "2022-12-06T11:59:42.964Z"
   },
   {
    "duration": 14,
    "start_time": "2022-12-06T11:59:42.984Z"
   },
   {
    "duration": 19,
    "start_time": "2022-12-06T11:59:43.000Z"
   },
   {
    "duration": 42,
    "start_time": "2022-12-06T11:59:43.021Z"
   },
   {
    "duration": 9,
    "start_time": "2022-12-06T11:59:43.065Z"
   },
   {
    "duration": 29,
    "start_time": "2022-12-06T11:59:43.078Z"
   },
   {
    "duration": 5,
    "start_time": "2022-12-06T11:59:43.109Z"
   },
   {
    "duration": 1419,
    "start_time": "2022-12-06T11:59:43.115Z"
   },
   {
    "duration": 30,
    "start_time": "2022-12-06T11:59:44.535Z"
   },
   {
    "duration": 5,
    "start_time": "2022-12-06T11:59:44.567Z"
   },
   {
    "duration": 26,
    "start_time": "2022-12-06T11:59:44.573Z"
   },
   {
    "duration": 10,
    "start_time": "2022-12-06T11:59:44.601Z"
   },
   {
    "duration": 12,
    "start_time": "2022-12-06T11:59:44.613Z"
   },
   {
    "duration": 8,
    "start_time": "2022-12-06T11:59:44.627Z"
   },
   {
    "duration": 33,
    "start_time": "2022-12-06T11:59:44.637Z"
   },
   {
    "duration": 22,
    "start_time": "2022-12-06T11:59:44.672Z"
   },
   {
    "duration": 14,
    "start_time": "2022-12-06T11:59:44.696Z"
   },
   {
    "duration": 20,
    "start_time": "2022-12-06T11:59:44.712Z"
   },
   {
    "duration": 30,
    "start_time": "2022-12-06T11:59:44.734Z"
   },
   {
    "duration": 26,
    "start_time": "2022-12-06T11:59:44.769Z"
   },
   {
    "duration": 242,
    "start_time": "2022-12-06T11:59:44.798Z"
   },
   {
    "duration": 7428,
    "start_time": "2022-12-06T11:59:45.042Z"
   },
   {
    "duration": 337,
    "start_time": "2022-12-06T11:59:52.472Z"
   },
   {
    "duration": 8,
    "start_time": "2022-12-06T11:59:52.814Z"
   },
   {
    "duration": 1577,
    "start_time": "2022-12-06T11:59:52.824Z"
   },
   {
    "duration": 6,
    "start_time": "2022-12-06T11:59:54.403Z"
   },
   {
    "duration": 49,
    "start_time": "2022-12-06T11:59:54.412Z"
   },
   {
    "duration": 561,
    "start_time": "2022-12-06T11:59:54.462Z"
   },
   {
    "duration": 16,
    "start_time": "2022-12-06T11:59:55.025Z"
   },
   {
    "duration": 6,
    "start_time": "2022-12-06T11:59:55.056Z"
   },
   {
    "duration": 414,
    "start_time": "2022-12-06T11:59:55.064Z"
   },
   {
    "duration": 10,
    "start_time": "2022-12-06T11:59:55.480Z"
   },
   {
    "duration": 37,
    "start_time": "2022-12-06T11:59:55.492Z"
   },
   {
    "duration": 24,
    "start_time": "2022-12-06T11:59:55.531Z"
   },
   {
    "duration": 9,
    "start_time": "2022-12-06T11:59:55.557Z"
   },
   {
    "duration": 25,
    "start_time": "2022-12-06T11:59:55.569Z"
   },
   {
    "duration": 12,
    "start_time": "2022-12-06T11:59:55.596Z"
   },
   {
    "duration": 11,
    "start_time": "2022-12-06T11:59:55.609Z"
   },
   {
    "duration": 11,
    "start_time": "2022-12-06T11:59:55.655Z"
   },
   {
    "duration": 12,
    "start_time": "2022-12-06T11:59:55.668Z"
   },
   {
    "duration": 13,
    "start_time": "2022-12-06T11:59:55.682Z"
   },
   {
    "duration": 52,
    "start_time": "2022-12-06T12:25:42.111Z"
   },
   {
    "duration": 14,
    "start_time": "2022-12-06T12:25:42.166Z"
   },
   {
    "duration": 20,
    "start_time": "2022-12-06T12:25:42.182Z"
   },
   {
    "duration": 20,
    "start_time": "2022-12-06T12:25:42.204Z"
   },
   {
    "duration": 25,
    "start_time": "2022-12-06T12:25:42.226Z"
   },
   {
    "duration": 15,
    "start_time": "2022-12-06T12:25:42.255Z"
   },
   {
    "duration": 19,
    "start_time": "2022-12-06T12:25:42.272Z"
   },
   {
    "duration": 14,
    "start_time": "2022-12-06T12:25:42.293Z"
   },
   {
    "duration": 6,
    "start_time": "2022-12-06T12:25:42.308Z"
   },
   {
    "duration": 75,
    "start_time": "2022-12-06T12:25:42.317Z"
   },
   {
    "duration": 5,
    "start_time": "2022-12-06T12:25:42.394Z"
   },
   {
    "duration": 1475,
    "start_time": "2022-12-06T12:25:42.401Z"
   },
   {
    "duration": 28,
    "start_time": "2022-12-06T12:25:43.878Z"
   },
   {
    "duration": 5,
    "start_time": "2022-12-06T12:25:43.907Z"
   },
   {
    "duration": 13,
    "start_time": "2022-12-06T12:25:43.914Z"
   },
   {
    "duration": 10,
    "start_time": "2022-12-06T12:25:43.928Z"
   },
   {
    "duration": 9,
    "start_time": "2022-12-06T12:25:43.955Z"
   },
   {
    "duration": 9,
    "start_time": "2022-12-06T12:25:43.965Z"
   },
   {
    "duration": 21,
    "start_time": "2022-12-06T12:25:43.976Z"
   },
   {
    "duration": 19,
    "start_time": "2022-12-06T12:25:43.999Z"
   },
   {
    "duration": 38,
    "start_time": "2022-12-06T12:25:44.020Z"
   },
   {
    "duration": 18,
    "start_time": "2022-12-06T12:25:44.060Z"
   },
   {
    "duration": 16,
    "start_time": "2022-12-06T12:25:44.079Z"
   },
   {
    "duration": 23,
    "start_time": "2022-12-06T12:25:44.096Z"
   },
   {
    "duration": 243,
    "start_time": "2022-12-06T12:25:44.120Z"
   },
   {
    "duration": 7724,
    "start_time": "2022-12-06T12:25:44.365Z"
   },
   {
    "duration": 106,
    "start_time": "2022-12-06T12:25:52.091Z"
   },
   {
    "duration": 8,
    "start_time": "2022-12-06T12:25:52.201Z"
   },
   {
    "duration": 1586,
    "start_time": "2022-12-06T12:25:52.211Z"
   },
   {
    "duration": 7,
    "start_time": "2022-12-06T12:25:53.799Z"
   },
   {
    "duration": 28,
    "start_time": "2022-12-06T12:25:53.807Z"
   },
   {
    "duration": 872,
    "start_time": "2022-12-06T12:25:53.837Z"
   },
   {
    "duration": 23,
    "start_time": "2022-12-06T12:25:54.711Z"
   },
   {
    "duration": 22,
    "start_time": "2022-12-06T12:25:54.736Z"
   },
   {
    "duration": 386,
    "start_time": "2022-12-06T12:25:54.760Z"
   },
   {
    "duration": 10,
    "start_time": "2022-12-06T12:25:55.148Z"
   },
   {
    "duration": 44,
    "start_time": "2022-12-06T12:25:55.160Z"
   },
   {
    "duration": 7,
    "start_time": "2022-12-06T12:25:55.206Z"
   },
   {
    "duration": 9,
    "start_time": "2022-12-06T12:25:55.215Z"
   },
   {
    "duration": 24,
    "start_time": "2022-12-06T12:25:55.255Z"
   },
   {
    "duration": 12,
    "start_time": "2022-12-06T12:25:55.281Z"
   },
   {
    "duration": 12,
    "start_time": "2022-12-06T12:25:55.294Z"
   },
   {
    "duration": 54,
    "start_time": "2022-12-06T12:25:55.308Z"
   },
   {
    "duration": 11,
    "start_time": "2022-12-06T12:25:55.363Z"
   },
   {
    "duration": 14,
    "start_time": "2022-12-06T12:25:55.376Z"
   },
   {
    "duration": 51,
    "start_time": "2022-12-06T12:26:19.103Z"
   },
   {
    "duration": 17,
    "start_time": "2022-12-06T12:26:19.156Z"
   },
   {
    "duration": 15,
    "start_time": "2022-12-06T12:26:19.174Z"
   },
   {
    "duration": 12,
    "start_time": "2022-12-06T12:26:19.192Z"
   },
   {
    "duration": 17,
    "start_time": "2022-12-06T12:26:19.206Z"
   },
   {
    "duration": 39,
    "start_time": "2022-12-06T12:26:19.225Z"
   },
   {
    "duration": 24,
    "start_time": "2022-12-06T12:26:19.266Z"
   },
   {
    "duration": 13,
    "start_time": "2022-12-06T12:26:19.292Z"
   },
   {
    "duration": 6,
    "start_time": "2022-12-06T12:26:19.307Z"
   },
   {
    "duration": 63,
    "start_time": "2022-12-06T12:26:19.316Z"
   },
   {
    "duration": 5,
    "start_time": "2022-12-06T12:26:19.380Z"
   },
   {
    "duration": 1368,
    "start_time": "2022-12-06T12:26:19.387Z"
   },
   {
    "duration": 27,
    "start_time": "2022-12-06T12:26:20.756Z"
   },
   {
    "duration": 5,
    "start_time": "2022-12-06T12:26:20.785Z"
   },
   {
    "duration": 26,
    "start_time": "2022-12-06T12:26:20.791Z"
   },
   {
    "duration": 11,
    "start_time": "2022-12-06T12:26:20.818Z"
   },
   {
    "duration": 28,
    "start_time": "2022-12-06T12:26:20.831Z"
   },
   {
    "duration": 9,
    "start_time": "2022-12-06T12:26:20.861Z"
   },
   {
    "duration": 25,
    "start_time": "2022-12-06T12:26:20.872Z"
   },
   {
    "duration": 19,
    "start_time": "2022-12-06T12:26:20.899Z"
   },
   {
    "duration": 8,
    "start_time": "2022-12-06T12:26:20.920Z"
   },
   {
    "duration": 24,
    "start_time": "2022-12-06T12:26:20.954Z"
   },
   {
    "duration": 19,
    "start_time": "2022-12-06T12:26:20.979Z"
   },
   {
    "duration": 20,
    "start_time": "2022-12-06T12:26:20.999Z"
   },
   {
    "duration": 234,
    "start_time": "2022-12-06T12:26:21.020Z"
   },
   {
    "duration": 7821,
    "start_time": "2022-12-06T12:26:21.256Z"
   },
   {
    "duration": 105,
    "start_time": "2022-12-06T12:26:29.080Z"
   },
   {
    "duration": 11,
    "start_time": "2022-12-06T12:26:29.190Z"
   },
   {
    "duration": 2010,
    "start_time": "2022-12-06T12:26:29.202Z"
   },
   {
    "duration": 6,
    "start_time": "2022-12-06T12:26:31.214Z"
   },
   {
    "duration": 43,
    "start_time": "2022-12-06T12:26:31.221Z"
   },
   {
    "duration": 482,
    "start_time": "2022-12-06T12:26:31.266Z"
   },
   {
    "duration": 18,
    "start_time": "2022-12-06T12:26:31.750Z"
   },
   {
    "duration": 11,
    "start_time": "2022-12-06T12:26:31.769Z"
   },
   {
    "duration": 292,
    "start_time": "2022-12-06T12:26:31.782Z"
   },
   {
    "duration": 10,
    "start_time": "2022-12-06T12:26:32.075Z"
   },
   {
    "duration": 41,
    "start_time": "2022-12-06T12:26:32.086Z"
   },
   {
    "duration": 28,
    "start_time": "2022-12-06T12:26:32.129Z"
   },
   {
    "duration": 11,
    "start_time": "2022-12-06T12:26:32.159Z"
   },
   {
    "duration": 37,
    "start_time": "2022-12-06T12:26:32.172Z"
   },
   {
    "duration": 12,
    "start_time": "2022-12-06T12:26:32.211Z"
   },
   {
    "duration": 34,
    "start_time": "2022-12-06T12:26:32.225Z"
   },
   {
    "duration": 12,
    "start_time": "2022-12-06T12:26:32.261Z"
   },
   {
    "duration": 12,
    "start_time": "2022-12-06T12:26:32.275Z"
   },
   {
    "duration": 13,
    "start_time": "2022-12-06T12:26:32.289Z"
   }
  ],
  "colab": {
   "provenance": []
  },
  "gpuClass": "standard",
  "kernelspec": {
   "display_name": "Python 3 (ipykernel)",
   "language": "python",
   "name": "python3"
  },
  "language_info": {
   "codemirror_mode": {
    "name": "ipython",
    "version": 3
   },
   "file_extension": ".py",
   "mimetype": "text/x-python",
   "name": "python",
   "nbconvert_exporter": "python",
   "pygments_lexer": "ipython3",
   "version": "3.9.13"
  },
  "toc": {
   "base_numbering": 1,
   "nav_menu": {},
   "number_sections": true,
   "sideBar": true,
   "skip_h1_title": true,
   "title_cell": "Table of Contents",
   "title_sidebar": "Contents",
   "toc_cell": false,
   "toc_position": {},
   "toc_section_display": true,
   "toc_window_display": false
  }
 },
 "nbformat": 4,
 "nbformat_minor": 1
}
