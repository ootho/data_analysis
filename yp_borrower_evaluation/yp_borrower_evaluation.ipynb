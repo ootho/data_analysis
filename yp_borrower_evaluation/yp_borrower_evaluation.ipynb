{
 "cells": [
  {
   "cell_type": "markdown",
   "id": "23c422ac",
   "metadata": {
    "deletable": false,
    "editable": false,
    "id": "c81daeeb"
   },
   "source": [
    "# Исследование надежности заемщиков\n"
   ]
  },
  {
   "attachments": {},
   "cell_type": "markdown",
   "id": "4882c6c5",
   "metadata": {
    "deletable": false,
    "editable": false,
    "id": "744d7639"
   },
   "source": [
    "## Загрузка и изучение данных"
   ]
  },
  {
   "cell_type": "code",
   "execution_count": 60,
   "id": "7a0a7735",
   "metadata": {
    "deletable": false,
    "id": "7bcf75c9"
   },
   "outputs": [],
   "source": [
    "import os\n",
    "\n",
    "import pandas as pd"
   ]
  },
  {
   "cell_type": "code",
   "execution_count": 61,
   "id": "bbecddd6",
   "metadata": {},
   "outputs": [],
   "source": [
    "BASE_DIR = os.getcwd()\n",
    "data = pd.read_csv(f'{BASE_DIR}/datasets/data.csv')"
   ]
  },
  {
   "cell_type": "code",
   "execution_count": 62,
   "id": "1ef859dc",
   "metadata": {
    "deletable": false,
    "id": "2a7cab99",
    "outputId": "1a8f3ef2-d323-4ec2-ddf7-89670b5944c4"
   },
   "outputs": [
    {
     "data": {
      "text/html": [
       "<div>\n",
       "<style scoped>\n",
       "    .dataframe tbody tr th:only-of-type {\n",
       "        vertical-align: middle;\n",
       "    }\n",
       "\n",
       "    .dataframe tbody tr th {\n",
       "        vertical-align: top;\n",
       "    }\n",
       "\n",
       "    .dataframe thead th {\n",
       "        text-align: right;\n",
       "    }\n",
       "</style>\n",
       "<table border=\"1\" class=\"dataframe\">\n",
       "  <thead>\n",
       "    <tr style=\"text-align: right;\">\n",
       "      <th></th>\n",
       "      <th>children</th>\n",
       "      <th>days_employed</th>\n",
       "      <th>dob_years</th>\n",
       "      <th>education</th>\n",
       "      <th>education_id</th>\n",
       "      <th>family_status</th>\n",
       "      <th>family_status_id</th>\n",
       "      <th>gender</th>\n",
       "      <th>income_type</th>\n",
       "      <th>debt</th>\n",
       "      <th>total_income</th>\n",
       "      <th>purpose</th>\n",
       "    </tr>\n",
       "  </thead>\n",
       "  <tbody>\n",
       "    <tr>\n",
       "      <th>0</th>\n",
       "      <td>1</td>\n",
       "      <td>-8437.673028</td>\n",
       "      <td>42</td>\n",
       "      <td>высшее</td>\n",
       "      <td>0</td>\n",
       "      <td>женат / замужем</td>\n",
       "      <td>0</td>\n",
       "      <td>F</td>\n",
       "      <td>сотрудник</td>\n",
       "      <td>0</td>\n",
       "      <td>253875.639453</td>\n",
       "      <td>покупка жилья</td>\n",
       "    </tr>\n",
       "    <tr>\n",
       "      <th>1</th>\n",
       "      <td>1</td>\n",
       "      <td>-4024.803754</td>\n",
       "      <td>36</td>\n",
       "      <td>среднее</td>\n",
       "      <td>1</td>\n",
       "      <td>женат / замужем</td>\n",
       "      <td>0</td>\n",
       "      <td>F</td>\n",
       "      <td>сотрудник</td>\n",
       "      <td>0</td>\n",
       "      <td>112080.014102</td>\n",
       "      <td>приобретение автомобиля</td>\n",
       "    </tr>\n",
       "    <tr>\n",
       "      <th>2</th>\n",
       "      <td>0</td>\n",
       "      <td>-5623.422610</td>\n",
       "      <td>33</td>\n",
       "      <td>Среднее</td>\n",
       "      <td>1</td>\n",
       "      <td>женат / замужем</td>\n",
       "      <td>0</td>\n",
       "      <td>M</td>\n",
       "      <td>сотрудник</td>\n",
       "      <td>0</td>\n",
       "      <td>145885.952297</td>\n",
       "      <td>покупка жилья</td>\n",
       "    </tr>\n",
       "    <tr>\n",
       "      <th>3</th>\n",
       "      <td>3</td>\n",
       "      <td>-4124.747207</td>\n",
       "      <td>32</td>\n",
       "      <td>среднее</td>\n",
       "      <td>1</td>\n",
       "      <td>женат / замужем</td>\n",
       "      <td>0</td>\n",
       "      <td>M</td>\n",
       "      <td>сотрудник</td>\n",
       "      <td>0</td>\n",
       "      <td>267628.550329</td>\n",
       "      <td>дополнительное образование</td>\n",
       "    </tr>\n",
       "    <tr>\n",
       "      <th>4</th>\n",
       "      <td>0</td>\n",
       "      <td>340266.072047</td>\n",
       "      <td>53</td>\n",
       "      <td>среднее</td>\n",
       "      <td>1</td>\n",
       "      <td>гражданский брак</td>\n",
       "      <td>1</td>\n",
       "      <td>F</td>\n",
       "      <td>пенсионер</td>\n",
       "      <td>0</td>\n",
       "      <td>158616.077870</td>\n",
       "      <td>сыграть свадьбу</td>\n",
       "    </tr>\n",
       "    <tr>\n",
       "      <th>5</th>\n",
       "      <td>0</td>\n",
       "      <td>-926.185831</td>\n",
       "      <td>27</td>\n",
       "      <td>высшее</td>\n",
       "      <td>0</td>\n",
       "      <td>гражданский брак</td>\n",
       "      <td>1</td>\n",
       "      <td>M</td>\n",
       "      <td>компаньон</td>\n",
       "      <td>0</td>\n",
       "      <td>255763.565419</td>\n",
       "      <td>покупка жилья</td>\n",
       "    </tr>\n",
       "    <tr>\n",
       "      <th>6</th>\n",
       "      <td>0</td>\n",
       "      <td>-2879.202052</td>\n",
       "      <td>43</td>\n",
       "      <td>высшее</td>\n",
       "      <td>0</td>\n",
       "      <td>женат / замужем</td>\n",
       "      <td>0</td>\n",
       "      <td>F</td>\n",
       "      <td>компаньон</td>\n",
       "      <td>0</td>\n",
       "      <td>240525.971920</td>\n",
       "      <td>операции с жильем</td>\n",
       "    </tr>\n",
       "    <tr>\n",
       "      <th>7</th>\n",
       "      <td>0</td>\n",
       "      <td>-152.779569</td>\n",
       "      <td>50</td>\n",
       "      <td>СРЕДНЕЕ</td>\n",
       "      <td>1</td>\n",
       "      <td>женат / замужем</td>\n",
       "      <td>0</td>\n",
       "      <td>M</td>\n",
       "      <td>сотрудник</td>\n",
       "      <td>0</td>\n",
       "      <td>135823.934197</td>\n",
       "      <td>образование</td>\n",
       "    </tr>\n",
       "    <tr>\n",
       "      <th>8</th>\n",
       "      <td>2</td>\n",
       "      <td>-6929.865299</td>\n",
       "      <td>35</td>\n",
       "      <td>ВЫСШЕЕ</td>\n",
       "      <td>0</td>\n",
       "      <td>гражданский брак</td>\n",
       "      <td>1</td>\n",
       "      <td>F</td>\n",
       "      <td>сотрудник</td>\n",
       "      <td>0</td>\n",
       "      <td>95856.832424</td>\n",
       "      <td>на проведение свадьбы</td>\n",
       "    </tr>\n",
       "    <tr>\n",
       "      <th>9</th>\n",
       "      <td>0</td>\n",
       "      <td>-2188.756445</td>\n",
       "      <td>41</td>\n",
       "      <td>среднее</td>\n",
       "      <td>1</td>\n",
       "      <td>женат / замужем</td>\n",
       "      <td>0</td>\n",
       "      <td>M</td>\n",
       "      <td>сотрудник</td>\n",
       "      <td>0</td>\n",
       "      <td>144425.938277</td>\n",
       "      <td>покупка жилья для семьи</td>\n",
       "    </tr>\n",
       "  </tbody>\n",
       "</table>\n",
       "</div>"
      ],
      "text/plain": [
       "   children  days_employed  dob_years education  education_id  \\\n",
       "0         1   -8437.673028         42    высшее             0   \n",
       "1         1   -4024.803754         36   среднее             1   \n",
       "2         0   -5623.422610         33   Среднее             1   \n",
       "3         3   -4124.747207         32   среднее             1   \n",
       "4         0  340266.072047         53   среднее             1   \n",
       "5         0    -926.185831         27    высшее             0   \n",
       "6         0   -2879.202052         43    высшее             0   \n",
       "7         0    -152.779569         50   СРЕДНЕЕ             1   \n",
       "8         2   -6929.865299         35    ВЫСШЕЕ             0   \n",
       "9         0   -2188.756445         41   среднее             1   \n",
       "\n",
       "      family_status  family_status_id gender income_type  debt   total_income  \\\n",
       "0   женат / замужем                 0      F   сотрудник     0  253875.639453   \n",
       "1   женат / замужем                 0      F   сотрудник     0  112080.014102   \n",
       "2   женат / замужем                 0      M   сотрудник     0  145885.952297   \n",
       "3   женат / замужем                 0      M   сотрудник     0  267628.550329   \n",
       "4  гражданский брак                 1      F   пенсионер     0  158616.077870   \n",
       "5  гражданский брак                 1      M   компаньон     0  255763.565419   \n",
       "6   женат / замужем                 0      F   компаньон     0  240525.971920   \n",
       "7   женат / замужем                 0      M   сотрудник     0  135823.934197   \n",
       "8  гражданский брак                 1      F   сотрудник     0   95856.832424   \n",
       "9   женат / замужем                 0      M   сотрудник     0  144425.938277   \n",
       "\n",
       "                      purpose  \n",
       "0               покупка жилья  \n",
       "1     приобретение автомобиля  \n",
       "2               покупка жилья  \n",
       "3  дополнительное образование  \n",
       "4             сыграть свадьбу  \n",
       "5               покупка жилья  \n",
       "6           операции с жильем  \n",
       "7                 образование  \n",
       "8       на проведение свадьбы  \n",
       "9     покупка жилья для семьи  "
      ]
     },
     "execution_count": 62,
     "metadata": {},
     "output_type": "execute_result"
    }
   ],
   "source": [
    "data.head(10)"
   ]
  },
  {
   "cell_type": "code",
   "execution_count": 63,
   "id": "66dc5461",
   "metadata": {
    "deletable": false,
    "id": "2b757bca",
    "outputId": "15376089-8dad-46c9-b520-c05248d43158"
   },
   "outputs": [
    {
     "name": "stdout",
     "output_type": "stream",
     "text": [
      "<class 'pandas.core.frame.DataFrame'>\n",
      "RangeIndex: 21525 entries, 0 to 21524\n",
      "Data columns (total 12 columns):\n",
      " #   Column            Non-Null Count  Dtype  \n",
      "---  ------            --------------  -----  \n",
      " 0   children          21525 non-null  int64  \n",
      " 1   days_employed     19351 non-null  float64\n",
      " 2   dob_years         21525 non-null  int64  \n",
      " 3   education         21525 non-null  object \n",
      " 4   education_id      21525 non-null  int64  \n",
      " 5   family_status     21525 non-null  object \n",
      " 6   family_status_id  21525 non-null  int64  \n",
      " 7   gender            21525 non-null  object \n",
      " 8   income_type       21525 non-null  object \n",
      " 9   debt              21525 non-null  int64  \n",
      " 10  total_income      19351 non-null  float64\n",
      " 11  purpose           21525 non-null  object \n",
      "dtypes: float64(2), int64(5), object(5)\n",
      "memory usage: 2.0+ MB\n"
     ]
    }
   ],
   "source": [
    "data.info()"
   ]
  },
  {
   "cell_type": "code",
   "execution_count": 64,
   "id": "b9d6b678",
   "metadata": {},
   "outputs": [
    {
     "data": {
      "text/html": [
       "<div>\n",
       "<style scoped>\n",
       "    .dataframe tbody tr th:only-of-type {\n",
       "        vertical-align: middle;\n",
       "    }\n",
       "\n",
       "    .dataframe tbody tr th {\n",
       "        vertical-align: top;\n",
       "    }\n",
       "\n",
       "    .dataframe thead th {\n",
       "        text-align: right;\n",
       "    }\n",
       "</style>\n",
       "<table border=\"1\" class=\"dataframe\">\n",
       "  <thead>\n",
       "    <tr style=\"text-align: right;\">\n",
       "      <th></th>\n",
       "      <th>count</th>\n",
       "      <th>mean</th>\n",
       "      <th>std</th>\n",
       "      <th>min</th>\n",
       "      <th>25%</th>\n",
       "      <th>50%</th>\n",
       "      <th>75%</th>\n",
       "      <th>max</th>\n",
       "    </tr>\n",
       "  </thead>\n",
       "  <tbody>\n",
       "    <tr>\n",
       "      <th>children</th>\n",
       "      <td>21525.0</td>\n",
       "      <td>0.538908</td>\n",
       "      <td>1.381587</td>\n",
       "      <td>-1.000000</td>\n",
       "      <td>0.000000</td>\n",
       "      <td>0.000000</td>\n",
       "      <td>1.000000</td>\n",
       "      <td>2.000000e+01</td>\n",
       "    </tr>\n",
       "    <tr>\n",
       "      <th>days_employed</th>\n",
       "      <td>19351.0</td>\n",
       "      <td>63046.497661</td>\n",
       "      <td>140827.311974</td>\n",
       "      <td>-18388.949901</td>\n",
       "      <td>-2747.423625</td>\n",
       "      <td>-1203.369529</td>\n",
       "      <td>-291.095954</td>\n",
       "      <td>4.017554e+05</td>\n",
       "    </tr>\n",
       "    <tr>\n",
       "      <th>dob_years</th>\n",
       "      <td>21525.0</td>\n",
       "      <td>43.293380</td>\n",
       "      <td>12.574584</td>\n",
       "      <td>0.000000</td>\n",
       "      <td>33.000000</td>\n",
       "      <td>42.000000</td>\n",
       "      <td>53.000000</td>\n",
       "      <td>7.500000e+01</td>\n",
       "    </tr>\n",
       "    <tr>\n",
       "      <th>education_id</th>\n",
       "      <td>21525.0</td>\n",
       "      <td>0.817236</td>\n",
       "      <td>0.548138</td>\n",
       "      <td>0.000000</td>\n",
       "      <td>1.000000</td>\n",
       "      <td>1.000000</td>\n",
       "      <td>1.000000</td>\n",
       "      <td>4.000000e+00</td>\n",
       "    </tr>\n",
       "    <tr>\n",
       "      <th>family_status_id</th>\n",
       "      <td>21525.0</td>\n",
       "      <td>0.972544</td>\n",
       "      <td>1.420324</td>\n",
       "      <td>0.000000</td>\n",
       "      <td>0.000000</td>\n",
       "      <td>0.000000</td>\n",
       "      <td>1.000000</td>\n",
       "      <td>4.000000e+00</td>\n",
       "    </tr>\n",
       "    <tr>\n",
       "      <th>debt</th>\n",
       "      <td>21525.0</td>\n",
       "      <td>0.080883</td>\n",
       "      <td>0.272661</td>\n",
       "      <td>0.000000</td>\n",
       "      <td>0.000000</td>\n",
       "      <td>0.000000</td>\n",
       "      <td>0.000000</td>\n",
       "      <td>1.000000e+00</td>\n",
       "    </tr>\n",
       "    <tr>\n",
       "      <th>total_income</th>\n",
       "      <td>19351.0</td>\n",
       "      <td>167422.302208</td>\n",
       "      <td>102971.566448</td>\n",
       "      <td>20667.263793</td>\n",
       "      <td>103053.152913</td>\n",
       "      <td>145017.937533</td>\n",
       "      <td>203435.067663</td>\n",
       "      <td>2.265604e+06</td>\n",
       "    </tr>\n",
       "  </tbody>\n",
       "</table>\n",
       "</div>"
      ],
      "text/plain": [
       "                    count           mean            std           min  \\\n",
       "children          21525.0       0.538908       1.381587     -1.000000   \n",
       "days_employed     19351.0   63046.497661  140827.311974 -18388.949901   \n",
       "dob_years         21525.0      43.293380      12.574584      0.000000   \n",
       "education_id      21525.0       0.817236       0.548138      0.000000   \n",
       "family_status_id  21525.0       0.972544       1.420324      0.000000   \n",
       "debt              21525.0       0.080883       0.272661      0.000000   \n",
       "total_income      19351.0  167422.302208  102971.566448  20667.263793   \n",
       "\n",
       "                            25%            50%            75%           max  \n",
       "children               0.000000       0.000000       1.000000  2.000000e+01  \n",
       "days_employed      -2747.423625   -1203.369529    -291.095954  4.017554e+05  \n",
       "dob_years             33.000000      42.000000      53.000000  7.500000e+01  \n",
       "education_id           1.000000       1.000000       1.000000  4.000000e+00  \n",
       "family_status_id       0.000000       0.000000       1.000000  4.000000e+00  \n",
       "debt                   0.000000       0.000000       0.000000  1.000000e+00  \n",
       "total_income      103053.152913  145017.937533  203435.067663  2.265604e+06  "
      ]
     },
     "execution_count": 64,
     "metadata": {},
     "output_type": "execute_result"
    }
   ],
   "source": [
    "data.describe().T"
   ]
  },
  {
   "attachments": {},
   "cell_type": "markdown",
   "id": "07564b55",
   "metadata": {},
   "source": [
    "Всего в таблице 12 столбцов, тип данных столбцов различается.  \n",
    "  \n",
    "`children` — количество детей в семье  \n",
    "`days_employed` — общий трудовой стаж в днях  \n",
    "`dob_years` — возраст клиента в годах  \n",
    "`education` — уровень образования клиента  \n",
    "`education_id` — идентификатор уровня образования  \n",
    "`family_status` — семейное положение  \n",
    "`family_status_id` — идентификатор семейного положения  \n",
    "`gender` — пол клиента  \n",
    "`income_type` — тип занятости  \n",
    "`debt` — имел ли задолженность по возврату кредитов  \n",
    "`total_income` — ежемесячный доход  \n",
    "`purpose` — цель получения кредита  "
   ]
  },
  {
   "attachments": {},
   "cell_type": "markdown",
   "id": "cd48b923",
   "metadata": {},
   "source": [
    "### **Выводы**\n",
    "\n",
    "  \n",
    "Каждая строка таблицы содержит информацию об определенном физическом лице, запрашивающем кредитные средства на известную цель. Из таблицы можем видеть семейное положение, количество детей, возврат, трудовой стаж.   \n",
    "В столбце `children` значения от -1 до 20.  \n",
    "В столбце `days_employed` есть отрицательные значения, также среднее по столбцу - `63046.497661` дня, что необходимо изучить подробнее.  Минимальное значение приззнака `dob_years` - 0, что также необходимо исправить.\n",
    "\n",
    "TO DO:  \n",
    "- проверить пропуски и дубликаты   \n",
    "- проверить столбец `children` на наличие артефактов и некорректных значений  \n",
    "- проверить наличие минусовых значений в столбце `days_employed` и выявить причину данного явления  \n",
    "- исправить значение возраста 0  \n",
    "- привести к единому регистру столбец `education` и `family_status`  \n",
    "- downcast типов данных  "
   ]
  },
  {
   "cell_type": "markdown",
   "id": "6efb25ee",
   "metadata": {
    "deletable": false,
    "editable": false,
    "id": "333ec665"
   },
   "source": [
    "## Предобработка данных"
   ]
  },
  {
   "attachments": {},
   "cell_type": "markdown",
   "id": "abd47b91",
   "metadata": {
    "deletable": false,
    "editable": false,
    "id": "02d92d53"
   },
   "source": [
    "### Обработка пропусков"
   ]
  },
  {
   "cell_type": "code",
   "execution_count": 65,
   "id": "1079d8bd",
   "metadata": {
    "deletable": false,
    "id": "7f9b2309",
    "outputId": "81f4d817-781c-465c-ed15-91ce4446810d"
   },
   "outputs": [
    {
     "data": {
      "text/plain": [
       "children               0\n",
       "days_employed       2174\n",
       "dob_years              0\n",
       "education              0\n",
       "education_id           0\n",
       "family_status          0\n",
       "family_status_id       0\n",
       "gender                 0\n",
       "income_type            0\n",
       "debt                   0\n",
       "total_income        2174\n",
       "purpose                0\n",
       "dtype: int64"
      ]
     },
     "execution_count": 65,
     "metadata": {},
     "output_type": "execute_result"
    }
   ],
   "source": [
    "data.isna().sum()"
   ]
  },
  {
   "attachments": {},
   "cell_type": "markdown",
   "id": "3b7a506b",
   "metadata": {
    "deletable": false,
    "editable": false,
    "id": "db86e27b"
   },
   "source": [
    "В двух столбцах есть пропущенные значения. `days_employed` и `total_income`. К пропускам в столбце `days_employed` вернёмся позже, сначала обработаем пропуски первом столбце. На сумму дохода сильнее всего влияет тип занятости, поэтому заполнить пропуски в этом столбце можно медианным значением по каждому типу из столбца `income_type`."
   ]
  },
  {
   "cell_type": "code",
   "execution_count": 66,
   "id": "edc1e043",
   "metadata": {
    "deletable": false,
    "id": "42006a93"
   },
   "outputs": [],
   "source": [
    "for t in data['income_type'].unique():\n",
    "    data.loc[(data['income_type'] == t) & (data['total_income'].isna()), 'total_income'] = \\\n",
    "    data.loc[(data['income_type'] == t), 'total_income'].median()"
   ]
  },
  {
   "cell_type": "markdown",
   "id": "7310be0c",
   "metadata": {
    "deletable": false,
    "editable": false,
    "id": "89da5ece"
   },
   "source": [
    "### Обработка аномальных значений"
   ]
  },
  {
   "cell_type": "code",
   "execution_count": 67,
   "id": "d2861aed",
   "metadata": {
    "deletable": false,
    "id": "f6f055bf"
   },
   "outputs": [
    {
     "data": {
      "text/plain": [
       "15906"
      ]
     },
     "execution_count": 67,
     "metadata": {},
     "output_type": "execute_result"
    }
   ],
   "source": [
    "data[data['days_employed'] < 0]['days_employed'].count()"
   ]
  },
  {
   "attachments": {},
   "cell_type": "markdown",
   "id": "84c128d7",
   "metadata": {},
   "source": [
    "В столбце days_employed множество отрицательных значений, что противоречит сути данных содержащихся в столбце. Заменим их на положительные."
   ]
  },
  {
   "cell_type": "code",
   "execution_count": 68,
   "id": "e29db3f3",
   "metadata": {},
   "outputs": [],
   "source": [
    "data['days_employed'] = data['days_employed'].abs()"
   ]
  },
  {
   "attachments": {},
   "cell_type": "markdown",
   "id": "c52ca3f4",
   "metadata": {
    "deletable": false,
    "editable": false,
    "id": "6107dd2f"
   },
   "source": [
    "Изучим значения трудового стажа `days_employed` по типам занятости."
   ]
  },
  {
   "cell_type": "code",
   "execution_count": 69,
   "id": "206224b4",
   "metadata": {
    "deletable": false,
    "id": "85a5faf6",
    "outputId": "801ef80e-522b-4668-f34e-565af7432bcf"
   },
   "outputs": [
    {
     "data": {
      "text/plain": [
       "income_type\n",
       "безработный        366413.652744\n",
       "в декрете            3296.759962\n",
       "госслужащий          2689.368353\n",
       "компаньон            1547.382223\n",
       "пенсионер          365213.306266\n",
       "предприниматель       520.848083\n",
       "сотрудник            1574.202821\n",
       "студент               578.751554\n",
       "Name: days_employed, dtype: float64"
      ]
     },
     "execution_count": 69,
     "metadata": {},
     "output_type": "execute_result"
    }
   ],
   "source": [
    "data.groupby('income_type')['days_employed'].agg('median')"
   ]
  },
  {
   "attachments": {},
   "cell_type": "markdown",
   "id": "d90cb58f",
   "metadata": {
    "deletable": false,
    "editable": false,
    "id": "38d1a030"
   },
   "source": [
    "У двух типов (безработные и пенсионеры) аномально большие значения. Нет очевидного подходя к исправлению таких значений, поэтому оставим их как есть."
   ]
  },
  {
   "attachments": {},
   "cell_type": "markdown",
   "id": "61822bb6",
   "metadata": {
    "deletable": false,
    "editable": false,
    "id": "d8a9f147"
   },
   "source": [
    "### Обработка выбросов в столбце `children`"
   ]
  },
  {
   "cell_type": "code",
   "execution_count": 70,
   "id": "264eca04",
   "metadata": {
    "deletable": false,
    "id": "ef5056eb",
    "outputId": "6975b15c-7f95-4697-d16d-a0c79b657b03"
   },
   "outputs": [
    {
     "data": {
      "text/plain": [
       " 0     14149\n",
       " 1      4818\n",
       " 2      2055\n",
       " 3       330\n",
       " 20       76\n",
       "-1        47\n",
       " 4        41\n",
       " 5         9\n",
       "Name: children, dtype: int64"
      ]
     },
     "execution_count": 70,
     "metadata": {},
     "output_type": "execute_result"
    }
   ],
   "source": [
    "data['children'].value_counts()"
   ]
  },
  {
   "attachments": {},
   "cell_type": "markdown",
   "id": "26a0dd9e",
   "metadata": {
    "deletable": false,
    "editable": false,
    "id": "40b9ebf2"
   },
   "source": [
    "Значение -1 явно ошибочно, а 20 слишком маловероятно, доля аномальных значений невелика, просто удалим эти объекты."
   ]
  },
  {
   "cell_type": "code",
   "execution_count": 71,
   "id": "5843272e",
   "metadata": {
    "deletable": false,
    "id": "3ff9801d"
   },
   "outputs": [],
   "source": [
    "data = data[(data['children'] != -1) & (data['children'] != 20)]"
   ]
  },
  {
   "cell_type": "code",
   "execution_count": 72,
   "id": "efd48226",
   "metadata": {},
   "outputs": [
    {
     "data": {
      "text/plain": [
       "0    14149\n",
       "1     4818\n",
       "2     2055\n",
       "3      330\n",
       "4       41\n",
       "5        9\n",
       "Name: children, dtype: int64"
      ]
     },
     "execution_count": 72,
     "metadata": {},
     "output_type": "execute_result"
    }
   ],
   "source": [
    "data['children'].value_counts()"
   ]
  },
  {
   "attachments": {},
   "cell_type": "markdown",
   "id": "7586a633",
   "metadata": {
    "deletable": false,
    "editable": false,
    "id": "bbc4d0ce"
   },
   "source": [
    "Проверим результат"
   ]
  },
  {
   "attachments": {},
   "cell_type": "markdown",
   "id": "9ea21c9f",
   "metadata": {
    "deletable": false,
    "editable": false,
    "id": "75440b63"
   },
   "source": [
    "### Удаление пропусков"
   ]
  },
  {
   "attachments": {},
   "cell_type": "markdown",
   "id": "d6cb0252",
   "metadata": {
    "deletable": false,
    "editable": false,
    "id": "f4ea573f"
   },
   "source": [
    "Заполним пропуски в столбце `days_employed` медианными значениями по каждого типа занятости `income_type`"
   ]
  },
  {
   "cell_type": "code",
   "execution_count": 73,
   "id": "673b8309",
   "metadata": {
    "deletable": false,
    "id": "af6b1a7e"
   },
   "outputs": [],
   "source": [
    "for t in data['income_type'].unique():\n",
    "    data.loc[(data['income_type'] == t) & (data['days_employed'].isna()), 'days_employed'] = \\\n",
    "    data.loc[(data['income_type'] == t), 'days_employed'].median()"
   ]
  },
  {
   "attachments": {},
   "cell_type": "markdown",
   "id": "377b9bf9",
   "metadata": {
    "deletable": false,
    "editable": false,
    "id": "2753f40d"
   },
   "source": [
    "Повторно проверим датасет на наличие пропусков"
   ]
  },
  {
   "cell_type": "code",
   "execution_count": 74,
   "id": "fbb339de",
   "metadata": {
    "deletable": false,
    "id": "55f78bc2",
    "outputId": "8da1e4e1-358e-4e87-98c9-f261bce0a7b2"
   },
   "outputs": [
    {
     "data": {
      "text/plain": [
       "children            0\n",
       "days_employed       0\n",
       "dob_years           0\n",
       "education           0\n",
       "education_id        0\n",
       "family_status       0\n",
       "family_status_id    0\n",
       "gender              0\n",
       "income_type         0\n",
       "debt                0\n",
       "total_income        0\n",
       "purpose             0\n",
       "dtype: int64"
      ]
     },
     "execution_count": 74,
     "metadata": {},
     "output_type": "execute_result"
    }
   ],
   "source": [
    "data.isna().sum()"
   ]
  },
  {
   "cell_type": "markdown",
   "id": "df027af8",
   "metadata": {
    "deletable": false,
    "editable": false,
    "id": "ddc81e43"
   },
   "source": [
    "### Изменение типов данных"
   ]
  },
  {
   "attachments": {},
   "cell_type": "markdown",
   "id": "fb3f8707",
   "metadata": {
    "deletable": false,
    "editable": false,
    "id": "42d19d24"
   },
   "source": [
    "В столбце `total_income` заменим `float` на `int`"
   ]
  },
  {
   "cell_type": "code",
   "execution_count": 75,
   "id": "2a685faf",
   "metadata": {
    "deletable": false,
    "id": "920b65ad"
   },
   "outputs": [],
   "source": [
    "data['total_income'] = data['total_income'].astype(int)"
   ]
  },
  {
   "cell_type": "markdown",
   "id": "96ffebdc",
   "metadata": {
    "deletable": false,
    "editable": false,
    "id": "80c420ba"
   },
   "source": [
    "### Обработка дубликатов"
   ]
  },
  {
   "cell_type": "code",
   "execution_count": 76,
   "id": "fd48da9d",
   "metadata": {},
   "outputs": [
    {
     "data": {
      "text/plain": [
       "array(['высшее', 'среднее', 'Среднее', 'СРЕДНЕЕ', 'ВЫСШЕЕ',\n",
       "       'неоконченное высшее', 'начальное', 'Высшее',\n",
       "       'НЕОКОНЧЕННОЕ ВЫСШЕЕ', 'Неоконченное высшее', 'НАЧАЛЬНОЕ',\n",
       "       'Начальное', 'Ученая степень', 'УЧЕНАЯ СТЕПЕНЬ', 'ученая степень'],\n",
       "      dtype=object)"
      ]
     },
     "execution_count": 76,
     "metadata": {},
     "output_type": "execute_result"
    }
   ],
   "source": [
    "data['education'].unique()"
   ]
  },
  {
   "attachments": {},
   "cell_type": "markdown",
   "id": "8ed899b3",
   "metadata": {
    "deletable": false,
    "editable": false
   },
   "source": [
    "В столбце `education` есть одни и те же значения, но записанные по-разному: с использованием заглавных и строчных букв. Приведём их к нижнему регистру."
   ]
  },
  {
   "cell_type": "code",
   "execution_count": 77,
   "id": "e3e9c6ae",
   "metadata": {
    "deletable": false
   },
   "outputs": [],
   "source": [
    "data['education'] = data['education'].str.lower()"
   ]
  },
  {
   "attachments": {},
   "cell_type": "markdown",
   "id": "bb4a2667",
   "metadata": {
    "deletable": false,
    "editable": false,
    "id": "dc587695"
   },
   "source": [
    "Посмотрим наличие полных дубликатов"
   ]
  },
  {
   "cell_type": "code",
   "execution_count": 78,
   "id": "3fa08fb1",
   "metadata": {
    "deletable": false,
    "id": "3ee445e4",
    "outputId": "9684deba-1934-42d1-99e1-cda61740f822"
   },
   "outputs": [
    {
     "data": {
      "text/plain": [
       "71"
      ]
     },
     "execution_count": 78,
     "metadata": {},
     "output_type": "execute_result"
    }
   ],
   "source": [
    "data.duplicated().sum()"
   ]
  },
  {
   "cell_type": "markdown",
   "id": "76b447d0",
   "metadata": {},
   "source": [
    "Удалим их"
   ]
  },
  {
   "cell_type": "code",
   "execution_count": 79,
   "id": "8d022b39",
   "metadata": {
    "deletable": false,
    "id": "8575fe05"
   },
   "outputs": [],
   "source": [
    "data = data.drop_duplicates()"
   ]
  },
  {
   "cell_type": "markdown",
   "id": "41f944f4",
   "metadata": {
    "deletable": false,
    "editable": false,
    "id": "9904cf55"
   },
   "source": [
    "### Категоризация данных"
   ]
  },
  {
   "attachments": {},
   "cell_type": "markdown",
   "id": "a4185e55",
   "metadata": {},
   "source": [
    "Перед нами поставлены следующая задача:\n",
    "\n",
    "Ответить на вопрос влияет ли семейное положение и количество детей клиента на факт погашения кредита.\n",
    "\n",
    "Разобьем данные на категории следующим образом: \n",
    "\n",
    "- по доходу (`total_income`):  \n",
    "    - `E` - < 30.000;\n",
    "    - `D` - от 30.001 до 50.000;\n",
    "    - `C` - от 50.001 до 200.000;\n",
    "    - `B` - от 200.001 до 1.000.000\n",
    "    - `A` - > 1.000.000    \n",
    "   \n",
    "    \n",
    "      \n",
    "- по цели взятия кредита (необходимо укрупнить существующие категории);"
   ]
  },
  {
   "attachments": {},
   "cell_type": "markdown",
   "id": "75539b26",
   "metadata": {
    "deletable": false,
    "editable": false,
    "id": "72fcc8a2"
   },
   "source": [
    "Начнём с первого пункта, назначим карегории в зависимости от доходов.  \n",
    "Используем собственную функцию `categorize_income()` и метод `apply()`."
   ]
  },
  {
   "cell_type": "code",
   "execution_count": 80,
   "id": "76a6599b",
   "metadata": {
    "deletable": false,
    "id": "e1771346"
   },
   "outputs": [],
   "source": [
    "def categorize_income(income):\n",
    "    try:\n",
    "        if 0 <= income <= 30000:\n",
    "            return 'E'\n",
    "        elif 30001 <= income <= 50000:\n",
    "            return 'D'\n",
    "        elif 50001 <= income <= 200000:\n",
    "            return 'C'\n",
    "        elif 200001 <= income <= 1000000:\n",
    "            return 'B'\n",
    "        elif income >= 1000001:\n",
    "            return 'A'\n",
    "    except:\n",
    "        pass"
   ]
  },
  {
   "cell_type": "code",
   "execution_count": 81,
   "id": "42d753d9",
   "metadata": {
    "deletable": false,
    "id": "d5f3586d"
   },
   "outputs": [],
   "source": [
    "data['total_income_category'] = data['total_income'].apply(categorize_income)"
   ]
  },
  {
   "attachments": {},
   "cell_type": "markdown",
   "id": "ed9baf69",
   "metadata": {
    "deletable": false,
    "editable": false,
    "id": "dde49b5c"
   },
   "source": [
    "Укрупним категории по целям взятия кредитов"
   ]
  },
  {
   "cell_type": "code",
   "execution_count": 82,
   "id": "b1703b18",
   "metadata": {
    "deletable": false,
    "id": "f67ce9b3",
    "outputId": "673c12d9-7d7e-4ae0-9812-c622c89dd244"
   },
   "outputs": [
    {
     "data": {
      "text/plain": [
       "array(['покупка жилья', 'приобретение автомобиля',\n",
       "       'дополнительное образование', 'сыграть свадьбу',\n",
       "       'операции с жильем', 'образование', 'на проведение свадьбы',\n",
       "       'покупка жилья для семьи', 'покупка недвижимости',\n",
       "       'покупка коммерческой недвижимости', 'покупка жилой недвижимости',\n",
       "       'строительство собственной недвижимости', 'недвижимость',\n",
       "       'строительство недвижимости', 'на покупку подержанного автомобиля',\n",
       "       'на покупку своего автомобиля',\n",
       "       'операции с коммерческой недвижимостью',\n",
       "       'строительство жилой недвижимости', 'жилье',\n",
       "       'операции со своей недвижимостью', 'автомобили',\n",
       "       'заняться образованием', 'сделка с подержанным автомобилем',\n",
       "       'получение образования', 'автомобиль', 'свадьба',\n",
       "       'получение дополнительного образования', 'покупка своего жилья',\n",
       "       'операции с недвижимостью', 'получение высшего образования',\n",
       "       'свой автомобиль', 'сделка с автомобилем',\n",
       "       'профильное образование', 'высшее образование',\n",
       "       'покупка жилья для сдачи', 'на покупку автомобиля', 'ремонт жилью',\n",
       "       'заняться высшим образованием'], dtype=object)"
      ]
     },
     "execution_count": 82,
     "metadata": {},
     "output_type": "execute_result"
    }
   ],
   "source": [
    "data['purpose'].unique()"
   ]
  },
  {
   "attachments": {},
   "cell_type": "markdown",
   "id": "e2d8fbfc",
   "metadata": {
    "deletable": false,
    "editable": false,
    "id": "85d0aef0"
   },
   "source": [
    "Все цели можно разделить на 4 группы:\n",
    "\n",
    "- `'операции с автомобилем'`,\n",
    "- `'операции с недвижимостью'`,\n",
    "- `'проведение свадьбы'`,\n",
    "- `'получение образования'`.\n",
    "\n",
    "Напишем функцию с `categorize_purpose()` и метод `apply()` добавим признак с категорией в датасет."
   ]
  },
  {
   "cell_type": "code",
   "execution_count": 83,
   "id": "1e40b1cf",
   "metadata": {
    "deletable": false,
    "id": "e149fab4"
   },
   "outputs": [],
   "source": [
    "def categorize_purpose(row):\n",
    "    try:\n",
    "        if 'автом' in row:\n",
    "            return 'операции с автомобилем'\n",
    "        elif 'жил' in row or 'недвиж' in row:\n",
    "            return 'операции с недвижимостью'\n",
    "        elif 'свад' in row:\n",
    "            return 'проведение свадьбы'\n",
    "        elif 'образов' in row:\n",
    "            return 'получение образования'\n",
    "    except:\n",
    "        return 'нет категории'"
   ]
  },
  {
   "cell_type": "code",
   "execution_count": 84,
   "id": "73855dd4",
   "metadata": {
    "deletable": false,
    "id": "bf36e69b"
   },
   "outputs": [],
   "source": [
    "data['purpose_category'] = data['purpose'].apply(categorize_purpose)"
   ]
  },
  {
   "attachments": {},
   "cell_type": "markdown",
   "id": "d59fc04d",
   "metadata": {
    "deletable": false,
    "editable": false,
    "id": "09b242bf"
   },
   "source": [
    "### Ответим на ряд вопросов о данных"
   ]
  },
  {
   "attachments": {},
   "cell_type": "markdown",
   "id": "079932d4",
   "metadata": {
    "deletable": false,
    "editable": false,
    "id": "c5d66278"
   },
   "source": [
    "#### Есть ли зависимость между количеством детей и возвратом кредита в срок?"
   ]
  },
  {
   "cell_type": "code",
   "execution_count": 85,
   "id": "24ea7085",
   "metadata": {
    "deletable": false,
    "id": "2cacfc4a"
   },
   "outputs": [
    {
     "data": {
      "text/html": [
       "<div>\n",
       "<style scoped>\n",
       "    .dataframe tbody tr th:only-of-type {\n",
       "        vertical-align: middle;\n",
       "    }\n",
       "\n",
       "    .dataframe tbody tr th {\n",
       "        vertical-align: top;\n",
       "    }\n",
       "\n",
       "    .dataframe thead th {\n",
       "        text-align: right;\n",
       "    }\n",
       "</style>\n",
       "<table border=\"1\" class=\"dataframe\">\n",
       "  <thead>\n",
       "    <tr style=\"text-align: right;\">\n",
       "      <th></th>\n",
       "      <th>count</th>\n",
       "      <th>mean</th>\n",
       "    </tr>\n",
       "    <tr>\n",
       "      <th>children</th>\n",
       "      <th></th>\n",
       "      <th></th>\n",
       "    </tr>\n",
       "  </thead>\n",
       "  <tbody>\n",
       "    <tr>\n",
       "      <th>0</th>\n",
       "      <td>14091</td>\n",
       "      <td>0.075438</td>\n",
       "    </tr>\n",
       "    <tr>\n",
       "      <th>1</th>\n",
       "      <td>4808</td>\n",
       "      <td>0.092346</td>\n",
       "    </tr>\n",
       "    <tr>\n",
       "      <th>2</th>\n",
       "      <td>2052</td>\n",
       "      <td>0.094542</td>\n",
       "    </tr>\n",
       "    <tr>\n",
       "      <th>3</th>\n",
       "      <td>330</td>\n",
       "      <td>0.081818</td>\n",
       "    </tr>\n",
       "    <tr>\n",
       "      <th>4</th>\n",
       "      <td>41</td>\n",
       "      <td>0.097561</td>\n",
       "    </tr>\n",
       "    <tr>\n",
       "      <th>5</th>\n",
       "      <td>9</td>\n",
       "      <td>0.000000</td>\n",
       "    </tr>\n",
       "  </tbody>\n",
       "</table>\n",
       "</div>"
      ],
      "text/plain": [
       "          count      mean\n",
       "children                 \n",
       "0         14091  0.075438\n",
       "1          4808  0.092346\n",
       "2          2052  0.094542\n",
       "3           330  0.081818\n",
       "4            41  0.097561\n",
       "5             9  0.000000"
      ]
     },
     "execution_count": 85,
     "metadata": {},
     "output_type": "execute_result"
    }
   ],
   "source": [
    "data.groupby('children')['debt'].agg(['count','mean'])"
   ]
  },
  {
   "cell_type": "code",
   "execution_count": 86,
   "id": "37738d5b",
   "metadata": {},
   "outputs": [
    {
     "data": {
      "text/html": [
       "<div>\n",
       "<style scoped>\n",
       "    .dataframe tbody tr th:only-of-type {\n",
       "        vertical-align: middle;\n",
       "    }\n",
       "\n",
       "    .dataframe tbody tr th {\n",
       "        vertical-align: top;\n",
       "    }\n",
       "\n",
       "    .dataframe thead th {\n",
       "        text-align: right;\n",
       "    }\n",
       "</style>\n",
       "<table border=\"1\" class=\"dataframe\">\n",
       "  <thead>\n",
       "    <tr style=\"text-align: right;\">\n",
       "      <th></th>\n",
       "      <th>count</th>\n",
       "      <th>mean</th>\n",
       "    </tr>\n",
       "    <tr>\n",
       "      <th>parent</th>\n",
       "      <th></th>\n",
       "      <th></th>\n",
       "    </tr>\n",
       "  </thead>\n",
       "  <tbody>\n",
       "    <tr>\n",
       "      <th>False</th>\n",
       "      <td>14091</td>\n",
       "      <td>0.075438</td>\n",
       "    </tr>\n",
       "    <tr>\n",
       "      <th>True</th>\n",
       "      <td>7240</td>\n",
       "      <td>0.092403</td>\n",
       "    </tr>\n",
       "  </tbody>\n",
       "</table>\n",
       "</div>"
      ],
      "text/plain": [
       "        count      mean\n",
       "parent                 \n",
       "False   14091  0.075438\n",
       "True     7240  0.092403"
      ]
     },
     "execution_count": 86,
     "metadata": {},
     "output_type": "execute_result"
    }
   ],
   "source": [
    "data['parent'] = data['children'] > 0\n",
    "data.groupby('parent')['debt'].agg(['count','mean'])"
   ]
  },
  {
   "attachments": {},
   "cell_type": "markdown",
   "id": "a6acdefb",
   "metadata": {
    "deletable": false,
    "id": "3a6b99ec"
   },
   "source": [
    "Кредиторы с детьми чаще имеют долги по кредитам, чем кредиторы без детей. Причём нет явной зависимости  от количества детей, скорее от их наличия или отсутствия."
   ]
  },
  {
   "attachments": {},
   "cell_type": "markdown",
   "id": "d0b84c59",
   "metadata": {
    "deletable": false,
    "editable": false,
    "id": "97be82ca"
   },
   "source": [
    "#### Есть ли зависимость между семейным положением и возвратом кредита в срок?"
   ]
  },
  {
   "cell_type": "code",
   "execution_count": 87,
   "id": "0526400d",
   "metadata": {
    "deletable": false,
    "id": "dc3f7ee8"
   },
   "outputs": [
    {
     "data": {
      "text/html": [
       "<div>\n",
       "<style scoped>\n",
       "    .dataframe tbody tr th:only-of-type {\n",
       "        vertical-align: middle;\n",
       "    }\n",
       "\n",
       "    .dataframe tbody tr th {\n",
       "        vertical-align: top;\n",
       "    }\n",
       "\n",
       "    .dataframe thead th {\n",
       "        text-align: right;\n",
       "    }\n",
       "</style>\n",
       "<table border=\"1\" class=\"dataframe\">\n",
       "  <thead>\n",
       "    <tr style=\"text-align: right;\">\n",
       "      <th></th>\n",
       "      <th>count</th>\n",
       "      <th>mean</th>\n",
       "    </tr>\n",
       "    <tr>\n",
       "      <th>family_status</th>\n",
       "      <th></th>\n",
       "      <th></th>\n",
       "    </tr>\n",
       "  </thead>\n",
       "  <tbody>\n",
       "    <tr>\n",
       "      <th>вдовец / вдова</th>\n",
       "      <td>951</td>\n",
       "      <td>0.066246</td>\n",
       "    </tr>\n",
       "    <tr>\n",
       "      <th>в разводе</th>\n",
       "      <td>1189</td>\n",
       "      <td>0.070648</td>\n",
       "    </tr>\n",
       "    <tr>\n",
       "      <th>женат / замужем</th>\n",
       "      <td>12261</td>\n",
       "      <td>0.075606</td>\n",
       "    </tr>\n",
       "    <tr>\n",
       "      <th>гражданский брак</th>\n",
       "      <td>4134</td>\n",
       "      <td>0.093130</td>\n",
       "    </tr>\n",
       "    <tr>\n",
       "      <th>Не женат / не замужем</th>\n",
       "      <td>2796</td>\n",
       "      <td>0.097639</td>\n",
       "    </tr>\n",
       "  </tbody>\n",
       "</table>\n",
       "</div>"
      ],
      "text/plain": [
       "                       count      mean\n",
       "family_status                         \n",
       "вдовец / вдова           951  0.066246\n",
       "в разводе               1189  0.070648\n",
       "женат / замужем        12261  0.075606\n",
       "гражданский брак        4134  0.093130\n",
       "Не женат / не замужем   2796  0.097639"
      ]
     },
     "execution_count": 87,
     "metadata": {},
     "output_type": "execute_result"
    }
   ],
   "source": [
    "data.groupby('family_status')['debt'].agg(['count','mean']).sort_values(by = 'mean')"
   ]
  },
  {
   "attachments": {},
   "cell_type": "markdown",
   "id": "a7e3f7f9",
   "metadata": {
    "deletable": false,
    "id": "1cef7837"
   },
   "source": [
    "Между семейным положением и возвратом кредита есть зависимость.\n",
    "Вдовцы и вдовы имеют меньший процент задолженностей, не женатые и не замужние самый высокий."
   ]
  },
  {
   "attachments": {},
   "cell_type": "markdown",
   "id": "e8a123b0",
   "metadata": {
    "deletable": false,
    "editable": false,
    "id": "1e8b2fca"
   },
   "source": [
    "#### Есть ли зависимость между уровнем дохода и возвратом кредита в срок?"
   ]
  },
  {
   "cell_type": "code",
   "execution_count": 88,
   "id": "c5918396",
   "metadata": {
    "deletable": false,
    "id": "cd7e3720"
   },
   "outputs": [
    {
     "data": {
      "text/html": [
       "<div>\n",
       "<style scoped>\n",
       "    .dataframe tbody tr th:only-of-type {\n",
       "        vertical-align: middle;\n",
       "    }\n",
       "\n",
       "    .dataframe tbody tr th {\n",
       "        vertical-align: top;\n",
       "    }\n",
       "\n",
       "    .dataframe thead th {\n",
       "        text-align: right;\n",
       "    }\n",
       "</style>\n",
       "<table border=\"1\" class=\"dataframe\">\n",
       "  <thead>\n",
       "    <tr style=\"text-align: right;\">\n",
       "      <th></th>\n",
       "      <th>count</th>\n",
       "      <th>mean</th>\n",
       "    </tr>\n",
       "    <tr>\n",
       "      <th>total_income_category</th>\n",
       "      <th></th>\n",
       "      <th></th>\n",
       "    </tr>\n",
       "  </thead>\n",
       "  <tbody>\n",
       "    <tr>\n",
       "      <th>A</th>\n",
       "      <td>25</td>\n",
       "      <td>0.080000</td>\n",
       "    </tr>\n",
       "    <tr>\n",
       "      <th>B</th>\n",
       "      <td>5014</td>\n",
       "      <td>0.070602</td>\n",
       "    </tr>\n",
       "    <tr>\n",
       "      <th>C</th>\n",
       "      <td>15921</td>\n",
       "      <td>0.084982</td>\n",
       "    </tr>\n",
       "    <tr>\n",
       "      <th>D</th>\n",
       "      <td>349</td>\n",
       "      <td>0.060172</td>\n",
       "    </tr>\n",
       "    <tr>\n",
       "      <th>E</th>\n",
       "      <td>22</td>\n",
       "      <td>0.090909</td>\n",
       "    </tr>\n",
       "  </tbody>\n",
       "</table>\n",
       "</div>"
      ],
      "text/plain": [
       "                       count      mean\n",
       "total_income_category                 \n",
       "A                         25  0.080000\n",
       "B                       5014  0.070602\n",
       "C                      15921  0.084982\n",
       "D                        349  0.060172\n",
       "E                         22  0.090909"
      ]
     },
     "execution_count": 88,
     "metadata": {},
     "output_type": "execute_result"
    }
   ],
   "source": [
    "data.groupby('total_income_category')['debt'].agg(['count','mean'])"
   ]
  },
  {
   "attachments": {},
   "cell_type": "markdown",
   "id": "c3d8198d",
   "metadata": {
    "deletable": false,
    "id": "e8593def"
   },
   "source": [
    "Число кредиторов сильно разнится в различных группах. В категориях с самым низким и с самым высоким доходов данных не достаточно для того чтобы сделать какой-либо вывод, то же можно сказать и о категории D. Если сравнивать категории B и C (2 и 3 место по доходам), то есть корреляция между доходом и возвратом кредита."
   ]
  },
  {
   "attachments": {},
   "cell_type": "markdown",
   "id": "5e118c56",
   "metadata": {
    "deletable": false,
    "editable": false,
    "id": "99ecbd1f"
   },
   "source": [
    "#### Как разные цели кредита влияют на его возврат в срок?"
   ]
  },
  {
   "cell_type": "code",
   "execution_count": 89,
   "id": "f3d5fbbb",
   "metadata": {
    "deletable": false,
    "id": "2b687290"
   },
   "outputs": [
    {
     "data": {
      "text/html": [
       "<div>\n",
       "<style scoped>\n",
       "    .dataframe tbody tr th:only-of-type {\n",
       "        vertical-align: middle;\n",
       "    }\n",
       "\n",
       "    .dataframe tbody tr th {\n",
       "        vertical-align: top;\n",
       "    }\n",
       "\n",
       "    .dataframe thead th {\n",
       "        text-align: right;\n",
       "    }\n",
       "</style>\n",
       "<table border=\"1\" class=\"dataframe\">\n",
       "  <thead>\n",
       "    <tr style=\"text-align: right;\">\n",
       "      <th></th>\n",
       "      <th>count</th>\n",
       "      <th>mean</th>\n",
       "    </tr>\n",
       "    <tr>\n",
       "      <th>purpose_category</th>\n",
       "      <th></th>\n",
       "      <th></th>\n",
       "    </tr>\n",
       "  </thead>\n",
       "  <tbody>\n",
       "    <tr>\n",
       "      <th>операции с недвижимостью</th>\n",
       "      <td>10751</td>\n",
       "      <td>0.072551</td>\n",
       "    </tr>\n",
       "    <tr>\n",
       "      <th>проведение свадьбы</th>\n",
       "      <td>2313</td>\n",
       "      <td>0.079118</td>\n",
       "    </tr>\n",
       "    <tr>\n",
       "      <th>получение образования</th>\n",
       "      <td>3988</td>\n",
       "      <td>0.092528</td>\n",
       "    </tr>\n",
       "    <tr>\n",
       "      <th>операции с автомобилем</th>\n",
       "      <td>4279</td>\n",
       "      <td>0.093480</td>\n",
       "    </tr>\n",
       "  </tbody>\n",
       "</table>\n",
       "</div>"
      ],
      "text/plain": [
       "                          count      mean\n",
       "purpose_category                         \n",
       "операции с недвижимостью  10751  0.072551\n",
       "проведение свадьбы         2313  0.079118\n",
       "получение образования      3988  0.092528\n",
       "операции с автомобилем     4279  0.093480"
      ]
     },
     "execution_count": 89,
     "metadata": {},
     "output_type": "execute_result"
    }
   ],
   "source": [
    "data.groupby('purpose_category')['debt'].agg(['count','mean']).sort_values(by = 'mean')"
   ]
  },
  {
   "attachments": {},
   "cell_type": "markdown",
   "id": "582116ce",
   "metadata": {
    "deletable": false,
    "id": "b4bb2ce6"
   },
   "source": [
    "Процент возврата кредитов отличается в зависимости от целей кредита. Наиболее добросовестными оказались кредиторы по недвижимости. Наибольший процент должников по кредитам на автомобили."
   ]
  },
  {
   "attachments": {},
   "cell_type": "markdown",
   "id": "4ac5bde5",
   "metadata": {
    "deletable": false,
    "editable": false,
    "id": "6db5255a"
   },
   "source": [
    "### Вывод"
   ]
  },
  {
   "attachments": {},
   "cell_type": "markdown",
   "id": "d52de7cf",
   "metadata": {},
   "source": [
    "В результате исследования платёжеспособности заёмщиков кредитов были выявлены следующие зависимости:"
   ]
  },
  {
   "attachments": {},
   "cell_type": "markdown",
   "id": "5978d3a6",
   "metadata": {
    "deletable": false,
    "id": "bad65432"
   },
   "source": [
    "- Из рассмотренных показателей однозначной зависимости не выявлено по критерию заработной платы. Требуется или получить больше данных по кредиторам с максимальными и минимальными заработками или переопределить границы разбивки на категории.  \n",
    "  \n",
    "- На выплату по кредиту влияет наличие или отсутствие детей, но не их количество.  \n",
    "  \n",
    "- Успешная выплата кредита так же зависит от целей кредита и семейного положения кредитора.  \n",
    "  \n",
    "**Попробуем нарисовать портет идеального заёмщика**:\n",
    "\n",
    "Идеальный заёмщик - вдовец без детей с доходом выше среднего, берущий кредит на недвижимость."
   ]
  },
  {
   "cell_type": "markdown",
   "id": "47465f9e",
   "metadata": {},
   "source": []
  }
 ],
 "metadata": {
  "ExecuteTimeLog": [
   {
    "duration": 43,
    "start_time": "2022-10-26T14:57:04.476Z"
   },
   {
    "duration": 7,
    "start_time": "2022-10-26T14:57:27.085Z"
   },
   {
    "duration": 568,
    "start_time": "2022-10-26T14:58:30.113Z"
   },
   {
    "duration": 22,
    "start_time": "2022-10-26T14:58:30.684Z"
   },
   {
    "duration": 36,
    "start_time": "2022-10-26T14:58:30.707Z"
   },
   {
    "duration": 60,
    "start_time": "2022-10-26T14:58:30.746Z"
   },
   {
    "duration": 70,
    "start_time": "2022-10-26T14:58:30.808Z"
   },
   {
    "duration": 4,
    "start_time": "2022-10-26T14:58:30.880Z"
   },
   {
    "duration": 67,
    "start_time": "2022-10-26T14:58:30.886Z"
   },
   {
    "duration": 81,
    "start_time": "2022-10-26T14:58:30.955Z"
   },
   {
    "duration": 41,
    "start_time": "2022-10-26T14:58:31.038Z"
   },
   {
    "duration": 46,
    "start_time": "2022-10-26T14:58:31.082Z"
   },
   {
    "duration": 49,
    "start_time": "2022-10-26T14:58:31.130Z"
   },
   {
    "duration": 11,
    "start_time": "2022-10-26T14:58:31.180Z"
   },
   {
    "duration": 15,
    "start_time": "2022-10-26T14:58:31.192Z"
   },
   {
    "duration": 21,
    "start_time": "2022-10-26T14:58:31.208Z"
   },
   {
    "duration": 24,
    "start_time": "2022-10-26T14:58:31.230Z"
   },
   {
    "duration": 16,
    "start_time": "2022-10-26T14:58:31.256Z"
   },
   {
    "duration": 4,
    "start_time": "2022-10-26T14:58:31.274Z"
   },
   {
    "duration": 12,
    "start_time": "2022-10-26T14:58:31.279Z"
   },
   {
    "duration": 5,
    "start_time": "2022-10-26T14:58:31.293Z"
   },
   {
    "duration": 24,
    "start_time": "2022-10-26T14:58:31.299Z"
   },
   {
    "duration": 20,
    "start_time": "2022-10-26T14:58:31.324Z"
   },
   {
    "duration": 58,
    "start_time": "2022-10-26T14:58:31.346Z"
   },
   {
    "duration": 8,
    "start_time": "2022-10-26T14:58:31.406Z"
   },
   {
    "duration": 10,
    "start_time": "2022-10-26T14:58:31.415Z"
   },
   {
    "duration": 9,
    "start_time": "2022-10-26T14:58:31.427Z"
   },
   {
    "duration": 7,
    "start_time": "2022-10-26T15:49:19.370Z"
   },
   {
    "duration": 33,
    "start_time": "2022-10-26T15:51:05.820Z"
   },
   {
    "duration": 7,
    "start_time": "2022-10-26T15:51:14.345Z"
   },
   {
    "duration": 3,
    "start_time": "2022-10-26T15:52:07.792Z"
   },
   {
    "duration": 21,
    "start_time": "2022-10-26T15:52:14.766Z"
   },
   {
    "duration": 5,
    "start_time": "2022-10-26T15:52:26.373Z"
   },
   {
    "duration": 6,
    "start_time": "2022-10-26T15:52:59.563Z"
   },
   {
    "duration": 18,
    "start_time": "2022-10-26T15:53:05.163Z"
   },
   {
    "duration": 9,
    "start_time": "2022-10-26T15:53:33.632Z"
   },
   {
    "duration": 4,
    "start_time": "2022-10-26T15:53:54.092Z"
   },
   {
    "duration": 8,
    "start_time": "2022-10-26T15:54:04.412Z"
   },
   {
    "duration": 6,
    "start_time": "2022-10-26T15:54:48.076Z"
   },
   {
    "duration": 9,
    "start_time": "2022-10-26T16:01:58.398Z"
   },
   {
    "duration": 2,
    "start_time": "2022-10-26T16:05:39.483Z"
   },
   {
    "duration": 11,
    "start_time": "2022-10-26T16:05:59.962Z"
   },
   {
    "duration": 11,
    "start_time": "2022-10-26T16:07:31.592Z"
   },
   {
    "duration": 11,
    "start_time": "2022-10-26T16:08:05.264Z"
   },
   {
    "duration": 13,
    "start_time": "2022-10-26T16:08:59.403Z"
   },
   {
    "duration": 10,
    "start_time": "2022-10-26T16:09:06.493Z"
   },
   {
    "duration": 11,
    "start_time": "2022-10-26T16:09:09.870Z"
   },
   {
    "duration": 10,
    "start_time": "2022-10-26T16:09:56.539Z"
   },
   {
    "duration": 10,
    "start_time": "2022-10-26T16:10:28.179Z"
   },
   {
    "duration": 10,
    "start_time": "2022-10-26T16:10:55.737Z"
   },
   {
    "duration": 10,
    "start_time": "2022-10-26T16:11:26.403Z"
   },
   {
    "duration": 12,
    "start_time": "2022-10-26T16:11:33.483Z"
   },
   {
    "duration": 8,
    "start_time": "2022-10-26T16:12:14.474Z"
   },
   {
    "duration": 10,
    "start_time": "2022-10-26T16:13:01.423Z"
   },
   {
    "duration": 91,
    "start_time": "2022-10-26T17:32:25.186Z"
   },
   {
    "duration": 13,
    "start_time": "2022-10-26T17:32:25.279Z"
   },
   {
    "duration": 38,
    "start_time": "2022-10-26T17:32:25.293Z"
   },
   {
    "duration": 34,
    "start_time": "2022-10-26T17:32:25.332Z"
   },
   {
    "duration": 50,
    "start_time": "2022-10-26T17:32:25.368Z"
   },
   {
    "duration": 3,
    "start_time": "2022-10-26T17:32:25.420Z"
   },
   {
    "duration": 22,
    "start_time": "2022-10-26T17:32:25.424Z"
   },
   {
    "duration": 16,
    "start_time": "2022-10-26T17:32:25.447Z"
   },
   {
    "duration": 34,
    "start_time": "2022-10-26T17:32:25.464Z"
   },
   {
    "duration": 20,
    "start_time": "2022-10-26T17:32:25.500Z"
   },
   {
    "duration": 41,
    "start_time": "2022-10-26T17:32:25.522Z"
   },
   {
    "duration": 8,
    "start_time": "2022-10-26T17:32:25.564Z"
   },
   {
    "duration": 14,
    "start_time": "2022-10-26T17:32:25.574Z"
   },
   {
    "duration": 24,
    "start_time": "2022-10-26T17:32:25.590Z"
   },
   {
    "duration": 41,
    "start_time": "2022-10-26T17:32:25.615Z"
   },
   {
    "duration": 23,
    "start_time": "2022-10-26T17:32:25.657Z"
   },
   {
    "duration": 4,
    "start_time": "2022-10-26T17:32:25.681Z"
   },
   {
    "duration": 36,
    "start_time": "2022-10-26T17:32:25.686Z"
   },
   {
    "duration": 17,
    "start_time": "2022-10-26T17:32:25.723Z"
   },
   {
    "duration": 14,
    "start_time": "2022-10-26T17:32:25.741Z"
   },
   {
    "duration": 37,
    "start_time": "2022-10-26T17:32:25.756Z"
   },
   {
    "duration": 35,
    "start_time": "2022-10-26T17:32:25.794Z"
   },
   {
    "duration": 32,
    "start_time": "2022-10-26T17:32:25.830Z"
   },
   {
    "duration": 39,
    "start_time": "2022-10-26T17:32:25.864Z"
   },
   {
    "duration": 23,
    "start_time": "2022-10-26T17:32:25.904Z"
   },
   {
    "duration": 34,
    "start_time": "2022-10-26T17:32:25.928Z"
   },
   {
    "duration": 65,
    "start_time": "2022-10-27T03:54:57.328Z"
   },
   {
    "duration": 46,
    "start_time": "2022-10-27T03:56:24.391Z"
   },
   {
    "duration": 73,
    "start_time": "2022-10-27T03:57:30.724Z"
   },
   {
    "duration": 57,
    "start_time": "2022-10-27T09:15:55.170Z"
   },
   {
    "duration": 643,
    "start_time": "2022-10-27T09:16:07.660Z"
   },
   {
    "duration": 34,
    "start_time": "2022-10-27T09:16:08.306Z"
   },
   {
    "duration": 15,
    "start_time": "2022-10-27T09:16:08.342Z"
   },
   {
    "duration": 10,
    "start_time": "2022-10-27T09:16:08.359Z"
   },
   {
    "duration": 73,
    "start_time": "2022-10-27T09:16:08.370Z"
   },
   {
    "duration": 3,
    "start_time": "2022-10-27T09:16:08.445Z"
   },
   {
    "duration": 10,
    "start_time": "2022-10-27T09:16:08.450Z"
   },
   {
    "duration": 4,
    "start_time": "2022-10-27T09:16:08.461Z"
   },
   {
    "duration": 11,
    "start_time": "2022-10-27T09:16:08.466Z"
   },
   {
    "duration": 28,
    "start_time": "2022-10-27T09:16:08.479Z"
   },
   {
    "duration": 41,
    "start_time": "2022-10-27T09:16:08.510Z"
   },
   {
    "duration": 9,
    "start_time": "2022-10-27T09:16:08.553Z"
   },
   {
    "duration": 4,
    "start_time": "2022-10-27T09:16:08.564Z"
   },
   {
    "duration": 49,
    "start_time": "2022-10-27T09:16:08.570Z"
   },
   {
    "duration": 24,
    "start_time": "2022-10-27T09:16:08.622Z"
   },
   {
    "duration": 16,
    "start_time": "2022-10-27T09:16:08.647Z"
   },
   {
    "duration": 3,
    "start_time": "2022-10-27T09:16:08.665Z"
   },
   {
    "duration": 13,
    "start_time": "2022-10-27T09:16:08.669Z"
   },
   {
    "duration": 35,
    "start_time": "2022-10-27T09:16:08.684Z"
   },
   {
    "duration": 10,
    "start_time": "2022-10-27T09:16:08.721Z"
   },
   {
    "duration": 15,
    "start_time": "2022-10-27T09:16:08.733Z"
   },
   {
    "duration": 11,
    "start_time": "2022-10-27T09:16:13.165Z"
   },
   {
    "duration": 70,
    "start_time": "2022-10-27T09:22:32.860Z"
   },
   {
    "duration": 14,
    "start_time": "2022-10-27T09:22:32.932Z"
   },
   {
    "duration": 17,
    "start_time": "2022-10-27T09:22:32.948Z"
   },
   {
    "duration": 8,
    "start_time": "2022-10-27T09:22:32.984Z"
   },
   {
    "duration": 54,
    "start_time": "2022-10-27T09:22:32.994Z"
   },
   {
    "duration": 4,
    "start_time": "2022-10-27T09:22:33.049Z"
   },
   {
    "duration": 10,
    "start_time": "2022-10-27T09:22:33.054Z"
   },
   {
    "duration": 4,
    "start_time": "2022-10-27T09:22:33.066Z"
   },
   {
    "duration": 6,
    "start_time": "2022-10-27T09:22:33.071Z"
   },
   {
    "duration": 8,
    "start_time": "2022-10-27T09:22:33.118Z"
   },
   {
    "duration": 31,
    "start_time": "2022-10-27T09:22:33.128Z"
   },
   {
    "duration": 8,
    "start_time": "2022-10-27T09:22:33.161Z"
   },
   {
    "duration": 4,
    "start_time": "2022-10-27T09:22:33.170Z"
   },
   {
    "duration": 35,
    "start_time": "2022-10-27T09:22:33.176Z"
   },
   {
    "duration": 24,
    "start_time": "2022-10-27T09:22:33.214Z"
   },
   {
    "duration": 17,
    "start_time": "2022-10-27T09:22:33.240Z"
   },
   {
    "duration": 4,
    "start_time": "2022-10-27T09:22:33.259Z"
   },
   {
    "duration": 14,
    "start_time": "2022-10-27T09:22:33.265Z"
   },
   {
    "duration": 26,
    "start_time": "2022-10-27T09:22:33.280Z"
   },
   {
    "duration": 5,
    "start_time": "2022-10-27T09:22:33.310Z"
   },
   {
    "duration": 14,
    "start_time": "2022-10-27T09:22:33.319Z"
   },
   {
    "duration": 13,
    "start_time": "2022-10-27T09:22:33.335Z"
   },
   {
    "duration": 10,
    "start_time": "2022-10-27T09:22:33.350Z"
   },
   {
    "duration": 11,
    "start_time": "2022-10-27T09:22:33.362Z"
   },
   {
    "duration": 43,
    "start_time": "2022-10-27T09:22:33.375Z"
   },
   {
    "duration": 11,
    "start_time": "2022-10-27T09:22:33.420Z"
   },
   {
    "duration": 12,
    "start_time": "2022-10-27T10:15:12.010Z"
   },
   {
    "duration": 74,
    "start_time": "2022-10-27T10:31:06.839Z"
   }
  ],
  "colab": {
   "name": "dpp_template_part2.ipynb",
   "provenance": []
  },
  "kernelspec": {
   "display_name": "Python 3 (ipykernel)",
   "language": "python",
   "name": "python3"
  },
  "language_info": {
   "codemirror_mode": {
    "name": "ipython",
    "version": 3
   },
   "file_extension": ".py",
   "mimetype": "text/x-python",
   "name": "python",
   "nbconvert_exporter": "python",
   "pygments_lexer": "ipython3",
   "version": "3.9.13"
  },
  "toc": {
   "base_numbering": 1,
   "nav_menu": {},
   "number_sections": true,
   "sideBar": true,
   "skip_h1_title": true,
   "title_cell": "Table of Contents",
   "title_sidebar": "Contents",
   "toc_cell": false,
   "toc_position": {},
   "toc_section_display": true,
   "toc_window_display": false
  }
 },
 "nbformat": 4,
 "nbformat_minor": 5
}
